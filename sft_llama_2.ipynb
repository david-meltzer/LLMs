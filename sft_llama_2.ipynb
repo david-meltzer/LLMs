{
  "cells": [
    {
      "cell_type": "markdown",
      "metadata": {
        "id": "view-in-github",
        "colab_type": "text"
      },
      "source": [
        "<a href=\"https://colab.research.google.com/github/david-meltzer/LLMs/blob/main/sft_llama_2.ipynb\" target=\"_parent\"><img src=\"https://colab.research.google.com/assets/colab-badge.svg\" alt=\"Open In Colab\"/></a>"
      ]
    },
    {
      "cell_type": "markdown",
      "metadata": {
        "id": "50sCRlr2vbP7"
      },
      "source": [
        "#Dependecies"
      ]
    },
    {
      "cell_type": "code",
      "execution_count": null,
      "metadata": {
        "colab": {
          "base_uri": "https://localhost:8080/"
        },
        "id": "-OSucbzqphf8",
        "outputId": "48c91564-94e4-49ff-9482-859e3d4081ca"
      },
      "outputs": [
        {
          "output_type": "stream",
          "name": "stdout",
          "text": [
            "Drive already mounted at /content/drive; to attempt to forcibly remount, call drive.mount(\"/content/drive\", force_remount=True).\n"
          ]
        }
      ],
      "source": [
        "from google.colab import drive\n",
        "drive.mount('/content/drive')"
      ]
    },
    {
      "cell_type": "code",
      "execution_count": null,
      "metadata": {
        "colab": {
          "base_uri": "https://localhost:8080/"
        },
        "id": "yson3GOrpkhK",
        "outputId": "58e89abe-d309-4aa2-b077-9a1fc99f4be3"
      },
      "outputs": [
        {
          "output_type": "stream",
          "name": "stdout",
          "text": [
            "/content/drive/MyDrive/SFT\n"
          ]
        }
      ],
      "source": [
        "%cd drive/MyDrive/SFT"
      ]
    },
    {
      "cell_type": "code",
      "execution_count": null,
      "metadata": {
        "colab": {
          "base_uri": "https://localhost:8080/"
        },
        "id": "juVsG32qpq_I",
        "outputId": "4f28a237-7edb-4282-fad7-67044084ea26"
      },
      "outputs": [
        {
          "output_type": "stream",
          "name": "stdout",
          "text": [
            "\u001b[0m\u001b[01;34martifacts\u001b[0m/         requirements.txt   \u001b[01;34mutils\u001b[0m/\n",
            "\u001b[01;34mfinetuned_models\u001b[0m/  sft_llama-2.ipynb  \u001b[01;34mwandb\u001b[0m/\n"
          ]
        }
      ],
      "source": [
        "%ls"
      ]
    },
    {
      "cell_type": "code",
      "execution_count": null,
      "metadata": {
        "id": "-SZR6aYqCm9E"
      },
      "outputs": [],
      "source": [
        "!pip install -qqqU -r requirements.txt\n",
        "!pip install -qqqU datasets trl"
      ]
    },
    {
      "cell_type": "code",
      "execution_count": null,
      "metadata": {
        "id": "uICeflp8gLwz",
        "colab": {
          "base_uri": "https://localhost:8080/"
        },
        "outputId": "833ab729-af60-4035-d6f8-dec4cd9eaf4d"
      },
      "outputs": [
        {
          "output_type": "stream",
          "name": "stdout",
          "text": [
            "\n",
            "===================================BUG REPORT===================================\n",
            "Welcome to bitsandbytes. For bug reports, please run\n",
            "\n",
            "python -m bitsandbytes\n",
            "\n",
            " and submit this information together with your error trace to: https://github.com/TimDettmers/bitsandbytes/issues\n",
            "================================================================================\n",
            "bin /usr/local/lib/python3.10/dist-packages/bitsandbytes/libbitsandbytes_cuda118.so\n",
            "CUDA_SETUP: WARNING! libcudart.so not found in any environmental path. Searching in backup paths...\n",
            "CUDA SETUP: CUDA runtime path found: /usr/local/cuda/lib64/libcudart.so.11.0\n",
            "CUDA SETUP: Highest compute capability among GPUs detected: 8.0\n",
            "CUDA SETUP: Detected CUDA version 118\n",
            "CUDA SETUP: Loading binary /usr/local/lib/python3.10/dist-packages/bitsandbytes/libbitsandbytes_cuda118.so...\n"
          ]
        },
        {
          "output_type": "stream",
          "name": "stderr",
          "text": [
            "/usr/local/lib/python3.10/dist-packages/bitsandbytes/cuda_setup/main.py:149: UserWarning: /usr/lib64-nvidia did not contain ['libcudart.so', 'libcudart.so.11.0', 'libcudart.so.12.0'] as expected! Searching further paths...\n",
            "  warn(msg)\n",
            "/usr/local/lib/python3.10/dist-packages/bitsandbytes/cuda_setup/main.py:149: UserWarning: WARNING: The following directories listed in your path were found to be non-existent: {PosixPath('/sys/fs/cgroup/memory.events /var/colab/cgroup/jupyter-children/memory.events')}\n",
            "  warn(msg)\n",
            "/usr/local/lib/python3.10/dist-packages/bitsandbytes/cuda_setup/main.py:149: UserWarning: WARNING: The following directories listed in your path were found to be non-existent: {PosixPath('http'), PosixPath('//172.28.0.1'), PosixPath('8013')}\n",
            "  warn(msg)\n",
            "/usr/local/lib/python3.10/dist-packages/bitsandbytes/cuda_setup/main.py:149: UserWarning: WARNING: The following directories listed in your path were found to be non-existent: {PosixPath('//colab.research.google.com/tun/m/cc48301118ce562b961b3c22d803539adc1e0c19/gpu-a100-s-2ehsmgmwfwmc7 --tunnel_background_save_delay=10s --tunnel_periodic_background_save_frequency=30m0s --enable_output_coalescing=true --output_coalescing_required=true'), PosixPath('--logtostderr --listen_host=172.28.0.12 --target_host=172.28.0.12 --tunnel_background_save_url=https')}\n",
            "  warn(msg)\n",
            "/usr/local/lib/python3.10/dist-packages/bitsandbytes/cuda_setup/main.py:149: UserWarning: WARNING: The following directories listed in your path were found to be non-existent: {PosixPath('/env/python')}\n",
            "  warn(msg)\n",
            "/usr/local/lib/python3.10/dist-packages/bitsandbytes/cuda_setup/main.py:149: UserWarning: WARNING: The following directories listed in your path were found to be non-existent: {PosixPath('//ipykernel.pylab.backend_inline'), PosixPath('module')}\n",
            "  warn(msg)\n",
            "/usr/local/lib/python3.10/dist-packages/bitsandbytes/cuda_setup/main.py:149: UserWarning: Found duplicate ['libcudart.so', 'libcudart.so.11.0', 'libcudart.so.12.0'] files: {PosixPath('/usr/local/cuda/lib64/libcudart.so.11.0'), PosixPath('/usr/local/cuda/lib64/libcudart.so')}.. We'll flip a coin and try one of these, in order to fail forward.\n",
            "Either way, this might cause trouble in the future:\n",
            "If you get `CUDA error: invalid device function` errors, the above might be the cause and the solution is to make sure only one ['libcudart.so', 'libcudart.so.11.0', 'libcudart.so.12.0'] in the paths that we search based on your env.\n",
            "  warn(msg)\n"
          ]
        }
      ],
      "source": [
        "import torch, datasets, accelerate, transformers, evaluate, gc\n",
        "import bitsandbytes as bnb\n",
        "\n",
        "from transformers import (AutoTokenizer,\n",
        "                          AutoModelForCausalLM,\n",
        "                          GenerationConfig,\n",
        "                          Trainer,\n",
        "                          TrainingArguments,\n",
        "                          DataCollatorForLanguageModeling,\n",
        "                          BitsAndBytesConfig)\n",
        "\n",
        "from peft import (LoraConfig,\n",
        "                  get_peft_model,\n",
        "                  prepare_model_for_kbit_training)\n",
        "\n",
        "from trl import (SFTTrainer,\n",
        "                 DataCollatorForCompletionOnlyLM)\n",
        "\n",
        "from google.colab import runtime"
      ]
    },
    {
      "cell_type": "code",
      "execution_count": null,
      "metadata": {
        "id": "k_livxLpmJqs"
      },
      "outputs": [],
      "source": [
        "# !python -c \"import torch; assert torch.cuda.get_device_capability()[0] >= 8, 'Hardware not supported for Flash Attention'\"\n",
        "# !pip install -qqqU ninja packaging\n",
        "# !MAX_JOBS=4 pip install flash-attn -qqqU --no-build-isolation\n",
        "\n",
        "# use_flash_attention = False\n",
        "\n",
        "# if torch.cuda.get_device_capability()[0] >= 8:\n",
        "#     from utils.llama_patch import replace_attn_with_flash_attn\n",
        "#     print(\"Using flash attention\")\n",
        "#     replace_attn_with_flash_attn()\n",
        "#     use_flash_attention = True"
      ]
    },
    {
      "cell_type": "code",
      "execution_count": null,
      "metadata": {
        "id": "lFifz7ePgae9"
      },
      "outputs": [],
      "source": [
        "from pprint import pprint\n",
        "\n",
        "def pp(x):\n",
        "  pprint(x, compact = True, width = 150)\n",
        "\n",
        "def cleanup(x):\n",
        "    if x == 'memory':\n",
        "        gc.collect()\n",
        "        torch.cuda.empty_cache()\n",
        "    elif x == 'runtime':\n",
        "        runtime.unassign()"
      ]
    },
    {
      "cell_type": "code",
      "execution_count": null,
      "metadata": {
        "colab": {
          "base_uri": "https://localhost:8080/",
          "height": 145,
          "referenced_widgets": [
            "cd4212404fc04c83aacf091512a2de0e",
            "725453a30b774a70b96e638352b0ba8c",
            "26b95320b74949d39b81261692c5d302",
            "8f0a83ec7ebf448f8eecca44c9c76eeb",
            "6837470881274a849fc5fefae5b0477d",
            "9e1143a8706d4238b8ba45a27d558ff0",
            "a244ee4553424eada79fe10d04050b4b",
            "d8fd6e681ba948afa81346296154abca",
            "f2e2ef05901c42b79ce786a84a238b97",
            "00686bd18d2946a886ae16bc427ab02d",
            "917bb7bf9e6142d4b8bd85026f4cad0c",
            "e64c0fbb3e03447fb13a8e80e7a7e113",
            "5431bc1fc9bc475eb0228f5efc3f16ae",
            "3533b9156c894223a837c17dc1c062ab",
            "d868a40b9cd540d79116fbf6c83f4d10",
            "9c4d0738e81c4ca6ab2c18a537c6a987",
            "3461911249444e63a8aad80b8fcd5d26",
            "78c9ca88bce443ac8c1836e502ee978d",
            "ada25233901b4415ae253324f9af5b33",
            "8031dbb45cbf46e1b3714e483080988f",
            "f3bf0c04f4fd4082bb3ef177a84c7491",
            "94c65f134a2843d0b8c477aa9a6c765c",
            "d899be12065646588c74b861d2974c9f",
            "6d9fbe553d67446fbab7b97994939bae",
            "c43f5a8ada744bca99eaea8a384b48bc",
            "52c66d6e78454c6fae222e2afb816755",
            "fb8d58a501e7442d8a9c5a80e728c199",
            "9f914fba6bff4209856e9bd454d28144",
            "0a9bef326cc34605adc584d5a0a75e2b",
            "88540d2bc30e4ef78843494a98b283ed",
            "08147cb710ed47d2a52c985256003b9d",
            "0738cbc6872f432f99fec7245ae8f58f"
          ]
        },
        "id": "qOe5CYmxKNgw",
        "outputId": "ed6714fe-0630-4a7a-cb55-e882c0ed9421"
      },
      "outputs": [
        {
          "output_type": "display_data",
          "data": {
            "text/plain": [
              "VBox(children=(HTML(value='<center> <img\\nsrc=https://huggingface.co/front/assets/huggingface_logo-noborder.sv…"
            ],
            "application/vnd.jupyter.widget-view+json": {
              "version_major": 2,
              "version_minor": 0,
              "model_id": "cd4212404fc04c83aacf091512a2de0e"
            }
          },
          "metadata": {}
        }
      ],
      "source": [
        "from huggingface_hub import login\n",
        "login()"
      ]
    },
    {
      "cell_type": "code",
      "execution_count": null,
      "metadata": {
        "colab": {
          "base_uri": "https://localhost:8080/",
          "height": 70
        },
        "id": "B0SsQTz2p1Gu",
        "outputId": "b39ac561-41b4-4da3-9029-e1a397024354"
      },
      "outputs": [
        {
          "output_type": "display_data",
          "data": {
            "text/plain": [
              "<IPython.core.display.Javascript object>"
            ],
            "application/javascript": [
              "\n",
              "        window._wandbApiKey = new Promise((resolve, reject) => {\n",
              "            function loadScript(url) {\n",
              "            return new Promise(function(resolve, reject) {\n",
              "                let newScript = document.createElement(\"script\");\n",
              "                newScript.onerror = reject;\n",
              "                newScript.onload = resolve;\n",
              "                document.body.appendChild(newScript);\n",
              "                newScript.src = url;\n",
              "            });\n",
              "            }\n",
              "            loadScript(\"https://cdn.jsdelivr.net/npm/postmate/build/postmate.min.js\").then(() => {\n",
              "            const iframe = document.createElement('iframe')\n",
              "            iframe.style.cssText = \"width:0;height:0;border:none\"\n",
              "            document.body.appendChild(iframe)\n",
              "            const handshake = new Postmate({\n",
              "                container: iframe,\n",
              "                url: 'https://wandb.ai/authorize'\n",
              "            });\n",
              "            const timeout = setTimeout(() => reject(\"Couldn't auto authenticate\"), 5000)\n",
              "            handshake.then(function(child) {\n",
              "                child.on('authorize', data => {\n",
              "                    clearTimeout(timeout)\n",
              "                    resolve(data)\n",
              "                });\n",
              "            });\n",
              "            })\n",
              "        });\n",
              "    "
            ]
          },
          "metadata": {}
        },
        {
          "output_type": "stream",
          "name": "stderr",
          "text": [
            "\u001b[34m\u001b[1mwandb\u001b[0m: Appending key for api.wandb.ai to your netrc file: /root/.netrc\n"
          ]
        },
        {
          "output_type": "execute_result",
          "data": {
            "text/plain": [
              "True"
            ]
          },
          "metadata": {},
          "execution_count": 8
        }
      ],
      "source": [
        "import wandb\n",
        "wandb.login()"
      ]
    },
    {
      "cell_type": "markdown",
      "metadata": {
        "id": "RPCmEWx9ifH9"
      },
      "source": [
        "#Dataset"
      ]
    },
    {
      "cell_type": "code",
      "execution_count": null,
      "metadata": {
        "id": "6ZOy7y4giecw"
      },
      "outputs": [],
      "source": [
        "wandb_api = wandb.Api()\n",
        "artifact = wandb_api.artifact('ft-llmmm/ELI5_analysis/combined_dataset:v5', type='dataset')\n",
        "artifact_dir = artifact.download()"
      ]
    },
    {
      "cell_type": "code",
      "execution_count": null,
      "metadata": {
        "id": "9ctTUMl3qgjF"
      },
      "outputs": [],
      "source": [
        "artifact_dir = './artifacts/combined_dataset:v5'"
      ]
    },
    {
      "cell_type": "code",
      "execution_count": null,
      "metadata": {
        "colab": {
          "base_uri": "https://localhost:8080/"
        },
        "id": "gXf2mveKD0pI",
        "outputId": "d5761643-1678-46e1-ea55-c49afafb4bf0"
      },
      "outputs": [
        {
          "data": {
            "text/plain": [
              "DatasetDict({\n",
              "    train: Dataset({\n",
              "        features: ['question', 'answer', 'source', 'QA'],\n",
              "        num_rows: 72214\n",
              "    })\n",
              "    validation: Dataset({\n",
              "        features: ['question', 'answer', 'source', 'QA'],\n",
              "        num_rows: 1964\n",
              "    })\n",
              "    test: Dataset({\n",
              "        features: ['question', 'answer', 'source', 'QA'],\n",
              "        num_rows: 3301\n",
              "    })\n",
              "})"
            ]
          },
          "execution_count": 16,
          "metadata": {},
          "output_type": "execute_result"
        }
      ],
      "source": [
        "from datasets import load_from_disk\n",
        "\n",
        "data = load_from_disk(artifact_dir)\n",
        "data"
      ]
    },
    {
      "cell_type": "code",
      "execution_count": null,
      "metadata": {
        "id": "qu_zpo_8ppjb"
      },
      "outputs": [],
      "source": [
        "#Add QA number of words to the dataset\n",
        "\n",
        "def add_num_words(example):\n",
        "    example['num_words'] = len(example['QA'].split())\n",
        "    return example"
      ]
    },
    {
      "cell_type": "code",
      "execution_count": null,
      "metadata": {
        "colab": {
          "base_uri": "https://localhost:8080/"
        },
        "id": "toS6LC_fpuiV",
        "outputId": "01c8d97e-0a89-4020-aae3-01c6da0e1a1b"
      },
      "outputs": [
        {
          "data": {
            "text/plain": [
              "DatasetDict({\n",
              "    train: Dataset({\n",
              "        features: ['question', 'answer', 'source', 'QA', 'num_words'],\n",
              "        num_rows: 68587\n",
              "    })\n",
              "    validation: Dataset({\n",
              "        features: ['question', 'answer', 'source', 'QA', 'num_words'],\n",
              "        num_rows: 1890\n",
              "    })\n",
              "    test: Dataset({\n",
              "        features: ['question', 'answer', 'source', 'QA', 'num_words'],\n",
              "        num_rows: 3107\n",
              "    })\n",
              "})"
            ]
          },
          "execution_count": 18,
          "metadata": {},
          "output_type": "execute_result"
        }
      ],
      "source": [
        "data = data.map(add_num_words)\n",
        "data = data.filter(lambda x : x['num_words'] < 400)\n",
        "data"
      ]
    },
    {
      "cell_type": "code",
      "execution_count": null,
      "metadata": {
        "colab": {
          "base_uri": "https://localhost:8080/",
          "height": 113,
          "referenced_widgets": [
            "18cf465a691445d8884ddc6bb6cc799f",
            "b35862103c4347e3a7426088e4003dcb",
            "71bb11330252417e982490ad843dfef7",
            "a2795d52a9454466be6afda4772922d0",
            "1b47c1d896ee46b4b062fc98f89892d3",
            "5fff9aa04919476ea27727e742227a0c",
            "032e934b509a46f4abc2be83d294add8",
            "a3c9bb5b7b1a485d848cdd495c32843b",
            "49f6135fe5c240de97dbf97994fb51dc",
            "1280cc2e8ece413bb0de4874d6f48e77",
            "e8f7932958ca484aabb8a6c9859481c7",
            "8611a91071444b798b1f21a4478010a5",
            "a0f966b768cc4073ba1334e6ee1a24d6",
            "82519655920e408fba5fda5129c8008a",
            "e603632c49184b8281fac18bf4538660",
            "d7f803f07d06416990e8360cfaca08f5",
            "2cacd9d7d6b6414ead923b4ef828bba1",
            "5bbb5d226a33428bacecdac21f5c5122",
            "4960ef2f99364e5e8bb9545a9f26d870",
            "29cba7f57f9b4638b0931341ed7d41a2",
            "b2568f8fdb014771802a160f51cab4b0",
            "1b917909b36e4b00aa00013c5c689e0a",
            "6ff2e69b77394c54a2c1ea0c7a02d0f3",
            "f1af81b9cb3e48f38af79d319ffcaafa",
            "a97cb6b8ae334b5bb032ca9697188c16",
            "7dde2e15cc364c7abe32a726fe2a2609",
            "74dccd803ece4811964765e750497d99",
            "29a38a25fd114086a63f0294900f57ea",
            "a332f568687f4ff69424b763ed9a530d",
            "32de91eba8c3405cac6313682f0b3c46",
            "1b3c02a7f690415199823cdc68800e1c",
            "4d204e7f872045b5824b519e268e760d",
            "fa5b6b19a42b480bb03639e98245727e"
          ]
        },
        "id": "q3Q401suVUKa",
        "outputId": "51a88eb6-c47f-48db-f2df-d24060684f65"
      },
      "outputs": [
        {
          "data": {
            "application/vnd.jupyter.widget-view+json": {
              "model_id": "18cf465a691445d8884ddc6bb6cc799f",
              "version_major": 2,
              "version_minor": 0
            },
            "text/plain": [
              "Saving the dataset (0/1 shards):   0%|          | 0/68587 [00:00<?, ? examples/s]"
            ]
          },
          "metadata": {},
          "output_type": "display_data"
        },
        {
          "data": {
            "application/vnd.jupyter.widget-view+json": {
              "model_id": "8611a91071444b798b1f21a4478010a5",
              "version_major": 2,
              "version_minor": 0
            },
            "text/plain": [
              "Saving the dataset (0/1 shards):   0%|          | 0/1890 [00:00<?, ? examples/s]"
            ]
          },
          "metadata": {},
          "output_type": "display_data"
        },
        {
          "data": {
            "application/vnd.jupyter.widget-view+json": {
              "model_id": "6ff2e69b77394c54a2c1ea0c7a02d0f3",
              "version_major": 2,
              "version_minor": 0
            },
            "text/plain": [
              "Saving the dataset (0/1 shards):   0%|          | 0/3107 [00:00<?, ? examples/s]"
            ]
          },
          "metadata": {},
          "output_type": "display_data"
        }
      ],
      "source": [
        "data.save_to_disk('artifacts/wiki+eli5<400')"
      ]
    },
    {
      "cell_type": "code",
      "execution_count": null,
      "metadata": {
        "id": "3-MtQSfgakje"
      },
      "outputs": [],
      "source": [
        "from datasets import load_from_disk\n",
        "data = load_from_disk('artifacts/wiki+eli5<400')"
      ]
    },
    {
      "cell_type": "code",
      "execution_count": null,
      "metadata": {
        "colab": {
          "base_uri": "https://localhost:8080/"
        },
        "id": "rTJWK8yHqXjK",
        "outputId": "7c6b7f44-4011-44be-b04e-f33e4b21f088"
      },
      "outputs": [
        {
          "output_type": "execute_result",
          "data": {
            "text/plain": [
              "DatasetDict({\n",
              "    train: Dataset({\n",
              "        features: ['question', 'answer', 'source', 'QA', 'num_words'],\n",
              "        num_rows: 29987\n",
              "    })\n",
              "    validation: Dataset({\n",
              "        features: ['question', 'answer', 'source', 'QA', 'num_words'],\n",
              "        num_rows: 1000\n",
              "    })\n",
              "    test: Dataset({\n",
              "        features: ['question', 'answer', 'source', 'QA', 'num_words'],\n",
              "        num_rows: 1000\n",
              "    })\n",
              "})"
            ]
          },
          "metadata": {},
          "execution_count": 10
        }
      ],
      "source": [
        "wiki = data.filter(lambda example : example['source'] == 'simple_wiki')\n",
        "wiki"
      ]
    },
    {
      "cell_type": "code",
      "execution_count": null,
      "metadata": {
        "colab": {
          "base_uri": "https://localhost:8080/"
        },
        "id": "F2baYh0oPZ6P",
        "outputId": "7bb229a0-81d3-48ea-adbd-9e91f26d8b2e"
      },
      "outputs": [
        {
          "output_type": "execute_result",
          "data": {
            "text/plain": [
              "DatasetDict({\n",
              "    train: Dataset({\n",
              "        features: ['question', 'answer', 'source', 'QA', 'num_words'],\n",
              "        num_rows: 38600\n",
              "    })\n",
              "    validation: Dataset({\n",
              "        features: ['question', 'answer', 'source', 'QA', 'num_words'],\n",
              "        num_rows: 890\n",
              "    })\n",
              "    test: Dataset({\n",
              "        features: ['question', 'answer', 'source', 'QA', 'num_words'],\n",
              "        num_rows: 2107\n",
              "    })\n",
              "})"
            ]
          },
          "metadata": {},
          "execution_count": 11
        }
      ],
      "source": [
        "eli5 = data.filter(lambda example : example['source'] == 'ELI5')\n",
        "eli5"
      ]
    },
    {
      "cell_type": "markdown",
      "metadata": {
        "id": "BFqMYcFkT4XO"
      },
      "source": [
        "#Tokenizer, formatting, collator"
      ]
    },
    {
      "cell_type": "code",
      "execution_count": null,
      "metadata": {
        "colab": {
          "base_uri": "https://localhost:8080/",
          "height": 145,
          "referenced_widgets": [
            "9d5c0b469bd643948736244c5e9dab10",
            "6957067c0dcb497a9785e52792e6bfff",
            "85dd4e8078be4030b66f2ec80ef439c4",
            "e1439cc990ed40c6886ac48a27804e9e",
            "f28f2de9e7144c73862ac6f671891d7f",
            "c0b6568c2fc649f5b8c68f52e816b9e6",
            "595e5d1c93f6487885708749dca010a5",
            "0e2d135a667046b9bb7097a0908e5339",
            "e092310f1c1f4f3b91e8d563947144e3",
            "ed2eeb57d25948219420f87f2d3048fe",
            "82dfbd9d3a044c429f849c6480fbec0c",
            "8a1eb3753ade410b8b65153894849cbb",
            "f1203efedbab40dfb9b5e68bdb420c44",
            "117009abed99412aae7bcfb713ed0e83",
            "c65c11a1c54c4a0b9e249e0ac3edff51",
            "6dcb100f08a242799488d893e13bcb01",
            "c779371110b641da88b3c0224ceeedc8",
            "7277f2103e184e718225311bbf9d0508",
            "e53e7011018c4fb1a5d7a0b5c6dfc7ef",
            "8922d7d0e5184deb8f17928fe502e6b8",
            "4f94b183add6442f81df06192fbaf5b0",
            "176f1d8bc58c49449cf36817abc5a129",
            "bcc18683567c46eda676e58635c37cd5",
            "4e9bee7e8e0f4c828efd91ff13ad9358",
            "a11b82fd3fb8424eba23492892629330",
            "b07d7e6f4c4b4c378fc96d467eaf836c",
            "052b6ff7033842dba57c25c84aaf596a",
            "0f289d15d8524709b06420516643f802",
            "b65345f447e84e488a2664ee5b803958",
            "3ce5b5ee82784264a12d728f7a4487c8",
            "d2239f2eb1ac4fd08da9e8bff58f026c",
            "086844c13353406bb774df20674dbbf5",
            "0814d764ebd2478aaa9b482f67e4c574",
            "41fee4f35c0b48c48105562c31c8cd67",
            "5a96a26331ce4a908206882152ab4d83",
            "48bc9a0e8b8342e3a4eb3d0e391d7379",
            "569282986b424054988aefa4ca918315",
            "8470aea462754c4a8659b0d8f2f8e60d",
            "9ccef3f9f934407791f93dab28ac131f",
            "4601f93a051d4c73b0b9b671b2f5beb1",
            "1b5e3c6df2264485888902fa9e5ae4ff",
            "36e3b32e27db4378a6235c526f036b29",
            "58bbc2b1e40647d19dff125b820936d2",
            "5f33a416f40d4f86b8e55ae17ca8f1c6"
          ]
        },
        "id": "Jf9caNdpT5u4",
        "outputId": "1bd7da8c-59cd-48bf-8bbe-b3a4c9ba2561"
      },
      "outputs": [
        {
          "output_type": "display_data",
          "data": {
            "text/plain": [
              "Downloading (…)okenizer_config.json:   0%|          | 0.00/776 [00:00<?, ?B/s]"
            ],
            "application/vnd.jupyter.widget-view+json": {
              "version_major": 2,
              "version_minor": 0,
              "model_id": "9d5c0b469bd643948736244c5e9dab10"
            }
          },
          "metadata": {}
        },
        {
          "output_type": "display_data",
          "data": {
            "text/plain": [
              "Downloading tokenizer.model:   0%|          | 0.00/500k [00:00<?, ?B/s]"
            ],
            "application/vnd.jupyter.widget-view+json": {
              "version_major": 2,
              "version_minor": 0,
              "model_id": "8a1eb3753ade410b8b65153894849cbb"
            }
          },
          "metadata": {}
        },
        {
          "output_type": "display_data",
          "data": {
            "text/plain": [
              "Downloading (…)/main/tokenizer.json:   0%|          | 0.00/1.84M [00:00<?, ?B/s]"
            ],
            "application/vnd.jupyter.widget-view+json": {
              "version_major": 2,
              "version_minor": 0,
              "model_id": "bcc18683567c46eda676e58635c37cd5"
            }
          },
          "metadata": {}
        },
        {
          "output_type": "display_data",
          "data": {
            "text/plain": [
              "Downloading (…)cial_tokens_map.json:   0%|          | 0.00/414 [00:00<?, ?B/s]"
            ],
            "application/vnd.jupyter.widget-view+json": {
              "version_major": 2,
              "version_minor": 0,
              "model_id": "41fee4f35c0b48c48105562c31c8cd67"
            }
          },
          "metadata": {}
        }
      ],
      "source": [
        "model_id = 'meta-llama/Llama-2-7b-hf'\n",
        "\n",
        "tokenizer = AutoTokenizer.from_pretrained(model_id)\n",
        "tokenizer.pad_token = tokenizer.eos_token"
      ]
    },
    {
      "cell_type": "code",
      "execution_count": null,
      "metadata": {
        "id": "fzZMEyTaBMbP"
      },
      "outputs": [],
      "source": [
        "# set up the collator\n",
        "\n",
        "def formatting_prompts_func(example):\n",
        "    output_texts = []\n",
        "    for i in range(len(example['question'])):\n",
        "        text = f\"### Human: {example['question'][i]}\\n ### Assistant: {example['answer'][i]}\"\n",
        "        output_texts.append(text)\n",
        "    return output_texts\n",
        "\n",
        "response_template = \"### Assistant:\"\n",
        "collator = DataCollatorForCompletionOnlyLM(response_template=response_template, tokenizer=tokenizer)"
      ]
    },
    {
      "cell_type": "markdown",
      "metadata": {
        "id": "yjgGjxJJwThw"
      },
      "source": [
        "##Word length statistics"
      ]
    },
    {
      "cell_type": "code",
      "execution_count": null,
      "metadata": {
        "id": "W2wLuAtoo16B"
      },
      "outputs": [],
      "source": [
        "# data_sorted = data.sort('num_words')\n",
        "\n",
        "# import numpy as np\n",
        "# len_stat = np.zeros((3,400))\n",
        "# split_names = {'train' : 0, 'validation' : 1 , 'test' : 2}\n",
        "\n",
        "# for k, v in split_names.items():\n",
        "#     lengths = np.array(data_sorted[k]['num_words'])\n",
        "#     len_stat[v] = np.array([lengths[lengths ==n].shape[0] for n in range(400)] )\n",
        "\n",
        "# import matplotlib.pyplot as plt\n",
        "\n",
        "# fig, axs = plt.subplots(1,3, figsize=(10, 3))\n",
        "# fig.suptitle('Number of words distibution')\n",
        "\n",
        "# for k, v  in split_names.items():\n",
        "\n",
        "#   axs[v].plot(len_stat[v, :])\n",
        "#   axs[v].set_title(k + ' dataset')\n",
        "#   if v ==0:\n",
        "#     axs[v].set_xlabel('Number of words')\n",
        "#     axs[v].set_ylabel('Number of examples')\n",
        "\n",
        "# plt.tight_layout()"
      ]
    },
    {
      "cell_type": "markdown",
      "metadata": {
        "id": "jBQSWIRjTMH4"
      },
      "source": [
        "#Model setup"
      ]
    },
    {
      "cell_type": "code",
      "execution_count": null,
      "metadata": {
        "id": "pjCxHokNQ-rF"
      },
      "outputs": [],
      "source": [
        "def print_trainable_parameters(model):\n",
        "    \"\"\"\n",
        "    Prints the number of trainable parameters in the model.\n",
        "    \"\"\"\n",
        "    trainable_params = 0\n",
        "    all_param = 0\n",
        "    for _, param in model.named_parameters():\n",
        "        all_param += param.numel()\n",
        "        if param.requires_grad:\n",
        "            trainable_params += param.numel()\n",
        "    print(\n",
        "        f\"trainable params: {trainable_params} || all params: {all_param} || trainable%: {100 * trainable_params / all_param}\"\n",
        "    )"
      ]
    },
    {
      "cell_type": "code",
      "execution_count": null,
      "metadata": {
        "id": "yoB7Q7Vkov6p"
      },
      "outputs": [],
      "source": [
        "def find_all_linear_names(model):\n",
        "    lora_module_names = set()\n",
        "    for name, module in model.named_modules():\n",
        "        if isinstance(module, bnb.nn.Linear4bit):\n",
        "            names = name.split(\".\")\n",
        "            lora_module_names.add(names[0] if len(names) == 1 else names[-1])\n",
        "\n",
        "    if \"lm_head\" in lora_module_names:\n",
        "        lora_module_names.remove(\"lm_head\")\n",
        "    return list(lora_module_names)"
      ]
    },
    {
      "cell_type": "code",
      "execution_count": null,
      "metadata": {
        "id": "SaoFzPsGAbui"
      },
      "outputs": [],
      "source": [
        "def prepare_quant_model(model_id = model_id):\n",
        "\n",
        "    nf4_config = BitsAndBytesConfig(load_in_4bit=True,\n",
        "                                    bnb_4bit_quant_type=\"nf4\",\n",
        "                                    bnb_4bit_use_double_quant=True,\n",
        "                                    bnb_4bit_compute_dtype=torch.bfloat16\n",
        "                                    )\n",
        "\n",
        "    model = AutoModelForCausalLM.from_pretrained(model_id,\n",
        "                                                quantization_config=nf4_config,\n",
        "                                                use_cache=False,\n",
        "                                                device_map='auto',\n",
        "                                                torch_dtype = torch.bfloat16\n",
        "                                                )\n",
        "    model.config.pretraining_tp = 1\n",
        "\n",
        "    # if use_flash_attention:\n",
        "    #     from utils.llama_patch import forward\n",
        "    #     assert model.model.layers[0].self_attn.forward.__doc__ == forward.__doc__, \"Model is not using flash attention\"\n",
        "\n",
        "\n",
        "    model.gradient_checkpointing_enable()\n",
        "    model = prepare_model_for_kbit_training(model)\n",
        "\n",
        "    # if use_flash_attention:\n",
        "    #     from utils.llama_patch import upcast_layer_for_flash_attention\n",
        "    #     model = upcast_layer_for_flash_attention(model, torch.bfloat16)\n",
        "\n",
        "    return model\n",
        "\n",
        "def get_lora_model(model, lora_rank = 32):\n",
        "\n",
        "    config = LoraConfig(r=lora_rank,\n",
        "                        lora_alpha=32,\n",
        "                        target_modules=find_all_linear_names(model),\n",
        "                        lora_dropout=0.1,\n",
        "                        bias=\"none\",\n",
        "                        task_type=\"CAUSAL_LM\")\n",
        "\n",
        "    model = get_peft_model(model, config)\n",
        "\n",
        "    return model"
      ]
    },
    {
      "cell_type": "markdown",
      "metadata": {
        "id": "-aa8XyrATQ7P"
      },
      "source": [
        "#Training"
      ]
    },
    {
      "cell_type": "code",
      "execution_count": null,
      "metadata": {
        "colab": {
          "base_uri": "https://localhost:8080/"
        },
        "id": "8YCsXnMi9zzw",
        "outputId": "ebe4bc6b-a24f-44ec-a4c0-0bea6834cb89"
      },
      "outputs": [
        {
          "output_type": "stream",
          "name": "stdout",
          "text": [
            "env: WANDB_PROJECT=sft_llama_bm\n"
          ]
        }
      ],
      "source": [
        "%env WANDB_PROJECT=sft_llama_bm\n",
        "WANDB_LOG_MODEL=\"checkpoint\""
      ]
    },
    {
      "cell_type": "code",
      "execution_count": null,
      "metadata": {
        "id": "Jh_gl1iRSvuw"
      },
      "outputs": [],
      "source": [
        "def training_args_config(lora_rank = 32,\n",
        "                         num_epochs = 1,\n",
        "                         lr = 1e-3,\n",
        "                         weight_decay = 0.1,\n",
        "                         batch_size = 8,\n",
        "                         gradient_accumulation_steps = 4,\n",
        "                         group_by_length = True,\n",
        "                         eval_steps = 500,\n",
        "                         find_batch_size = True,\n",
        "                         lr_schedule = 'linear',\n",
        "                         output_dir = 'finetuned_models/llama',\n",
        "                         run_name = None\n",
        "                         ):\n",
        "\n",
        "    params = {\n",
        "\n",
        "    #-----training----------------\n",
        "    'num_train_epochs' : num_epochs,\n",
        "    'learning_rate' : lr,\n",
        "    'weight_decay' : weight_decay,\n",
        "    'dataloader_num_workers' : 4,\n",
        "    'per_device_train_batch_size' : batch_size,\n",
        "    'per_device_eval_batch_size' : batch_size,\n",
        "    'group_by_length' : group_by_length,\n",
        "    'auto_find_batch_size' : find_batch_size,\n",
        "    'lr_scheduler_type' : lr_schedule,\n",
        "\n",
        "    #-----efficient training-----\n",
        "    'gradient_accumulation_steps' : gradient_accumulation_steps,\n",
        "    'gradient_checkpointing' : True,\n",
        "    'optim' : 'paged_adamw_8bit',\n",
        "    'bf16' : True,\n",
        "\n",
        "    #-----logging----------------\n",
        "    'report_to' : 'wandb',\n",
        "    'output_dir' : output_dir,\n",
        "\n",
        "    'evaluation_strategy' : \"steps\",\n",
        "    'eval_steps' : eval_steps,\n",
        "\n",
        "    'logging_strategy' : 'steps',\n",
        "    'logging_steps' : eval_steps,\n",
        "\n",
        "    'save_strategy' : \"steps\",\n",
        "    'save_steps' : eval_steps,\n",
        "\n",
        "    'save_total_limit' : 2,\n",
        "    'load_best_model_at_end' : True,\n",
        "    'metric_for_best_model' : \"eval_loss\",\n",
        "    'greater_is_better' : False,\n",
        "\n",
        "    'run_name' : f'r{lora_rank}_lr{lr:.0e}_wd{weight_decay}_bs{batch_size}' + ('_' + run_name if run_name is not None else ''),\n",
        "    }\n",
        "\n",
        "    params['output_dir'] = params['output_dir'] + '/' + params['run_name']\n",
        "\n",
        "    return params"
      ]
    },
    {
      "cell_type": "code",
      "execution_count": null,
      "metadata": {
        "colab": {
          "base_uri": "https://localhost:8080/",
          "height": 49,
          "referenced_widgets": [
            "7ac67890316f4559b3005fc367f86401",
            "3d0d8e325fb64e96b2039772c365f8c1",
            "26a60f249219484d8dc47b64bb4cc678",
            "9aa538ae09ce4175acada806e2be42e3",
            "95df7fbd679c46aabedb54ca17bdab48",
            "31cd0e4676c948cda28595782bb54bfb",
            "9bc5cb9926694ff8bec35cbfad380a90",
            "accef4ce68024779a9d233e0175b799e",
            "edd476981b2047d49d1099974c26296e",
            "bd70756ed4e24955ab312889f1e8b54f",
            "afa6ea55b2f54635abec10b629dc340b"
          ]
        },
        "id": "W46Zk_n36Zic",
        "outputId": "5ae017f7-86c6-4f60-88e0-b6590fd5c582"
      },
      "outputs": [
        {
          "output_type": "display_data",
          "data": {
            "text/plain": [
              "Loading checkpoint shards:   0%|          | 0/2 [00:00<?, ?it/s]"
            ],
            "application/vnd.jupyter.widget-view+json": {
              "version_major": 2,
              "version_minor": 0,
              "model_id": "7ac67890316f4559b3005fc367f86401"
            }
          },
          "metadata": {}
        }
      ],
      "source": [
        "r = 16\n",
        "model= prepare_quant_model(model_id = model_id)\n",
        "\n",
        "# if use_flash_attention:\n",
        "#     from utils.llama_patch import forward\n",
        "#     assert model.model.layers[0].self_attn.forward.__doc__ == forward.__doc__, \"Model is not using flash attention\"\n",
        "\n",
        "# model = get_lora_model(model, lora_rank = r)\n",
        "\n",
        "# if use_flash_attention:\n",
        "#         from utils.llama_patch import upcast_layer_for_flash_attention\n",
        "#         model = upcast_layer_for_flash_attention(model, torch.bfloat16)"
      ]
    },
    {
      "cell_type": "code",
      "execution_count": null,
      "metadata": {
        "colab": {
          "base_uri": "https://localhost:8080/"
        },
        "id": "PZ_f8M0tGTOf",
        "outputId": "c2970b19-04d6-43f5-950c-1c02aaddcb13"
      },
      "outputs": [
        {
          "output_type": "execute_result",
          "data": {
            "text/plain": [
              "96.11217948717949"
            ]
          },
          "metadata": {},
          "execution_count": 28
        }
      ],
      "source": [
        "tot_steps = wiki['train'].num_rows / (26*4)\n",
        "tot_steps/3"
      ]
    },
    {
      "cell_type": "code",
      "execution_count": null,
      "metadata": {
        "colab": {
          "base_uri": "https://localhost:8080/"
        },
        "id": "nzRiMLBNTGjK",
        "outputId": "c8979a5a-aa4e-4a18-c4a1-ccbf6a9b5dd3"
      },
      "outputs": [
        {
          "output_type": "stream",
          "name": "stdout",
          "text": [
            "{'auto_find_batch_size': True,\n",
            " 'bf16': True,\n",
            " 'dataloader_num_workers': 4,\n",
            " 'eval_steps': 96,\n",
            " 'evaluation_strategy': 'steps',\n",
            " 'gradient_accumulation_steps': 4,\n",
            " 'gradient_checkpointing': True,\n",
            " 'greater_is_better': False,\n",
            " 'group_by_length': False,\n",
            " 'learning_rate': 1e-05,\n",
            " 'load_best_model_at_end': True,\n",
            " 'logging_steps': 96,\n",
            " 'logging_strategy': 'steps',\n",
            " 'lr_scheduler_type': 'cosine',\n",
            " 'metric_for_best_model': 'eval_loss',\n",
            " 'num_train_epochs': 3,\n",
            " 'optim': 'paged_adamw_8bit',\n",
            " 'output_dir': 'finetuned_models/llama/r16_lr1e-05_wd0.1_bs26_flashattn_wiki',\n",
            " 'per_device_eval_batch_size': 26,\n",
            " 'per_device_train_batch_size': 26,\n",
            " 'report_to': 'wandb',\n",
            " 'run_name': 'r16_lr1e-05_wd0.1_bs26_flashattn_wiki',\n",
            " 'save_steps': 96,\n",
            " 'save_strategy': 'steps',\n",
            " 'save_total_limit': 2,\n",
            " 'weight_decay': 0.1}\n"
          ]
        },
        {
          "output_type": "stream",
          "name": "stderr",
          "text": [
            "Using pad_token, but it is not set yet.\n"
          ]
        }
      ],
      "source": [
        "hyperparams = training_args_config( lora_rank = r,\n",
        "                                    num_epochs = 3,\n",
        "                                    lr = 1e-5,\n",
        "                                    weight_decay = 0.1,\n",
        "                                    batch_size = 26,\n",
        "                                    gradient_accumulation_steps = 4,\n",
        "                                    group_by_length = False,\n",
        "                                    eval_steps = 96,\n",
        "                                    find_batch_size = True,\n",
        "                                    lr_schedule = 'cosine',\n",
        "                                    output_dir = 'finetuned_models/llama',\n",
        "                                    run_name = 'flashattn_wiki'\n",
        "                                    )\n",
        "pp(hyperparams)\n",
        "\n",
        "trainer = SFTTrainer(   model,\n",
        "                        args = TrainingArguments(**hyperparams),\n",
        "                        max_seq_length=1024,\n",
        "                        train_dataset=wiki['train'],\n",
        "                        eval_dataset=wiki['validation'],\n",
        "                        formatting_func=formatting_prompts_func,\n",
        "                        data_collator=collator,\n",
        "                        #packing = False,\n",
        "                        #dataset_text_field = 'QA'\n",
        ")"
      ]
    },
    {
      "cell_type": "code",
      "execution_count": null,
      "metadata": {
        "colab": {
          "base_uri": "https://localhost:8080/"
        },
        "id": "oOWPlz6r1lZF",
        "outputId": "5eb73935-067b-4c60-900d-1c8bf7092052"
      },
      "outputs": [
        {
          "output_type": "stream",
          "name": "stdout",
          "text": [
            "trainable params: 39976960 || all params: 3540389888 || trainable%: 1.1291682911958425\n"
          ]
        }
      ],
      "source": [
        "print_trainable_parameters(model)"
      ]
    },
    {
      "cell_type": "code",
      "execution_count": null,
      "metadata": {
        "id": "fYJpgfypTiBS"
      },
      "outputs": [],
      "source": [
        "trainer.train()"
      ]
    },
    {
      "cell_type": "code",
      "execution_count": null,
      "metadata": {
        "id": "aIT-OVwf0bRb",
        "colab": {
          "base_uri": "https://localhost:8080/",
          "height": 334,
          "referenced_widgets": [
            "b518c1242e6b46b3bd7203c80c0b8427",
            "d975b0fd27b74369a462572b554618e7",
            "74303eb707de44db86807f3c21644d73",
            "13d9d2aefd14463485a9e5b11e348787",
            "1d635c91f62c48619b061770e1760ec1",
            "32e16945c8174f2eb947e5fedd124d92",
            "df7ac59bbf2742d18fcc298e90bb5266",
            "85471c498ac04c79b6e51e6b37d5eb68"
          ]
        },
        "outputId": "7d5570bd-8abb-491d-afc3-471616b27a67"
      },
      "outputs": [
        {
          "output_type": "display_data",
          "data": {
            "text/plain": [
              "<IPython.core.display.HTML object>"
            ],
            "text/html": [
              "Waiting for W&B process to finish... <strong style=\"color:green\">(success).</strong>"
            ]
          },
          "metadata": {}
        },
        {
          "output_type": "display_data",
          "data": {
            "text/plain": [
              "VBox(children=(Label(value='0.002 MB of 0.020 MB uploaded (0.000 MB deduped)\\r'), FloatProgress(value=0.107854…"
            ],
            "application/vnd.jupyter.widget-view+json": {
              "version_major": 2,
              "version_minor": 0,
              "model_id": "b518c1242e6b46b3bd7203c80c0b8427"
            }
          },
          "metadata": {}
        },
        {
          "output_type": "display_data",
          "data": {
            "text/plain": [
              "<IPython.core.display.HTML object>"
            ],
            "text/html": [
              "<style>\n",
              "    table.wandb td:nth-child(1) { padding: 0 10px; text-align: left ; width: auto;} td:nth-child(2) {text-align: left ; width: 100%}\n",
              "    .wandb-row { display: flex; flex-direction: row; flex-wrap: wrap; justify-content: flex-start; width: 100% }\n",
              "    .wandb-col { display: flex; flex-direction: column; flex-basis: 100%; flex: 1; padding: 10px; }\n",
              "    </style>\n",
              "<div class=\"wandb-row\"><div class=\"wandb-col\"><h3>Run history:</h3><br/><table class=\"wandb\"><tr><td>train/epoch</td><td>▁</td></tr><tr><td>train/global_step</td><td>▁</td></tr><tr><td>train/learning_rate</td><td>▁</td></tr><tr><td>train/loss</td><td>▁</td></tr></table><br/></div><div class=\"wandb-col\"><h3>Run summary:</h3><br/><table class=\"wandb\"><tr><td>train/epoch</td><td>0.33</td></tr><tr><td>train/global_step</td><td>96</td></tr><tr><td>train/learning_rate</td><td>1e-05</td></tr><tr><td>train/loss</td><td>6.8556</td></tr></table><br/></div></div>"
            ]
          },
          "metadata": {}
        },
        {
          "output_type": "display_data",
          "data": {
            "text/plain": [
              "<IPython.core.display.HTML object>"
            ],
            "text/html": [
              " View run <strong style=\"color:#cdcd00\">r16_lr1e-05_wd0.1_bs26_flashattn_wiki</strong> at: <a href='https://wandb.ai/ft-llmmm/sft_llama_bm/runs/x32z1noa' target=\"_blank\">https://wandb.ai/ft-llmmm/sft_llama_bm/runs/x32z1noa</a><br/>Synced 4 W&B file(s), 0 media file(s), 0 artifact file(s) and 0 other file(s)"
            ]
          },
          "metadata": {}
        },
        {
          "output_type": "display_data",
          "data": {
            "text/plain": [
              "<IPython.core.display.HTML object>"
            ],
            "text/html": [
              "Find logs at: <code>./wandb/run-20230823_173356-x32z1noa/logs</code>"
            ]
          },
          "metadata": {}
        }
      ],
      "source": [
        "wandb.finish();"
      ]
    },
    {
      "cell_type": "code",
      "execution_count": null,
      "metadata": {
        "id": "Zdje6e61Wjz2"
      },
      "outputs": [],
      "source": [
        "del model\n",
        "cleanup('memory')"
      ]
    },
    {
      "cell_type": "code",
      "execution_count": null,
      "metadata": {
        "id": "tXls6qig7KqH"
      },
      "outputs": [],
      "source": [
        "cleanup('runtime')"
      ]
    },
    {
      "cell_type": "markdown",
      "source": [
        "# Inference"
      ],
      "metadata": {
        "id": "Ge4DnRYvGo3h"
      }
    },
    {
      "cell_type": "code",
      "source": [
        "device = 'cuda' if torch.cuda.is_available() else 'cpu'"
      ],
      "metadata": {
        "id": "qnZEMtpHomgk"
      },
      "execution_count": null,
      "outputs": []
    },
    {
      "cell_type": "code",
      "source": [
        "from datasets import load_from_disk\n",
        "data = load_from_disk('artifacts/wiki+eli5<400')\n",
        "wiki = data.filter(lambda example : example['source'] == 'simple_wiki')\n",
        "eli5 = data.filter(lambda example : example['source'] == 'ELI5')"
      ],
      "metadata": {
        "id": "P9dsD_oz9wW_"
      },
      "execution_count": null,
      "outputs": []
    },
    {
      "cell_type": "code",
      "source": [
        "base_models = ['meta-llama/Llama-2-7b-hf',\n",
        "               'meta-llama/Llama-2-13b-hf']\n",
        "\n",
        "lora_layers_trained = ['finetuned_models/llama/wiki, lr = 1e-5, wd = 0.1/checkpoint-576',\n",
        "                       'finetuned_models/llama13B/r16_lr1e-05_wd0.1_bs16_wiki/checkpoint-936']\n",
        "\n",
        "idx = 1\n",
        "\n",
        "tokenizer = AutoTokenizer.from_pretrained(base_models[idx])\n",
        "tokenizer.pad_token = tokenizer.eos_token\n",
        "tokenizer.padding_side = \"left\""
      ],
      "metadata": {
        "id": "IzpQlKNW92Z4"
      },
      "execution_count": null,
      "outputs": []
    },
    {
      "cell_type": "code",
      "source": [
        "bnb_config = BitsAndBytesConfig(\n",
        "    load_in_4bit=True,\n",
        "    bnb_4bit_use_double_quant=True,\n",
        "    bnb_4bit_quant_type=\"nf4\",\n",
        "    bnb_4bit_compute_dtype=torch.bfloat16\n",
        ")\n",
        "\n",
        "model_4bit = AutoModelForCausalLM.from_pretrained(base_models[idx], quantization_config=bnb_config)"
      ],
      "metadata": {
        "colab": {
          "base_uri": "https://localhost:8080/",
          "height": 49,
          "referenced_widgets": [
            "d8b9ebd56b144cca84cfdad5f10879e0",
            "ed830893333548ba9d4e7d1db33e9f5d",
            "ede1a4e7b55f4d7abb463f7c14afbbc0",
            "44c0cbdb407142fbb89f089c97534dc2",
            "4f4861ac7b094bfa98f13801bd09ede6",
            "9f0be450480e4d619f8599640044d3d6",
            "a222be8fffe5433f9cabfd35ec5a0880",
            "8382ce7095c348dcbe3b154cc5f9b1dc",
            "ee8f62c032ef44aa84cc52856d2f8d49",
            "09242ee60e184e40bfa968c89d6d9306",
            "093ecc61590644e7926e9655d4debae6"
          ]
        },
        "id": "ID4XFoXnl7BN",
        "outputId": "3e8ec8d8-79d9-4d4c-e2a6-19f21a32efd1"
      },
      "execution_count": null,
      "outputs": [
        {
          "output_type": "display_data",
          "data": {
            "text/plain": [
              "Loading checkpoint shards:   0%|          | 0/3 [00:00<?, ?it/s]"
            ],
            "application/vnd.jupyter.widget-view+json": {
              "version_major": 2,
              "version_minor": 0,
              "model_id": "d8b9ebd56b144cca84cfdad5f10879e0"
            }
          },
          "metadata": {}
        }
      ]
    },
    {
      "cell_type": "code",
      "source": [
        "from peft import PeftModel\n",
        "\n",
        "model_trained = PeftModel.from_pretrained(model = model_4bit,\n",
        "                    model_id = lora_layers_trained[idx],\n",
        "                    torch_dtype = torch.bfloat16,\n",
        "                    is_trainable = False)\n",
        "\n",
        "#model = model_trained.merge_and_unload()"
      ],
      "metadata": {
        "id": "-hteGDbCHHXl"
      },
      "execution_count": null,
      "outputs": []
    },
    {
      "cell_type": "code",
      "source": [
        "def generate_examples(model, data):\n",
        "\n",
        "    model.config.pad_token_id = model.config.eos_token_id\n",
        "\n",
        "    generation_config = GenerationConfig(   num_beams = 4,\n",
        "                                            #max_length = 100,\n",
        "                                            max_new_tokens = 100,\n",
        "                                            do_sample = True,\n",
        "                                            temperature = 1.,\n",
        "                                            top_k = 50,\n",
        "                                            top_p = 0.8,\n",
        "                                            repetition_penalty = 1.0,\n",
        "                                            #pad_token_id = model.config.eos_token_id\n",
        "                                        )\n",
        "\n",
        "\n",
        "\n",
        "\n",
        "    prompts = [ f'### Human: {q}\\n ### Assistant:' for q in data['question'] ]\n",
        "    input = tokenizer(prompts, return_tensors = 'pt', padding = True).to(device)\n",
        "\n",
        "\n",
        "    output_ids = model.generate(input_ids = input['input_ids'],\n",
        "                                attention_mask = input['attention_mask'],\n",
        "                                generation_config = generation_config,\n",
        "                                pad_token_id = model.config.eos_token_id,\n",
        "                                )\n",
        "\n",
        "    predictions =  [tokenizer.decode(ids, skip_special_tokens = True) for ids in output_ids]\n",
        "\n",
        "    return predictions"
      ],
      "metadata": {
        "id": "Kl0gXyNk1VCQ"
      },
      "execution_count": null,
      "outputs": []
    },
    {
      "cell_type": "code",
      "source": [
        "len(wiki['test'])"
      ],
      "metadata": {
        "colab": {
          "base_uri": "https://localhost:8080/"
        },
        "id": "52VvaGaTlfLL",
        "outputId": "39fa7482-d088-4199-8ff9-41b000170802"
      },
      "execution_count": null,
      "outputs": [
        {
          "output_type": "execute_result",
          "data": {
            "text/plain": [
              "1000"
            ]
          },
          "metadata": {},
          "execution_count": 30
        }
      ]
    },
    {
      "cell_type": "code",
      "source": [
        "import random\n",
        "random.seed(123321)\n",
        "\n",
        "idx = [random.randint(0,len(wiki['test'])) for i in range(10)]"
      ],
      "metadata": {
        "id": "J1SSs_NElRqv"
      },
      "execution_count": null,
      "outputs": []
    },
    {
      "cell_type": "code",
      "source": [
        "idx"
      ],
      "metadata": {
        "colab": {
          "base_uri": "https://localhost:8080/"
        },
        "id": "957l-hf-y8C2",
        "outputId": "a1487ed5-2882-4ab8-d9ff-649fa778a008"
      },
      "execution_count": null,
      "outputs": [
        {
          "output_type": "execute_result",
          "data": {
            "text/plain": [
              "[141, 178, 704, 255, 885, 863, 382, 270, 904, 32]"
            ]
          },
          "metadata": {},
          "execution_count": 41
        }
      ]
    },
    {
      "cell_type": "code",
      "source": [
        "batch = wiki['test'][idx]\n",
        "\n",
        "references = batch['QA']\n",
        "predictions = generate_examples(model_4bit, batch)\n",
        "predictions_trained = generate_examples(model_trained, batch)"
      ],
      "metadata": {
        "id": "F93eg1Yj18LV"
      },
      "execution_count": null,
      "outputs": []
    },
    {
      "cell_type": "code",
      "source": [
        "for ref, pred, pred_trained in zip(references, predictions, predictions_trained):\n",
        "    print(f'Reference: {ref}')\n",
        "    print(50*'-')\n",
        "    print(f'Prediction: {pred}')\n",
        "    print(50*'-')\n",
        "    print(f'SFT: {pred_trained}')\n",
        "    print(150*'=')\n"
      ],
      "metadata": {
        "colab": {
          "base_uri": "https://localhost:8080/"
        },
        "id": "XZIdWQtF3Me7",
        "outputId": "a293271b-206a-4edd-be07-7d28b257e658"
      },
      "execution_count": null,
      "outputs": [
        {
          "output_type": "stream",
          "name": "stdout",
          "text": [
            "Reference: ### Human: What is Bondi Beach known for?\n",
            " ### Assistant: Bondi Beach is a beach in Sydney, Australia, about one kilometre long and roughly seven kilometres from the centre of the city.\n",
            "Bondi beach is one of the world's greatest beaches, and is one of Sydney's main tourist attractions. Large numbers of tourists visit Bondi Beach throughout the year, and many Irish and British tourists spend Christmas Day there.\n",
            "--------------------------------------------------\n",
            "Prediction: ### Human: What is Bondi Beach known for?\n",
            " ### Assistant: Bondi Beach is a beach and suburb in eastern Sydney, in the state of New South Wales, Australia. It is seven kilometres east of the Sydney central business district, in the local government area of Waverley Council. Bondi Beach is one of the most visited tourist sites in Australia. The beach is a popular destination for local swimmers, surfers, and sunbathers. It is also a popular backdrop for movies, television shows, and commercials.\n",
            "--------------------------------------------------\n",
            "SFT: ### Human: What is Bondi Beach known for?\n",
            " ### Assistant: Bondi Beach is a beach and suburb in eastern Sydney, in the state of New South Wales, Australia. It is seven kilometres east of the Sydney central business district, in the local government area of Waverley Council. Bondi Beach is one of the most visited tourist sites in Australia. The beach is a popular destination for local swimmers, surfers and sunbathers. It is also a popular playground for backpackers. The beach is at the end of Campbell\n",
            "======================================================================================================================================================\n",
            "Reference: ### Human: What is a decade and how is it defined?\n",
            " ### Assistant: A decade (pronounce: DEK-aid) is a period of 10 years. The word comes from the Ancient Greek word for ten: \"deka\". 10 decades make a century, while 100 decades make a millennium. A decade is any 10 year period: There are different ways to refer to different groupings of ten years. For example, the period from 2001 to 2010 can be described as the 1st decade of the 21st century. An individual who has been alive two full decades is referred to as being in their 20s for the next decade of their life, from age 20 to 29. Decades are also considered specific groups of ten years sharing the same tens digit, identified by name, as in the nineteen-eighties (1980s) referring to the period from 1980 to 1989 and the nineteen-nineties (1990s) referring to the period from 1990 to 1999. This is the sense meant when someone refers to decades without other context, for example saying 'next decade' in any year between 2020 and 2029 would indicate the 2030s. Sometimes this is shortened to just the decade, where the context is clear, as in the eighties (80s) or the nineties (90s). No apostrophe is used before the s in the names of these decades.\n",
            "--------------------------------------------------\n",
            "Prediction: ### Human: What is a decade and how is it defined?\n",
            " ### Assistant: A decade is a period of ten years. Decades are numbered by their position relative to a reference point. For example, the 1980s began with the year 1980 and ended with the year 1989. The 1990s began with the year 1990 and ended with the year 1999. The 2000s began with the year 2000 and ended with\n",
            "--------------------------------------------------\n",
            "SFT: ### Human: What is a decade and how is it defined?\n",
            " ### Assistant: A decade is a period of ten years. The word is derived from the Ancient Greek δεκάς (dekas), which means a group of ten. Decades may be numbered using a prefix and the word \"decade\". For example, \"the 1980s\" or \"the nineteen eighties\". Decades may also be numbered using Roman numerals. For example, \"the 1980s\" or \"\n",
            "======================================================================================================================================================\n",
            "Reference: ### Human: Who was Heinrich Friedrich Ludwig Rellstab?\n",
            " ### Assistant: Heinrich Friedrich Ludwig Rellstab (13 April 1799 – 27 November 1860) was a German poet and music critic. He was born and died in Berlin.  The first seven songs of Franz Schubert's Schwanengesang have words by Rellstab, who had left them in 1825 with Beethoven, whose assistant Anton Schindler passed them on to Schubert. His work was also set to music by Franz Liszt.\n",
            "--------------------------------------------------\n",
            "Prediction: ### Human: Who was Heinrich Friedrich Ludwig Rellstab?\n",
            " ### Assistant: Heinrich Friedrich Ludwig Rellstab (28 February 1799 – 12 April 1860) was a German music critic and poet. He was a friend of Franz Schubert and Robert Schumann. Rellstab was born in Berlin. He died in Baden-Baden, Baden-Württemberg, Germany. Rellstab was a friend of Franz Schubert and Robert Schumann. He was a music critic for the Neue Zeitschrift für Musik.\n",
            "--------------------------------------------------\n",
            "SFT: ### Human: Who was Heinrich Friedrich Ludwig Rellstab?\n",
            " ### Assistant: Heinrich Friedrich Ludwig Rellstab (27 February 1799 – 12 April 1860) was a German music critic and poet. He was born in Berlin. Rellstab was a friend of Ludwig van Beethoven. Rellstab wrote a review of Beethoven's Ninth Symphony in 1824. He did not like the symphony. Rellstab's review made Beethoven very angry. Beethoven\n",
            "======================================================================================================================================================\n",
            "Reference: ### Human: Who is Jeremiah Wilson \"Jay\" Nixon?\n",
            " ### Assistant: Jeremiah Wilson \"Jay\" Nixon (born February 13, 1956) is an American politician. He was the Governor of Missouri from 2009 to 2017. On January 12, 2009, he became Governor of the U.S. State of Missouri. He is a member of the Democratic Party of the United States. Nixon's ancestor, John Inskeep, was mayor of Philadelphia, Pennsylvania.\n",
            "--------------------------------------------------\n",
            "Prediction: ### Human: Who is Jeremiah Wilson \"Jay\" Nixon?\n",
            " ### Assistant: Jeremiah Wilson \"Jay\" Nixon (born November 13, 1956) is an American politician. He was the 55th Governor of Missouri from 2009 to 2017. He is a member of the Democratic Party. He was the Attorney General of Missouri from 1993 to 2009. Nixon was born on November 13, 1956 in Deaconess\n",
            "--------------------------------------------------\n",
            "SFT: ### Human: Who is Jeremiah Wilson \"Jay\" Nixon?\n",
            " ### Assistant: Jeremiah Wilson \"Jay\" Nixon (born November 13, 1956) is an American politician. He was the 55th Governor of Missouri from 2009 to 2017. He is a member of the Democratic Party. He was the Attorney General of Missouri from 1993 to 2009. Nixon was born on November 13, 1956 in Deaconess\n",
            "======================================================================================================================================================\n",
            "Reference: ### Human: What type of trains ran on the Victoria line from 1968 to 2011?\n",
            " ### Assistant: The London Underground 1967 Stock was a deep-level tube stock that ran on the Victoria line from 1968 to 2011. These trains do not run on the London Underground anymore as they were replaced by the London Underground 2009 tube stock between 2010 and 2011. The stock was built by Metro-Cammell. The trains have also ran on the Woodford–Hainault section of the Central Line in the past.\n",
            "--------------------------------------------------\n",
            "Prediction: ### Human: What type of trains ran on the Victoria line from 1968 to 2011?\n",
            " ### Assistant: The 1967 Stock was a type of train that ran on the Victoria line from 1968 to 2011. It was the first type of train to run on the Victoria line when it opened in 1968. It was replaced by the 2009 Stock in 2011. The 1967 Stock was the first type of train to run on the Victoria line when it opened in 1968\n",
            "--------------------------------------------------\n",
            "SFT: ### Human: What type of trains ran on the Victoria line from 1968 to 2011?\n",
            " ### Assistant: The 1967 Stock was a type of train that ran on the Victoria line from 1968 to 2011. It was the first type of train to run on the Victoria line when it opened in 1968. The 1967 stock was replaced by the 2009 Stock in 2011. The 1967 stock was the last type of train to run on the Victoria line. It was\n",
            "======================================================================================================================================================\n",
            "Reference: ### Human: Who was Yosl Bergner?\n",
            " ### Assistant: Yosl Bergner (‎; 13 October 1920 – 18 January 2017) was an Israeli painter. He was best known for his art which had people with long pale faces, pointed chins and huge dark, soulful eyes. This was said to show joy and sadness of being Jewish. He was awarded the Israel Prize in 1980. Bergner was born in Vienna, Austria. He grew up in Warsaw, Poland. He lived in Melbourne, Australia from 1937 until 1948, when he moved to Israel.\n",
            "--------------------------------------------------\n",
            "Prediction: ### Human: Who was Yosl Bergner?\n",
            " ### Assistant: Yosl Bergner (1920–2017) was a Polish-born Israeli painter. He was born in Warsaw. He was a Holocaust survivor. In 1950, he moved to Israel. Bergner was known for his paintings of the Holocaust. He was awarded the Israel Prize in 2000. Bergner died on 10 January 2017 in Tel Aviv at the\n",
            "--------------------------------------------------\n",
            "SFT: ### Human: Who was Yosl Bergner?\n",
            " ### Assistant: Yosl Bergner (1920–2017) was a Polish-born Israeli painter. He was born in Warsaw, Poland. He was a Holocaust survivor. In 1951, he moved to Israel. He was known for his paintings of the Holocaust. Bergner died in Tel Aviv, Israel at the age of 96. He was buried at the Trumpeldor Cemetery in Tel Aviv\n",
            "======================================================================================================================================================\n",
            "Reference: ### Human: What are some popular dishes and drinks in Peru?\n",
            " ### Assistant: Peruvian food that includes fish, plates with corn and potatoes and a lot of soups. Ceviche is the most famous plate in Peru. It is made with fish, lemon, red onion, pepper and salt. Rice and potatoes are used for share a lot of plates. Pisco is the national drink, and it is made by eight types of grapes.\n",
            "--------------------------------------------------\n",
            "Prediction: ### Human: What are some popular dishes and drinks in Peru?\n",
            " ### Assistant: Peru is a country in South America. It is bordered by Ecuador and Colombia to the northeast, Brazil to the east, Bolivia to the southeast, Chile to the south, and the Pacific Ocean to the west. The capital of Peru is Lima. Popular dishes include ceviche and lomo saltado. Popular drinks include Inca Kola and Pisco Sour. Peru is the third largest country in South America. It has a population of about 2\n",
            "--------------------------------------------------\n",
            "SFT: ### Human: What are some popular dishes and drinks in Peru?\n",
            " ### Assistant: Peru is a country in South America. It is bordered by Ecuador and Colombia to the north, Brazil to the east, Bolivia to the southeast, Chile to the south, and the Pacific Ocean to the west. The people of Peru speak Spanish, Quechua, and Aymara. The capital of Peru is Lima. Popular dishes include ceviche and lomo saltado. Popular drinks include pisco sour and chicha morada. Peru is known for\n",
            "======================================================================================================================================================\n",
            "Reference: ### Human: What is the soundtrack for the documentary Tupac: Resurrection?\n",
            " ### Assistant: Tupac: Resurrection (Original Soundtrack) was released by Amaru Entertainment as the soundtrack for the 2003 documentary Tupac: Resurrection. It includes remixed versions of several previously released 2Pac recordings, including \"Death Around the Corner\" from Me Against the World, \"Secretz of War\" from Still I Rise. and \"Holler if You Hear Me\" from Strictly 4 My N.I.G.G.A.Z.; and unreleased 2Pac verses re-constructed into new tracks such as \"Ghost\", \"One Day at a Time\", and \"Runnin (Dying to Live)\". The album sold more than 420,000 copies in its first week. Eminem produced major parts of this album.\n",
            "--------------------------------------------------\n",
            "Prediction: ### Human: What is the soundtrack for the documentary Tupac: Resurrection?\n",
            " ### Assistant: Tupac: Resurrection is the soundtrack for the documentary Tupac: Resurrection. It was released on November 21, 2003. The album was produced by Tupac Shakur and Suge Knight. The album was certified gold by the Recording Industry Association of America (RIAA) on December 17, 2003. The album debuted at #1 on the Billboard 200.\n",
            "--------------------------------------------------\n",
            "SFT: ### Human: What is the soundtrack for the documentary Tupac: Resurrection?\n",
            " ### Assistant: Tupac: Resurrection is the soundtrack for the documentary Tupac: Resurrection. It was released on November 21, 2003. The soundtrack was produced by Tupac Shakur and Suge Knight. It was released by Amaru Entertainment and Interscope Records. The soundtrack was nominated for a Grammy Award for Best Rap Album in 2005. It peaked at #1 on the Billboard 2\n",
            "======================================================================================================================================================\n",
            "Reference: ### Human: What is the Western Hemisphere?\n",
            " ### Assistant: The western hemisphere is a geographical term for the half of the Earth that is west of the Prime Meridian. Pretend that the earth is cut in half, from the North Pole, through England, to the South Pole. The Western Hemisphere is the half to the west. The other half is called the Eastern Hemisphere.\n",
            "--------------------------------------------------\n",
            "Prediction: ### Human: What is the Western Hemisphere?\n",
            " ### Assistant: The Western Hemisphere is the half of the Earth that lies west of the Prime Meridian and east of the Antimeridian. It is also known as the Western Hemisphere and the New World. The Americas make up most of the Western Hemisphere; North America and South America together make up about 83% of the hemisphere's land area. The Caribbean region and Greenland are often considered part of the Western Hemisphere for cultural\n",
            "--------------------------------------------------\n",
            "SFT: ### Human: What is the Western Hemisphere?\n",
            " ### Assistant: The Western Hemisphere is the half of the Earth which lies west of the Prime Meridian and east of the Antimeridian. It is also known as the Western hemisphere, the western hemisphere, the western hemisphere, the western hemisphere, the western hemisphere, the western hemisphere, the western hemisphere, the western hemisphere, the western hemisphere, the western hemisphere, the western hemisphere,\n",
            "======================================================================================================================================================\n",
            "Reference: ### Human: Who was Daphne in Greek mythology and what was her relationship with Apollo?\n",
            " ### Assistant: Daphne (, meaning \"laurel\") was a dryad in Greek mythology, daughter of the river god Peneus. According to Greek mythology, the god Apollo insulted Eros, otherwise known as Cupid, the god of love. Becoming angry, Eros shot a golden arrow at Apollo, causing him to fall in love with the nymph Daphne the virgin. Eros then shot Daphne with a leaden arrow so she could never love Apollo back. So Apollo followed her while she ran away, until she came to the river of her father, Peneus. Apollo became jealous and puts it into the girl's mind to stop to bathe in the river Ladon; there, as all strip naked, the ruse is revealed, as in the myth of Callisto. There she wanted help from her father who turned her into a laurel tree so she would be safe from Apollo. Apollo then began to be sad. Some versions say that when Daphne saw Apollo sad, taking pity she made him a laurel wreath (a circle made of laurel that is worn like a crown) from her leaves. Other accounts state that Apollo made the laurel himself, taking from the tree. The laurel tree became sacred of Apollo and is used by emperors within the culture. After the crown was used for all the winners at his games and great heroes in the years to come would be crowned with laurel leaves. He also vowed that she, like him, would have eternal youth where her leaves would never turn brown or fall but would always stay lush and green. Some even say that he created this laurel wreath to remind him of the prize he can never win still Apollo loved that laurel with all his heart.\n",
            "--------------------------------------------------\n",
            "Prediction: ### Human: Who was Daphne in Greek mythology and what was her relationship with Apollo?\n",
            " ### Assistant: Daphne was a nymph in Greek mythology. She was the daughter of the river god Peneus and the nymph Creusa. She was loved by Apollo, the god of the sun. Daphne did not want to be loved by Apollo, so she ran away from him. Apollo chased her. Daphne prayed to her father, Peneus, to help her. Peneus turned Daphne into a laurel\n",
            "--------------------------------------------------\n",
            "SFT: ### Human: Who was Daphne in Greek mythology and what was her relationship with Apollo?\n",
            " ### Assistant: Daphne was a nymph in Greek mythology. She was the daughter of the river god Peneus and the nymph Creusa. Daphne was loved by Apollo, the god of the sun. Apollo chased Daphne, but she ran away from him. Daphne prayed to her father, Peneus, to help her. Peneus turned Daphne into a laurel tree to protect her from Apollo. Apol\n",
            "======================================================================================================================================================\n"
          ]
        }
      ]
    },
    {
      "cell_type": "markdown",
      "source": [
        "## Rouge"
      ],
      "metadata": {
        "id": "dPkvxWMRz8oQ"
      }
    },
    {
      "cell_type": "code",
      "source": [
        "from tqdm.notebook import tqdm"
      ],
      "metadata": {
        "id": "83vyQ56N4uiV"
      },
      "execution_count": null,
      "outputs": []
    },
    {
      "cell_type": "code",
      "source": [
        "!pip install evaluate rouge_score -qqqU\n",
        "import evaluate\n",
        "rouge = evaluate.load(\"rouge\")"
      ],
      "metadata": {
        "id": "bQoYYKg1124G"
      },
      "execution_count": null,
      "outputs": []
    },
    {
      "cell_type": "code",
      "source": [
        "result = rouge.compute(predictions=[\"The quick black tiger jumps over the lazy cat\"],\n",
        "                       references=[\"The quick brown fox walks over the lazy dog\"])\n",
        "print(result)"
      ],
      "metadata": {
        "colab": {
          "base_uri": "https://localhost:8080/"
        },
        "id": "t4zuZbGfz9Pg",
        "outputId": "2c2b82fe-0525-4f5d-8518-33c04520e066"
      },
      "execution_count": null,
      "outputs": [
        {
          "output_type": "stream",
          "name": "stdout",
          "text": [
            "{'rouge1': 0.5555555555555556, 'rouge2': 0.375, 'rougeL': 0.5555555555555556, 'rougeLsum': 0.5555555555555556}\n"
          ]
        }
      ]
    },
    {
      "cell_type": "code",
      "source": [
        "references = []\n",
        "predictions = []\n",
        "predictions_trained = []"
      ],
      "metadata": {
        "id": "P1gEVBz5_tyr"
      },
      "execution_count": null,
      "outputs": []
    },
    {
      "cell_type": "code",
      "source": [
        "for i in tqdm(range(50)):\n",
        "    batch = wiki['test'][i*10 : (i+1)*10]\n",
        "\n",
        "    references += batch['QA']\n",
        "    predictions += generate_examples(model_4bit, batch)\n",
        "    predictions_trained += generate_examples(model_trained, batch)"
      ],
      "metadata": {
        "colab": {
          "base_uri": "https://localhost:8080/",
          "height": 49,
          "referenced_widgets": [
            "e9480ecdd60e4904bd2e48c09bdb3a79",
            "87971682d2b341e7b5c1ce24f0ac3882",
            "6b70d1d27160419888e973dfb0064973",
            "d32f051747ee430cb1f325c0c577fc80",
            "fe7c669c5daf442ca561c4b487341525",
            "9240a6b3db7d435cad11e0e7ea1542c3",
            "1e9ad2c749cd44fcb01cf0cf0e40cc49",
            "e46fef286fbe42339824795b9f383c5e",
            "312322cf86af454ca263b5feebfea7e8",
            "2550d3ab43914c4b9709795133ce195b",
            "30a98bcdb83745429c70407ffffb06d4"
          ]
        },
        "id": "KzpQqE3w4QsY",
        "outputId": "d9c1f981-319a-40f9-b374-904a46d6efa0"
      },
      "execution_count": null,
      "outputs": [
        {
          "output_type": "display_data",
          "data": {
            "text/plain": [
              "  0%|          | 0/50 [00:00<?, ?it/s]"
            ],
            "application/vnd.jupyter.widget-view+json": {
              "version_major": 2,
              "version_minor": 0,
              "model_id": "e9480ecdd60e4904bd2e48c09bdb3a79"
            }
          },
          "metadata": {}
        }
      ]
    },
    {
      "cell_type": "code",
      "source": [
        "len(predictions)"
      ],
      "metadata": {
        "colab": {
          "base_uri": "https://localhost:8080/"
        },
        "id": "xQL0MaHr0Vui",
        "outputId": "4137da91-1fe3-4c37-d733-13db816f249b"
      },
      "execution_count": null,
      "outputs": [
        {
          "output_type": "execute_result",
          "data": {
            "text/plain": [
              "500"
            ]
          },
          "metadata": {},
          "execution_count": 47
        }
      ]
    },
    {
      "cell_type": "code",
      "source": [
        "scores_base = rouge.compute(predictions=predictions,\n",
        "                            references=references)\n",
        "\n",
        "scores_trained = rouge.compute(predictions=predictions_trained,\n",
        "                               references=references)\n",
        "\n",
        "print(f'Base model rouge scores:    {scores_base}')\n",
        "print(f'Trained model rouge scores: {scores_trained}')\n"
      ],
      "metadata": {
        "colab": {
          "base_uri": "https://localhost:8080/"
        },
        "id": "1ivevwIxB1zy",
        "outputId": "2325e5b3-5a31-4e83-8671-2631aeac1408"
      },
      "execution_count": null,
      "outputs": [
        {
          "output_type": "stream",
          "name": "stdout",
          "text": [
            "Base model rouge scores:    {'rouge1': 0.5073341657308709, 'rouge2': 0.31618795492913715, 'rougeL': 0.4154074302351301, 'rougeLsum': 0.42934900439508294}\n",
            "Trained model rouge scores: {'rouge1': 0.5095403616375263, 'rouge2': 0.3174833679008695, 'rougeL': 0.4177316099029409, 'rougeLsum': 0.43152785924481174}\n"
          ]
        }
      ]
    },
    {
      "cell_type": "markdown",
      "source": [
        "For Llama 7B there is essentially no improvement in rouge score.\n",
        "\n",
        "Base Llama-2-7B: {'rouge1': 0.468, 'rouge2': 0.279, 'rougeL': 0.386, 'rougeLsum': 0.399}\n",
        "\n",
        "SFT on wiki: {'rouge1': 0.470, 'rouge2': 0.279, 'rougeL': 0.385, 'rougeLsum': 0.398}"
      ],
      "metadata": {
        "id": "ruIIXHdt6-MY"
      }
    },
    {
      "cell_type": "markdown",
      "source": [
        "For Llama 13B there is also no improvement in rouge score.\n",
        "\n",
        "Base Llama-2-7B: {'rouge1': 0.507, 'rouge2': 0.316, 'rougeL': 0.415, 'rougeLsum': 0.429}\n",
        "\n",
        "SFT on wiki: {'rouge1': 0.509, 'rouge2': 0.317, 'rougeL': 0.418, 'rougeLsum': 0.431}"
      ],
      "metadata": {
        "id": "HTJ4reCbL8TY"
      }
    },
    {
      "cell_type": "code",
      "source": [
        "del model_4bit\n",
        "del model_trained"
      ],
      "metadata": {
        "id": "v_SzvoQz33Gk"
      },
      "execution_count": null,
      "outputs": []
    },
    {
      "cell_type": "code",
      "source": [
        "cleanup('memory')"
      ],
      "metadata": {
        "id": "Gv4hFC7AFjJy"
      },
      "execution_count": null,
      "outputs": []
    },
    {
      "cell_type": "code",
      "source": [],
      "metadata": {
        "id": "5pBHTVDW9h1-"
      },
      "execution_count": null,
      "outputs": []
    }
  ],
  "metadata": {
    "accelerator": "GPU",
    "colab": {
      "collapsed_sections": [
        "RPCmEWx9ifH9",
        "BFqMYcFkT4XO",
        "yjgGjxJJwThw",
        "jBQSWIRjTMH4",
        "-aa8XyrATQ7P"
      ],
      "machine_shape": "hm",
      "provenance": [],
      "gpuType": "A100",
      "authorship_tag": "ABX9TyNcb8LEWzQ+1DKEUPxlHsy6",
      "include_colab_link": true
    },
    "kernelspec": {
      "display_name": "Python 3",
      "name": "python3"
    },
    "language_info": {
      "name": "python"
    },
    "widgets": {
      "application/vnd.jupyter.widget-state+json": {
        "032e934b509a46f4abc2be83d294add8": {
          "model_module": "@jupyter-widgets/controls",
          "model_module_version": "1.5.0",
          "model_name": "DescriptionStyleModel",
          "state": {
            "_model_module": "@jupyter-widgets/controls",
            "_model_module_version": "1.5.0",
            "_model_name": "DescriptionStyleModel",
            "_view_count": null,
            "_view_module": "@jupyter-widgets/base",
            "_view_module_version": "1.2.0",
            "_view_name": "StyleView",
            "description_width": ""
          }
        },
        "1280cc2e8ece413bb0de4874d6f48e77": {
          "model_module": "@jupyter-widgets/base",
          "model_module_version": "1.2.0",
          "model_name": "LayoutModel",
          "state": {
            "_model_module": "@jupyter-widgets/base",
            "_model_module_version": "1.2.0",
            "_model_name": "LayoutModel",
            "_view_count": null,
            "_view_module": "@jupyter-widgets/base",
            "_view_module_version": "1.2.0",
            "_view_name": "LayoutView",
            "align_content": null,
            "align_items": null,
            "align_self": null,
            "border": null,
            "bottom": null,
            "display": null,
            "flex": null,
            "flex_flow": null,
            "grid_area": null,
            "grid_auto_columns": null,
            "grid_auto_flow": null,
            "grid_auto_rows": null,
            "grid_column": null,
            "grid_gap": null,
            "grid_row": null,
            "grid_template_areas": null,
            "grid_template_columns": null,
            "grid_template_rows": null,
            "height": null,
            "justify_content": null,
            "justify_items": null,
            "left": null,
            "margin": null,
            "max_height": null,
            "max_width": null,
            "min_height": null,
            "min_width": null,
            "object_fit": null,
            "object_position": null,
            "order": null,
            "overflow": null,
            "overflow_x": null,
            "overflow_y": null,
            "padding": null,
            "right": null,
            "top": null,
            "visibility": null,
            "width": null
          }
        },
        "18cf465a691445d8884ddc6bb6cc799f": {
          "model_module": "@jupyter-widgets/controls",
          "model_module_version": "1.5.0",
          "model_name": "HBoxModel",
          "state": {
            "_dom_classes": [],
            "_model_module": "@jupyter-widgets/controls",
            "_model_module_version": "1.5.0",
            "_model_name": "HBoxModel",
            "_view_count": null,
            "_view_module": "@jupyter-widgets/controls",
            "_view_module_version": "1.5.0",
            "_view_name": "HBoxView",
            "box_style": "",
            "children": [
              "IPY_MODEL_b35862103c4347e3a7426088e4003dcb",
              "IPY_MODEL_71bb11330252417e982490ad843dfef7",
              "IPY_MODEL_a2795d52a9454466be6afda4772922d0"
            ],
            "layout": "IPY_MODEL_1b47c1d896ee46b4b062fc98f89892d3"
          }
        },
        "1b3c02a7f690415199823cdc68800e1c": {
          "model_module": "@jupyter-widgets/controls",
          "model_module_version": "1.5.0",
          "model_name": "ProgressStyleModel",
          "state": {
            "_model_module": "@jupyter-widgets/controls",
            "_model_module_version": "1.5.0",
            "_model_name": "ProgressStyleModel",
            "_view_count": null,
            "_view_module": "@jupyter-widgets/base",
            "_view_module_version": "1.2.0",
            "_view_name": "StyleView",
            "bar_color": null,
            "description_width": ""
          }
        },
        "1b47c1d896ee46b4b062fc98f89892d3": {
          "model_module": "@jupyter-widgets/base",
          "model_module_version": "1.2.0",
          "model_name": "LayoutModel",
          "state": {
            "_model_module": "@jupyter-widgets/base",
            "_model_module_version": "1.2.0",
            "_model_name": "LayoutModel",
            "_view_count": null,
            "_view_module": "@jupyter-widgets/base",
            "_view_module_version": "1.2.0",
            "_view_name": "LayoutView",
            "align_content": null,
            "align_items": null,
            "align_self": null,
            "border": null,
            "bottom": null,
            "display": null,
            "flex": null,
            "flex_flow": null,
            "grid_area": null,
            "grid_auto_columns": null,
            "grid_auto_flow": null,
            "grid_auto_rows": null,
            "grid_column": null,
            "grid_gap": null,
            "grid_row": null,
            "grid_template_areas": null,
            "grid_template_columns": null,
            "grid_template_rows": null,
            "height": null,
            "justify_content": null,
            "justify_items": null,
            "left": null,
            "margin": null,
            "max_height": null,
            "max_width": null,
            "min_height": null,
            "min_width": null,
            "object_fit": null,
            "object_position": null,
            "order": null,
            "overflow": null,
            "overflow_x": null,
            "overflow_y": null,
            "padding": null,
            "right": null,
            "top": null,
            "visibility": null,
            "width": null
          }
        },
        "1b917909b36e4b00aa00013c5c689e0a": {
          "model_module": "@jupyter-widgets/controls",
          "model_module_version": "1.5.0",
          "model_name": "DescriptionStyleModel",
          "state": {
            "_model_module": "@jupyter-widgets/controls",
            "_model_module_version": "1.5.0",
            "_model_name": "DescriptionStyleModel",
            "_view_count": null,
            "_view_module": "@jupyter-widgets/base",
            "_view_module_version": "1.2.0",
            "_view_name": "StyleView",
            "description_width": ""
          }
        },
        "29a38a25fd114086a63f0294900f57ea": {
          "model_module": "@jupyter-widgets/base",
          "model_module_version": "1.2.0",
          "model_name": "LayoutModel",
          "state": {
            "_model_module": "@jupyter-widgets/base",
            "_model_module_version": "1.2.0",
            "_model_name": "LayoutModel",
            "_view_count": null,
            "_view_module": "@jupyter-widgets/base",
            "_view_module_version": "1.2.0",
            "_view_name": "LayoutView",
            "align_content": null,
            "align_items": null,
            "align_self": null,
            "border": null,
            "bottom": null,
            "display": null,
            "flex": null,
            "flex_flow": null,
            "grid_area": null,
            "grid_auto_columns": null,
            "grid_auto_flow": null,
            "grid_auto_rows": null,
            "grid_column": null,
            "grid_gap": null,
            "grid_row": null,
            "grid_template_areas": null,
            "grid_template_columns": null,
            "grid_template_rows": null,
            "height": null,
            "justify_content": null,
            "justify_items": null,
            "left": null,
            "margin": null,
            "max_height": null,
            "max_width": null,
            "min_height": null,
            "min_width": null,
            "object_fit": null,
            "object_position": null,
            "order": null,
            "overflow": null,
            "overflow_x": null,
            "overflow_y": null,
            "padding": null,
            "right": null,
            "top": null,
            "visibility": null,
            "width": null
          }
        },
        "29cba7f57f9b4638b0931341ed7d41a2": {
          "model_module": "@jupyter-widgets/controls",
          "model_module_version": "1.5.0",
          "model_name": "ProgressStyleModel",
          "state": {
            "_model_module": "@jupyter-widgets/controls",
            "_model_module_version": "1.5.0",
            "_model_name": "ProgressStyleModel",
            "_view_count": null,
            "_view_module": "@jupyter-widgets/base",
            "_view_module_version": "1.2.0",
            "_view_name": "StyleView",
            "bar_color": null,
            "description_width": ""
          }
        },
        "2cacd9d7d6b6414ead923b4ef828bba1": {
          "model_module": "@jupyter-widgets/base",
          "model_module_version": "1.2.0",
          "model_name": "LayoutModel",
          "state": {
            "_model_module": "@jupyter-widgets/base",
            "_model_module_version": "1.2.0",
            "_model_name": "LayoutModel",
            "_view_count": null,
            "_view_module": "@jupyter-widgets/base",
            "_view_module_version": "1.2.0",
            "_view_name": "LayoutView",
            "align_content": null,
            "align_items": null,
            "align_self": null,
            "border": null,
            "bottom": null,
            "display": null,
            "flex": null,
            "flex_flow": null,
            "grid_area": null,
            "grid_auto_columns": null,
            "grid_auto_flow": null,
            "grid_auto_rows": null,
            "grid_column": null,
            "grid_gap": null,
            "grid_row": null,
            "grid_template_areas": null,
            "grid_template_columns": null,
            "grid_template_rows": null,
            "height": null,
            "justify_content": null,
            "justify_items": null,
            "left": null,
            "margin": null,
            "max_height": null,
            "max_width": null,
            "min_height": null,
            "min_width": null,
            "object_fit": null,
            "object_position": null,
            "order": null,
            "overflow": null,
            "overflow_x": null,
            "overflow_y": null,
            "padding": null,
            "right": null,
            "top": null,
            "visibility": null,
            "width": null
          }
        },
        "32de91eba8c3405cac6313682f0b3c46": {
          "model_module": "@jupyter-widgets/base",
          "model_module_version": "1.2.0",
          "model_name": "LayoutModel",
          "state": {
            "_model_module": "@jupyter-widgets/base",
            "_model_module_version": "1.2.0",
            "_model_name": "LayoutModel",
            "_view_count": null,
            "_view_module": "@jupyter-widgets/base",
            "_view_module_version": "1.2.0",
            "_view_name": "LayoutView",
            "align_content": null,
            "align_items": null,
            "align_self": null,
            "border": null,
            "bottom": null,
            "display": null,
            "flex": null,
            "flex_flow": null,
            "grid_area": null,
            "grid_auto_columns": null,
            "grid_auto_flow": null,
            "grid_auto_rows": null,
            "grid_column": null,
            "grid_gap": null,
            "grid_row": null,
            "grid_template_areas": null,
            "grid_template_columns": null,
            "grid_template_rows": null,
            "height": null,
            "justify_content": null,
            "justify_items": null,
            "left": null,
            "margin": null,
            "max_height": null,
            "max_width": null,
            "min_height": null,
            "min_width": null,
            "object_fit": null,
            "object_position": null,
            "order": null,
            "overflow": null,
            "overflow_x": null,
            "overflow_y": null,
            "padding": null,
            "right": null,
            "top": null,
            "visibility": null,
            "width": null
          }
        },
        "4960ef2f99364e5e8bb9545a9f26d870": {
          "model_module": "@jupyter-widgets/base",
          "model_module_version": "1.2.0",
          "model_name": "LayoutModel",
          "state": {
            "_model_module": "@jupyter-widgets/base",
            "_model_module_version": "1.2.0",
            "_model_name": "LayoutModel",
            "_view_count": null,
            "_view_module": "@jupyter-widgets/base",
            "_view_module_version": "1.2.0",
            "_view_name": "LayoutView",
            "align_content": null,
            "align_items": null,
            "align_self": null,
            "border": null,
            "bottom": null,
            "display": null,
            "flex": null,
            "flex_flow": null,
            "grid_area": null,
            "grid_auto_columns": null,
            "grid_auto_flow": null,
            "grid_auto_rows": null,
            "grid_column": null,
            "grid_gap": null,
            "grid_row": null,
            "grid_template_areas": null,
            "grid_template_columns": null,
            "grid_template_rows": null,
            "height": null,
            "justify_content": null,
            "justify_items": null,
            "left": null,
            "margin": null,
            "max_height": null,
            "max_width": null,
            "min_height": null,
            "min_width": null,
            "object_fit": null,
            "object_position": null,
            "order": null,
            "overflow": null,
            "overflow_x": null,
            "overflow_y": null,
            "padding": null,
            "right": null,
            "top": null,
            "visibility": null,
            "width": null
          }
        },
        "49f6135fe5c240de97dbf97994fb51dc": {
          "model_module": "@jupyter-widgets/controls",
          "model_module_version": "1.5.0",
          "model_name": "ProgressStyleModel",
          "state": {
            "_model_module": "@jupyter-widgets/controls",
            "_model_module_version": "1.5.0",
            "_model_name": "ProgressStyleModel",
            "_view_count": null,
            "_view_module": "@jupyter-widgets/base",
            "_view_module_version": "1.2.0",
            "_view_name": "StyleView",
            "bar_color": null,
            "description_width": ""
          }
        },
        "4d204e7f872045b5824b519e268e760d": {
          "model_module": "@jupyter-widgets/base",
          "model_module_version": "1.2.0",
          "model_name": "LayoutModel",
          "state": {
            "_model_module": "@jupyter-widgets/base",
            "_model_module_version": "1.2.0",
            "_model_name": "LayoutModel",
            "_view_count": null,
            "_view_module": "@jupyter-widgets/base",
            "_view_module_version": "1.2.0",
            "_view_name": "LayoutView",
            "align_content": null,
            "align_items": null,
            "align_self": null,
            "border": null,
            "bottom": null,
            "display": null,
            "flex": null,
            "flex_flow": null,
            "grid_area": null,
            "grid_auto_columns": null,
            "grid_auto_flow": null,
            "grid_auto_rows": null,
            "grid_column": null,
            "grid_gap": null,
            "grid_row": null,
            "grid_template_areas": null,
            "grid_template_columns": null,
            "grid_template_rows": null,
            "height": null,
            "justify_content": null,
            "justify_items": null,
            "left": null,
            "margin": null,
            "max_height": null,
            "max_width": null,
            "min_height": null,
            "min_width": null,
            "object_fit": null,
            "object_position": null,
            "order": null,
            "overflow": null,
            "overflow_x": null,
            "overflow_y": null,
            "padding": null,
            "right": null,
            "top": null,
            "visibility": null,
            "width": null
          }
        },
        "5bbb5d226a33428bacecdac21f5c5122": {
          "model_module": "@jupyter-widgets/controls",
          "model_module_version": "1.5.0",
          "model_name": "DescriptionStyleModel",
          "state": {
            "_model_module": "@jupyter-widgets/controls",
            "_model_module_version": "1.5.0",
            "_model_name": "DescriptionStyleModel",
            "_view_count": null,
            "_view_module": "@jupyter-widgets/base",
            "_view_module_version": "1.2.0",
            "_view_name": "StyleView",
            "description_width": ""
          }
        },
        "5fff9aa04919476ea27727e742227a0c": {
          "model_module": "@jupyter-widgets/base",
          "model_module_version": "1.2.0",
          "model_name": "LayoutModel",
          "state": {
            "_model_module": "@jupyter-widgets/base",
            "_model_module_version": "1.2.0",
            "_model_name": "LayoutModel",
            "_view_count": null,
            "_view_module": "@jupyter-widgets/base",
            "_view_module_version": "1.2.0",
            "_view_name": "LayoutView",
            "align_content": null,
            "align_items": null,
            "align_self": null,
            "border": null,
            "bottom": null,
            "display": null,
            "flex": null,
            "flex_flow": null,
            "grid_area": null,
            "grid_auto_columns": null,
            "grid_auto_flow": null,
            "grid_auto_rows": null,
            "grid_column": null,
            "grid_gap": null,
            "grid_row": null,
            "grid_template_areas": null,
            "grid_template_columns": null,
            "grid_template_rows": null,
            "height": null,
            "justify_content": null,
            "justify_items": null,
            "left": null,
            "margin": null,
            "max_height": null,
            "max_width": null,
            "min_height": null,
            "min_width": null,
            "object_fit": null,
            "object_position": null,
            "order": null,
            "overflow": null,
            "overflow_x": null,
            "overflow_y": null,
            "padding": null,
            "right": null,
            "top": null,
            "visibility": null,
            "width": null
          }
        },
        "6ff2e69b77394c54a2c1ea0c7a02d0f3": {
          "model_module": "@jupyter-widgets/controls",
          "model_module_version": "1.5.0",
          "model_name": "HBoxModel",
          "state": {
            "_dom_classes": [],
            "_model_module": "@jupyter-widgets/controls",
            "_model_module_version": "1.5.0",
            "_model_name": "HBoxModel",
            "_view_count": null,
            "_view_module": "@jupyter-widgets/controls",
            "_view_module_version": "1.5.0",
            "_view_name": "HBoxView",
            "box_style": "",
            "children": [
              "IPY_MODEL_f1af81b9cb3e48f38af79d319ffcaafa",
              "IPY_MODEL_a97cb6b8ae334b5bb032ca9697188c16",
              "IPY_MODEL_7dde2e15cc364c7abe32a726fe2a2609"
            ],
            "layout": "IPY_MODEL_74dccd803ece4811964765e750497d99"
          }
        },
        "71bb11330252417e982490ad843dfef7": {
          "model_module": "@jupyter-widgets/controls",
          "model_module_version": "1.5.0",
          "model_name": "FloatProgressModel",
          "state": {
            "_dom_classes": [],
            "_model_module": "@jupyter-widgets/controls",
            "_model_module_version": "1.5.0",
            "_model_name": "FloatProgressModel",
            "_view_count": null,
            "_view_module": "@jupyter-widgets/controls",
            "_view_module_version": "1.5.0",
            "_view_name": "ProgressView",
            "bar_style": "success",
            "description": "",
            "description_tooltip": null,
            "layout": "IPY_MODEL_a3c9bb5b7b1a485d848cdd495c32843b",
            "max": 68587,
            "min": 0,
            "orientation": "horizontal",
            "style": "IPY_MODEL_49f6135fe5c240de97dbf97994fb51dc",
            "value": 68587
          }
        },
        "74dccd803ece4811964765e750497d99": {
          "model_module": "@jupyter-widgets/base",
          "model_module_version": "1.2.0",
          "model_name": "LayoutModel",
          "state": {
            "_model_module": "@jupyter-widgets/base",
            "_model_module_version": "1.2.0",
            "_model_name": "LayoutModel",
            "_view_count": null,
            "_view_module": "@jupyter-widgets/base",
            "_view_module_version": "1.2.0",
            "_view_name": "LayoutView",
            "align_content": null,
            "align_items": null,
            "align_self": null,
            "border": null,
            "bottom": null,
            "display": null,
            "flex": null,
            "flex_flow": null,
            "grid_area": null,
            "grid_auto_columns": null,
            "grid_auto_flow": null,
            "grid_auto_rows": null,
            "grid_column": null,
            "grid_gap": null,
            "grid_row": null,
            "grid_template_areas": null,
            "grid_template_columns": null,
            "grid_template_rows": null,
            "height": null,
            "justify_content": null,
            "justify_items": null,
            "left": null,
            "margin": null,
            "max_height": null,
            "max_width": null,
            "min_height": null,
            "min_width": null,
            "object_fit": null,
            "object_position": null,
            "order": null,
            "overflow": null,
            "overflow_x": null,
            "overflow_y": null,
            "padding": null,
            "right": null,
            "top": null,
            "visibility": null,
            "width": null
          }
        },
        "7dde2e15cc364c7abe32a726fe2a2609": {
          "model_module": "@jupyter-widgets/controls",
          "model_module_version": "1.5.0",
          "model_name": "HTMLModel",
          "state": {
            "_dom_classes": [],
            "_model_module": "@jupyter-widgets/controls",
            "_model_module_version": "1.5.0",
            "_model_name": "HTMLModel",
            "_view_count": null,
            "_view_module": "@jupyter-widgets/controls",
            "_view_module_version": "1.5.0",
            "_view_name": "HTMLView",
            "description": "",
            "description_tooltip": null,
            "layout": "IPY_MODEL_4d204e7f872045b5824b519e268e760d",
            "placeholder": "​",
            "style": "IPY_MODEL_fa5b6b19a42b480bb03639e98245727e",
            "value": " 3107/3107 [00:00&lt;00:00, 53525.98 examples/s]"
          }
        },
        "82519655920e408fba5fda5129c8008a": {
          "model_module": "@jupyter-widgets/controls",
          "model_module_version": "1.5.0",
          "model_name": "FloatProgressModel",
          "state": {
            "_dom_classes": [],
            "_model_module": "@jupyter-widgets/controls",
            "_model_module_version": "1.5.0",
            "_model_name": "FloatProgressModel",
            "_view_count": null,
            "_view_module": "@jupyter-widgets/controls",
            "_view_module_version": "1.5.0",
            "_view_name": "ProgressView",
            "bar_style": "success",
            "description": "",
            "description_tooltip": null,
            "layout": "IPY_MODEL_4960ef2f99364e5e8bb9545a9f26d870",
            "max": 1890,
            "min": 0,
            "orientation": "horizontal",
            "style": "IPY_MODEL_29cba7f57f9b4638b0931341ed7d41a2",
            "value": 1890
          }
        },
        "8611a91071444b798b1f21a4478010a5": {
          "model_module": "@jupyter-widgets/controls",
          "model_module_version": "1.5.0",
          "model_name": "HBoxModel",
          "state": {
            "_dom_classes": [],
            "_model_module": "@jupyter-widgets/controls",
            "_model_module_version": "1.5.0",
            "_model_name": "HBoxModel",
            "_view_count": null,
            "_view_module": "@jupyter-widgets/controls",
            "_view_module_version": "1.5.0",
            "_view_name": "HBoxView",
            "box_style": "",
            "children": [
              "IPY_MODEL_a0f966b768cc4073ba1334e6ee1a24d6",
              "IPY_MODEL_82519655920e408fba5fda5129c8008a",
              "IPY_MODEL_e603632c49184b8281fac18bf4538660"
            ],
            "layout": "IPY_MODEL_d7f803f07d06416990e8360cfaca08f5"
          }
        },
        "a0f966b768cc4073ba1334e6ee1a24d6": {
          "model_module": "@jupyter-widgets/controls",
          "model_module_version": "1.5.0",
          "model_name": "HTMLModel",
          "state": {
            "_dom_classes": [],
            "_model_module": "@jupyter-widgets/controls",
            "_model_module_version": "1.5.0",
            "_model_name": "HTMLModel",
            "_view_count": null,
            "_view_module": "@jupyter-widgets/controls",
            "_view_module_version": "1.5.0",
            "_view_name": "HTMLView",
            "description": "",
            "description_tooltip": null,
            "layout": "IPY_MODEL_2cacd9d7d6b6414ead923b4ef828bba1",
            "placeholder": "​",
            "style": "IPY_MODEL_5bbb5d226a33428bacecdac21f5c5122",
            "value": "Saving the dataset (1/1 shards): 100%"
          }
        },
        "a2795d52a9454466be6afda4772922d0": {
          "model_module": "@jupyter-widgets/controls",
          "model_module_version": "1.5.0",
          "model_name": "HTMLModel",
          "state": {
            "_dom_classes": [],
            "_model_module": "@jupyter-widgets/controls",
            "_model_module_version": "1.5.0",
            "_model_name": "HTMLModel",
            "_view_count": null,
            "_view_module": "@jupyter-widgets/controls",
            "_view_module_version": "1.5.0",
            "_view_name": "HTMLView",
            "description": "",
            "description_tooltip": null,
            "layout": "IPY_MODEL_1280cc2e8ece413bb0de4874d6f48e77",
            "placeholder": "​",
            "style": "IPY_MODEL_e8f7932958ca484aabb8a6c9859481c7",
            "value": " 68587/68587 [00:02&lt;00:00, 60306.04 examples/s]"
          }
        },
        "a332f568687f4ff69424b763ed9a530d": {
          "model_module": "@jupyter-widgets/controls",
          "model_module_version": "1.5.0",
          "model_name": "DescriptionStyleModel",
          "state": {
            "_model_module": "@jupyter-widgets/controls",
            "_model_module_version": "1.5.0",
            "_model_name": "DescriptionStyleModel",
            "_view_count": null,
            "_view_module": "@jupyter-widgets/base",
            "_view_module_version": "1.2.0",
            "_view_name": "StyleView",
            "description_width": ""
          }
        },
        "a3c9bb5b7b1a485d848cdd495c32843b": {
          "model_module": "@jupyter-widgets/base",
          "model_module_version": "1.2.0",
          "model_name": "LayoutModel",
          "state": {
            "_model_module": "@jupyter-widgets/base",
            "_model_module_version": "1.2.0",
            "_model_name": "LayoutModel",
            "_view_count": null,
            "_view_module": "@jupyter-widgets/base",
            "_view_module_version": "1.2.0",
            "_view_name": "LayoutView",
            "align_content": null,
            "align_items": null,
            "align_self": null,
            "border": null,
            "bottom": null,
            "display": null,
            "flex": null,
            "flex_flow": null,
            "grid_area": null,
            "grid_auto_columns": null,
            "grid_auto_flow": null,
            "grid_auto_rows": null,
            "grid_column": null,
            "grid_gap": null,
            "grid_row": null,
            "grid_template_areas": null,
            "grid_template_columns": null,
            "grid_template_rows": null,
            "height": null,
            "justify_content": null,
            "justify_items": null,
            "left": null,
            "margin": null,
            "max_height": null,
            "max_width": null,
            "min_height": null,
            "min_width": null,
            "object_fit": null,
            "object_position": null,
            "order": null,
            "overflow": null,
            "overflow_x": null,
            "overflow_y": null,
            "padding": null,
            "right": null,
            "top": null,
            "visibility": null,
            "width": null
          }
        },
        "a97cb6b8ae334b5bb032ca9697188c16": {
          "model_module": "@jupyter-widgets/controls",
          "model_module_version": "1.5.0",
          "model_name": "FloatProgressModel",
          "state": {
            "_dom_classes": [],
            "_model_module": "@jupyter-widgets/controls",
            "_model_module_version": "1.5.0",
            "_model_name": "FloatProgressModel",
            "_view_count": null,
            "_view_module": "@jupyter-widgets/controls",
            "_view_module_version": "1.5.0",
            "_view_name": "ProgressView",
            "bar_style": "success",
            "description": "",
            "description_tooltip": null,
            "layout": "IPY_MODEL_32de91eba8c3405cac6313682f0b3c46",
            "max": 3107,
            "min": 0,
            "orientation": "horizontal",
            "style": "IPY_MODEL_1b3c02a7f690415199823cdc68800e1c",
            "value": 3107
          }
        },
        "b2568f8fdb014771802a160f51cab4b0": {
          "model_module": "@jupyter-widgets/base",
          "model_module_version": "1.2.0",
          "model_name": "LayoutModel",
          "state": {
            "_model_module": "@jupyter-widgets/base",
            "_model_module_version": "1.2.0",
            "_model_name": "LayoutModel",
            "_view_count": null,
            "_view_module": "@jupyter-widgets/base",
            "_view_module_version": "1.2.0",
            "_view_name": "LayoutView",
            "align_content": null,
            "align_items": null,
            "align_self": null,
            "border": null,
            "bottom": null,
            "display": null,
            "flex": null,
            "flex_flow": null,
            "grid_area": null,
            "grid_auto_columns": null,
            "grid_auto_flow": null,
            "grid_auto_rows": null,
            "grid_column": null,
            "grid_gap": null,
            "grid_row": null,
            "grid_template_areas": null,
            "grid_template_columns": null,
            "grid_template_rows": null,
            "height": null,
            "justify_content": null,
            "justify_items": null,
            "left": null,
            "margin": null,
            "max_height": null,
            "max_width": null,
            "min_height": null,
            "min_width": null,
            "object_fit": null,
            "object_position": null,
            "order": null,
            "overflow": null,
            "overflow_x": null,
            "overflow_y": null,
            "padding": null,
            "right": null,
            "top": null,
            "visibility": null,
            "width": null
          }
        },
        "b35862103c4347e3a7426088e4003dcb": {
          "model_module": "@jupyter-widgets/controls",
          "model_module_version": "1.5.0",
          "model_name": "HTMLModel",
          "state": {
            "_dom_classes": [],
            "_model_module": "@jupyter-widgets/controls",
            "_model_module_version": "1.5.0",
            "_model_name": "HTMLModel",
            "_view_count": null,
            "_view_module": "@jupyter-widgets/controls",
            "_view_module_version": "1.5.0",
            "_view_name": "HTMLView",
            "description": "",
            "description_tooltip": null,
            "layout": "IPY_MODEL_5fff9aa04919476ea27727e742227a0c",
            "placeholder": "​",
            "style": "IPY_MODEL_032e934b509a46f4abc2be83d294add8",
            "value": "Saving the dataset (1/1 shards): 100%"
          }
        },
        "d7f803f07d06416990e8360cfaca08f5": {
          "model_module": "@jupyter-widgets/base",
          "model_module_version": "1.2.0",
          "model_name": "LayoutModel",
          "state": {
            "_model_module": "@jupyter-widgets/base",
            "_model_module_version": "1.2.0",
            "_model_name": "LayoutModel",
            "_view_count": null,
            "_view_module": "@jupyter-widgets/base",
            "_view_module_version": "1.2.0",
            "_view_name": "LayoutView",
            "align_content": null,
            "align_items": null,
            "align_self": null,
            "border": null,
            "bottom": null,
            "display": null,
            "flex": null,
            "flex_flow": null,
            "grid_area": null,
            "grid_auto_columns": null,
            "grid_auto_flow": null,
            "grid_auto_rows": null,
            "grid_column": null,
            "grid_gap": null,
            "grid_row": null,
            "grid_template_areas": null,
            "grid_template_columns": null,
            "grid_template_rows": null,
            "height": null,
            "justify_content": null,
            "justify_items": null,
            "left": null,
            "margin": null,
            "max_height": null,
            "max_width": null,
            "min_height": null,
            "min_width": null,
            "object_fit": null,
            "object_position": null,
            "order": null,
            "overflow": null,
            "overflow_x": null,
            "overflow_y": null,
            "padding": null,
            "right": null,
            "top": null,
            "visibility": null,
            "width": null
          }
        },
        "e603632c49184b8281fac18bf4538660": {
          "model_module": "@jupyter-widgets/controls",
          "model_module_version": "1.5.0",
          "model_name": "HTMLModel",
          "state": {
            "_dom_classes": [],
            "_model_module": "@jupyter-widgets/controls",
            "_model_module_version": "1.5.0",
            "_model_name": "HTMLModel",
            "_view_count": null,
            "_view_module": "@jupyter-widgets/controls",
            "_view_module_version": "1.5.0",
            "_view_name": "HTMLView",
            "description": "",
            "description_tooltip": null,
            "layout": "IPY_MODEL_b2568f8fdb014771802a160f51cab4b0",
            "placeholder": "​",
            "style": "IPY_MODEL_1b917909b36e4b00aa00013c5c689e0a",
            "value": " 1890/1890 [00:00&lt;00:00, 38104.93 examples/s]"
          }
        },
        "e8f7932958ca484aabb8a6c9859481c7": {
          "model_module": "@jupyter-widgets/controls",
          "model_module_version": "1.5.0",
          "model_name": "DescriptionStyleModel",
          "state": {
            "_model_module": "@jupyter-widgets/controls",
            "_model_module_version": "1.5.0",
            "_model_name": "DescriptionStyleModel",
            "_view_count": null,
            "_view_module": "@jupyter-widgets/base",
            "_view_module_version": "1.2.0",
            "_view_name": "StyleView",
            "description_width": ""
          }
        },
        "f1af81b9cb3e48f38af79d319ffcaafa": {
          "model_module": "@jupyter-widgets/controls",
          "model_module_version": "1.5.0",
          "model_name": "HTMLModel",
          "state": {
            "_dom_classes": [],
            "_model_module": "@jupyter-widgets/controls",
            "_model_module_version": "1.5.0",
            "_model_name": "HTMLModel",
            "_view_count": null,
            "_view_module": "@jupyter-widgets/controls",
            "_view_module_version": "1.5.0",
            "_view_name": "HTMLView",
            "description": "",
            "description_tooltip": null,
            "layout": "IPY_MODEL_29a38a25fd114086a63f0294900f57ea",
            "placeholder": "​",
            "style": "IPY_MODEL_a332f568687f4ff69424b763ed9a530d",
            "value": "Saving the dataset (1/1 shards): 100%"
          }
        },
        "fa5b6b19a42b480bb03639e98245727e": {
          "model_module": "@jupyter-widgets/controls",
          "model_module_version": "1.5.0",
          "model_name": "DescriptionStyleModel",
          "state": {
            "_model_module": "@jupyter-widgets/controls",
            "_model_module_version": "1.5.0",
            "_model_name": "DescriptionStyleModel",
            "_view_count": null,
            "_view_module": "@jupyter-widgets/base",
            "_view_module_version": "1.2.0",
            "_view_name": "StyleView",
            "description_width": ""
          }
        },
        "9d5c0b469bd643948736244c5e9dab10": {
          "model_module": "@jupyter-widgets/controls",
          "model_name": "HBoxModel",
          "model_module_version": "1.5.0",
          "state": {
            "_dom_classes": [],
            "_model_module": "@jupyter-widgets/controls",
            "_model_module_version": "1.5.0",
            "_model_name": "HBoxModel",
            "_view_count": null,
            "_view_module": "@jupyter-widgets/controls",
            "_view_module_version": "1.5.0",
            "_view_name": "HBoxView",
            "box_style": "",
            "children": [
              "IPY_MODEL_6957067c0dcb497a9785e52792e6bfff",
              "IPY_MODEL_85dd4e8078be4030b66f2ec80ef439c4",
              "IPY_MODEL_e1439cc990ed40c6886ac48a27804e9e"
            ],
            "layout": "IPY_MODEL_f28f2de9e7144c73862ac6f671891d7f"
          }
        },
        "6957067c0dcb497a9785e52792e6bfff": {
          "model_module": "@jupyter-widgets/controls",
          "model_name": "HTMLModel",
          "model_module_version": "1.5.0",
          "state": {
            "_dom_classes": [],
            "_model_module": "@jupyter-widgets/controls",
            "_model_module_version": "1.5.0",
            "_model_name": "HTMLModel",
            "_view_count": null,
            "_view_module": "@jupyter-widgets/controls",
            "_view_module_version": "1.5.0",
            "_view_name": "HTMLView",
            "description": "",
            "description_tooltip": null,
            "layout": "IPY_MODEL_c0b6568c2fc649f5b8c68f52e816b9e6",
            "placeholder": "​",
            "style": "IPY_MODEL_595e5d1c93f6487885708749dca010a5",
            "value": "Downloading (…)okenizer_config.json: 100%"
          }
        },
        "85dd4e8078be4030b66f2ec80ef439c4": {
          "model_module": "@jupyter-widgets/controls",
          "model_name": "FloatProgressModel",
          "model_module_version": "1.5.0",
          "state": {
            "_dom_classes": [],
            "_model_module": "@jupyter-widgets/controls",
            "_model_module_version": "1.5.0",
            "_model_name": "FloatProgressModel",
            "_view_count": null,
            "_view_module": "@jupyter-widgets/controls",
            "_view_module_version": "1.5.0",
            "_view_name": "ProgressView",
            "bar_style": "success",
            "description": "",
            "description_tooltip": null,
            "layout": "IPY_MODEL_0e2d135a667046b9bb7097a0908e5339",
            "max": 776,
            "min": 0,
            "orientation": "horizontal",
            "style": "IPY_MODEL_e092310f1c1f4f3b91e8d563947144e3",
            "value": 776
          }
        },
        "e1439cc990ed40c6886ac48a27804e9e": {
          "model_module": "@jupyter-widgets/controls",
          "model_name": "HTMLModel",
          "model_module_version": "1.5.0",
          "state": {
            "_dom_classes": [],
            "_model_module": "@jupyter-widgets/controls",
            "_model_module_version": "1.5.0",
            "_model_name": "HTMLModel",
            "_view_count": null,
            "_view_module": "@jupyter-widgets/controls",
            "_view_module_version": "1.5.0",
            "_view_name": "HTMLView",
            "description": "",
            "description_tooltip": null,
            "layout": "IPY_MODEL_ed2eeb57d25948219420f87f2d3048fe",
            "placeholder": "​",
            "style": "IPY_MODEL_82dfbd9d3a044c429f849c6480fbec0c",
            "value": " 776/776 [00:00&lt;00:00, 66.3kB/s]"
          }
        },
        "f28f2de9e7144c73862ac6f671891d7f": {
          "model_module": "@jupyter-widgets/base",
          "model_name": "LayoutModel",
          "model_module_version": "1.2.0",
          "state": {
            "_model_module": "@jupyter-widgets/base",
            "_model_module_version": "1.2.0",
            "_model_name": "LayoutModel",
            "_view_count": null,
            "_view_module": "@jupyter-widgets/base",
            "_view_module_version": "1.2.0",
            "_view_name": "LayoutView",
            "align_content": null,
            "align_items": null,
            "align_self": null,
            "border": null,
            "bottom": null,
            "display": null,
            "flex": null,
            "flex_flow": null,
            "grid_area": null,
            "grid_auto_columns": null,
            "grid_auto_flow": null,
            "grid_auto_rows": null,
            "grid_column": null,
            "grid_gap": null,
            "grid_row": null,
            "grid_template_areas": null,
            "grid_template_columns": null,
            "grid_template_rows": null,
            "height": null,
            "justify_content": null,
            "justify_items": null,
            "left": null,
            "margin": null,
            "max_height": null,
            "max_width": null,
            "min_height": null,
            "min_width": null,
            "object_fit": null,
            "object_position": null,
            "order": null,
            "overflow": null,
            "overflow_x": null,
            "overflow_y": null,
            "padding": null,
            "right": null,
            "top": null,
            "visibility": null,
            "width": null
          }
        },
        "c0b6568c2fc649f5b8c68f52e816b9e6": {
          "model_module": "@jupyter-widgets/base",
          "model_name": "LayoutModel",
          "model_module_version": "1.2.0",
          "state": {
            "_model_module": "@jupyter-widgets/base",
            "_model_module_version": "1.2.0",
            "_model_name": "LayoutModel",
            "_view_count": null,
            "_view_module": "@jupyter-widgets/base",
            "_view_module_version": "1.2.0",
            "_view_name": "LayoutView",
            "align_content": null,
            "align_items": null,
            "align_self": null,
            "border": null,
            "bottom": null,
            "display": null,
            "flex": null,
            "flex_flow": null,
            "grid_area": null,
            "grid_auto_columns": null,
            "grid_auto_flow": null,
            "grid_auto_rows": null,
            "grid_column": null,
            "grid_gap": null,
            "grid_row": null,
            "grid_template_areas": null,
            "grid_template_columns": null,
            "grid_template_rows": null,
            "height": null,
            "justify_content": null,
            "justify_items": null,
            "left": null,
            "margin": null,
            "max_height": null,
            "max_width": null,
            "min_height": null,
            "min_width": null,
            "object_fit": null,
            "object_position": null,
            "order": null,
            "overflow": null,
            "overflow_x": null,
            "overflow_y": null,
            "padding": null,
            "right": null,
            "top": null,
            "visibility": null,
            "width": null
          }
        },
        "595e5d1c93f6487885708749dca010a5": {
          "model_module": "@jupyter-widgets/controls",
          "model_name": "DescriptionStyleModel",
          "model_module_version": "1.5.0",
          "state": {
            "_model_module": "@jupyter-widgets/controls",
            "_model_module_version": "1.5.0",
            "_model_name": "DescriptionStyleModel",
            "_view_count": null,
            "_view_module": "@jupyter-widgets/base",
            "_view_module_version": "1.2.0",
            "_view_name": "StyleView",
            "description_width": ""
          }
        },
        "0e2d135a667046b9bb7097a0908e5339": {
          "model_module": "@jupyter-widgets/base",
          "model_name": "LayoutModel",
          "model_module_version": "1.2.0",
          "state": {
            "_model_module": "@jupyter-widgets/base",
            "_model_module_version": "1.2.0",
            "_model_name": "LayoutModel",
            "_view_count": null,
            "_view_module": "@jupyter-widgets/base",
            "_view_module_version": "1.2.0",
            "_view_name": "LayoutView",
            "align_content": null,
            "align_items": null,
            "align_self": null,
            "border": null,
            "bottom": null,
            "display": null,
            "flex": null,
            "flex_flow": null,
            "grid_area": null,
            "grid_auto_columns": null,
            "grid_auto_flow": null,
            "grid_auto_rows": null,
            "grid_column": null,
            "grid_gap": null,
            "grid_row": null,
            "grid_template_areas": null,
            "grid_template_columns": null,
            "grid_template_rows": null,
            "height": null,
            "justify_content": null,
            "justify_items": null,
            "left": null,
            "margin": null,
            "max_height": null,
            "max_width": null,
            "min_height": null,
            "min_width": null,
            "object_fit": null,
            "object_position": null,
            "order": null,
            "overflow": null,
            "overflow_x": null,
            "overflow_y": null,
            "padding": null,
            "right": null,
            "top": null,
            "visibility": null,
            "width": null
          }
        },
        "e092310f1c1f4f3b91e8d563947144e3": {
          "model_module": "@jupyter-widgets/controls",
          "model_name": "ProgressStyleModel",
          "model_module_version": "1.5.0",
          "state": {
            "_model_module": "@jupyter-widgets/controls",
            "_model_module_version": "1.5.0",
            "_model_name": "ProgressStyleModel",
            "_view_count": null,
            "_view_module": "@jupyter-widgets/base",
            "_view_module_version": "1.2.0",
            "_view_name": "StyleView",
            "bar_color": null,
            "description_width": ""
          }
        },
        "ed2eeb57d25948219420f87f2d3048fe": {
          "model_module": "@jupyter-widgets/base",
          "model_name": "LayoutModel",
          "model_module_version": "1.2.0",
          "state": {
            "_model_module": "@jupyter-widgets/base",
            "_model_module_version": "1.2.0",
            "_model_name": "LayoutModel",
            "_view_count": null,
            "_view_module": "@jupyter-widgets/base",
            "_view_module_version": "1.2.0",
            "_view_name": "LayoutView",
            "align_content": null,
            "align_items": null,
            "align_self": null,
            "border": null,
            "bottom": null,
            "display": null,
            "flex": null,
            "flex_flow": null,
            "grid_area": null,
            "grid_auto_columns": null,
            "grid_auto_flow": null,
            "grid_auto_rows": null,
            "grid_column": null,
            "grid_gap": null,
            "grid_row": null,
            "grid_template_areas": null,
            "grid_template_columns": null,
            "grid_template_rows": null,
            "height": null,
            "justify_content": null,
            "justify_items": null,
            "left": null,
            "margin": null,
            "max_height": null,
            "max_width": null,
            "min_height": null,
            "min_width": null,
            "object_fit": null,
            "object_position": null,
            "order": null,
            "overflow": null,
            "overflow_x": null,
            "overflow_y": null,
            "padding": null,
            "right": null,
            "top": null,
            "visibility": null,
            "width": null
          }
        },
        "82dfbd9d3a044c429f849c6480fbec0c": {
          "model_module": "@jupyter-widgets/controls",
          "model_name": "DescriptionStyleModel",
          "model_module_version": "1.5.0",
          "state": {
            "_model_module": "@jupyter-widgets/controls",
            "_model_module_version": "1.5.0",
            "_model_name": "DescriptionStyleModel",
            "_view_count": null,
            "_view_module": "@jupyter-widgets/base",
            "_view_module_version": "1.2.0",
            "_view_name": "StyleView",
            "description_width": ""
          }
        },
        "8a1eb3753ade410b8b65153894849cbb": {
          "model_module": "@jupyter-widgets/controls",
          "model_name": "HBoxModel",
          "model_module_version": "1.5.0",
          "state": {
            "_dom_classes": [],
            "_model_module": "@jupyter-widgets/controls",
            "_model_module_version": "1.5.0",
            "_model_name": "HBoxModel",
            "_view_count": null,
            "_view_module": "@jupyter-widgets/controls",
            "_view_module_version": "1.5.0",
            "_view_name": "HBoxView",
            "box_style": "",
            "children": [
              "IPY_MODEL_f1203efedbab40dfb9b5e68bdb420c44",
              "IPY_MODEL_117009abed99412aae7bcfb713ed0e83",
              "IPY_MODEL_c65c11a1c54c4a0b9e249e0ac3edff51"
            ],
            "layout": "IPY_MODEL_6dcb100f08a242799488d893e13bcb01"
          }
        },
        "f1203efedbab40dfb9b5e68bdb420c44": {
          "model_module": "@jupyter-widgets/controls",
          "model_name": "HTMLModel",
          "model_module_version": "1.5.0",
          "state": {
            "_dom_classes": [],
            "_model_module": "@jupyter-widgets/controls",
            "_model_module_version": "1.5.0",
            "_model_name": "HTMLModel",
            "_view_count": null,
            "_view_module": "@jupyter-widgets/controls",
            "_view_module_version": "1.5.0",
            "_view_name": "HTMLView",
            "description": "",
            "description_tooltip": null,
            "layout": "IPY_MODEL_c779371110b641da88b3c0224ceeedc8",
            "placeholder": "​",
            "style": "IPY_MODEL_7277f2103e184e718225311bbf9d0508",
            "value": "Downloading tokenizer.model: 100%"
          }
        },
        "117009abed99412aae7bcfb713ed0e83": {
          "model_module": "@jupyter-widgets/controls",
          "model_name": "FloatProgressModel",
          "model_module_version": "1.5.0",
          "state": {
            "_dom_classes": [],
            "_model_module": "@jupyter-widgets/controls",
            "_model_module_version": "1.5.0",
            "_model_name": "FloatProgressModel",
            "_view_count": null,
            "_view_module": "@jupyter-widgets/controls",
            "_view_module_version": "1.5.0",
            "_view_name": "ProgressView",
            "bar_style": "success",
            "description": "",
            "description_tooltip": null,
            "layout": "IPY_MODEL_e53e7011018c4fb1a5d7a0b5c6dfc7ef",
            "max": 499723,
            "min": 0,
            "orientation": "horizontal",
            "style": "IPY_MODEL_8922d7d0e5184deb8f17928fe502e6b8",
            "value": 499723
          }
        },
        "c65c11a1c54c4a0b9e249e0ac3edff51": {
          "model_module": "@jupyter-widgets/controls",
          "model_name": "HTMLModel",
          "model_module_version": "1.5.0",
          "state": {
            "_dom_classes": [],
            "_model_module": "@jupyter-widgets/controls",
            "_model_module_version": "1.5.0",
            "_model_name": "HTMLModel",
            "_view_count": null,
            "_view_module": "@jupyter-widgets/controls",
            "_view_module_version": "1.5.0",
            "_view_name": "HTMLView",
            "description": "",
            "description_tooltip": null,
            "layout": "IPY_MODEL_4f94b183add6442f81df06192fbaf5b0",
            "placeholder": "​",
            "style": "IPY_MODEL_176f1d8bc58c49449cf36817abc5a129",
            "value": " 500k/500k [00:00&lt;00:00, 12.1MB/s]"
          }
        },
        "6dcb100f08a242799488d893e13bcb01": {
          "model_module": "@jupyter-widgets/base",
          "model_name": "LayoutModel",
          "model_module_version": "1.2.0",
          "state": {
            "_model_module": "@jupyter-widgets/base",
            "_model_module_version": "1.2.0",
            "_model_name": "LayoutModel",
            "_view_count": null,
            "_view_module": "@jupyter-widgets/base",
            "_view_module_version": "1.2.0",
            "_view_name": "LayoutView",
            "align_content": null,
            "align_items": null,
            "align_self": null,
            "border": null,
            "bottom": null,
            "display": null,
            "flex": null,
            "flex_flow": null,
            "grid_area": null,
            "grid_auto_columns": null,
            "grid_auto_flow": null,
            "grid_auto_rows": null,
            "grid_column": null,
            "grid_gap": null,
            "grid_row": null,
            "grid_template_areas": null,
            "grid_template_columns": null,
            "grid_template_rows": null,
            "height": null,
            "justify_content": null,
            "justify_items": null,
            "left": null,
            "margin": null,
            "max_height": null,
            "max_width": null,
            "min_height": null,
            "min_width": null,
            "object_fit": null,
            "object_position": null,
            "order": null,
            "overflow": null,
            "overflow_x": null,
            "overflow_y": null,
            "padding": null,
            "right": null,
            "top": null,
            "visibility": null,
            "width": null
          }
        },
        "c779371110b641da88b3c0224ceeedc8": {
          "model_module": "@jupyter-widgets/base",
          "model_name": "LayoutModel",
          "model_module_version": "1.2.0",
          "state": {
            "_model_module": "@jupyter-widgets/base",
            "_model_module_version": "1.2.0",
            "_model_name": "LayoutModel",
            "_view_count": null,
            "_view_module": "@jupyter-widgets/base",
            "_view_module_version": "1.2.0",
            "_view_name": "LayoutView",
            "align_content": null,
            "align_items": null,
            "align_self": null,
            "border": null,
            "bottom": null,
            "display": null,
            "flex": null,
            "flex_flow": null,
            "grid_area": null,
            "grid_auto_columns": null,
            "grid_auto_flow": null,
            "grid_auto_rows": null,
            "grid_column": null,
            "grid_gap": null,
            "grid_row": null,
            "grid_template_areas": null,
            "grid_template_columns": null,
            "grid_template_rows": null,
            "height": null,
            "justify_content": null,
            "justify_items": null,
            "left": null,
            "margin": null,
            "max_height": null,
            "max_width": null,
            "min_height": null,
            "min_width": null,
            "object_fit": null,
            "object_position": null,
            "order": null,
            "overflow": null,
            "overflow_x": null,
            "overflow_y": null,
            "padding": null,
            "right": null,
            "top": null,
            "visibility": null,
            "width": null
          }
        },
        "7277f2103e184e718225311bbf9d0508": {
          "model_module": "@jupyter-widgets/controls",
          "model_name": "DescriptionStyleModel",
          "model_module_version": "1.5.0",
          "state": {
            "_model_module": "@jupyter-widgets/controls",
            "_model_module_version": "1.5.0",
            "_model_name": "DescriptionStyleModel",
            "_view_count": null,
            "_view_module": "@jupyter-widgets/base",
            "_view_module_version": "1.2.0",
            "_view_name": "StyleView",
            "description_width": ""
          }
        },
        "e53e7011018c4fb1a5d7a0b5c6dfc7ef": {
          "model_module": "@jupyter-widgets/base",
          "model_name": "LayoutModel",
          "model_module_version": "1.2.0",
          "state": {
            "_model_module": "@jupyter-widgets/base",
            "_model_module_version": "1.2.0",
            "_model_name": "LayoutModel",
            "_view_count": null,
            "_view_module": "@jupyter-widgets/base",
            "_view_module_version": "1.2.0",
            "_view_name": "LayoutView",
            "align_content": null,
            "align_items": null,
            "align_self": null,
            "border": null,
            "bottom": null,
            "display": null,
            "flex": null,
            "flex_flow": null,
            "grid_area": null,
            "grid_auto_columns": null,
            "grid_auto_flow": null,
            "grid_auto_rows": null,
            "grid_column": null,
            "grid_gap": null,
            "grid_row": null,
            "grid_template_areas": null,
            "grid_template_columns": null,
            "grid_template_rows": null,
            "height": null,
            "justify_content": null,
            "justify_items": null,
            "left": null,
            "margin": null,
            "max_height": null,
            "max_width": null,
            "min_height": null,
            "min_width": null,
            "object_fit": null,
            "object_position": null,
            "order": null,
            "overflow": null,
            "overflow_x": null,
            "overflow_y": null,
            "padding": null,
            "right": null,
            "top": null,
            "visibility": null,
            "width": null
          }
        },
        "8922d7d0e5184deb8f17928fe502e6b8": {
          "model_module": "@jupyter-widgets/controls",
          "model_name": "ProgressStyleModel",
          "model_module_version": "1.5.0",
          "state": {
            "_model_module": "@jupyter-widgets/controls",
            "_model_module_version": "1.5.0",
            "_model_name": "ProgressStyleModel",
            "_view_count": null,
            "_view_module": "@jupyter-widgets/base",
            "_view_module_version": "1.2.0",
            "_view_name": "StyleView",
            "bar_color": null,
            "description_width": ""
          }
        },
        "4f94b183add6442f81df06192fbaf5b0": {
          "model_module": "@jupyter-widgets/base",
          "model_name": "LayoutModel",
          "model_module_version": "1.2.0",
          "state": {
            "_model_module": "@jupyter-widgets/base",
            "_model_module_version": "1.2.0",
            "_model_name": "LayoutModel",
            "_view_count": null,
            "_view_module": "@jupyter-widgets/base",
            "_view_module_version": "1.2.0",
            "_view_name": "LayoutView",
            "align_content": null,
            "align_items": null,
            "align_self": null,
            "border": null,
            "bottom": null,
            "display": null,
            "flex": null,
            "flex_flow": null,
            "grid_area": null,
            "grid_auto_columns": null,
            "grid_auto_flow": null,
            "grid_auto_rows": null,
            "grid_column": null,
            "grid_gap": null,
            "grid_row": null,
            "grid_template_areas": null,
            "grid_template_columns": null,
            "grid_template_rows": null,
            "height": null,
            "justify_content": null,
            "justify_items": null,
            "left": null,
            "margin": null,
            "max_height": null,
            "max_width": null,
            "min_height": null,
            "min_width": null,
            "object_fit": null,
            "object_position": null,
            "order": null,
            "overflow": null,
            "overflow_x": null,
            "overflow_y": null,
            "padding": null,
            "right": null,
            "top": null,
            "visibility": null,
            "width": null
          }
        },
        "176f1d8bc58c49449cf36817abc5a129": {
          "model_module": "@jupyter-widgets/controls",
          "model_name": "DescriptionStyleModel",
          "model_module_version": "1.5.0",
          "state": {
            "_model_module": "@jupyter-widgets/controls",
            "_model_module_version": "1.5.0",
            "_model_name": "DescriptionStyleModel",
            "_view_count": null,
            "_view_module": "@jupyter-widgets/base",
            "_view_module_version": "1.2.0",
            "_view_name": "StyleView",
            "description_width": ""
          }
        },
        "bcc18683567c46eda676e58635c37cd5": {
          "model_module": "@jupyter-widgets/controls",
          "model_name": "HBoxModel",
          "model_module_version": "1.5.0",
          "state": {
            "_dom_classes": [],
            "_model_module": "@jupyter-widgets/controls",
            "_model_module_version": "1.5.0",
            "_model_name": "HBoxModel",
            "_view_count": null,
            "_view_module": "@jupyter-widgets/controls",
            "_view_module_version": "1.5.0",
            "_view_name": "HBoxView",
            "box_style": "",
            "children": [
              "IPY_MODEL_4e9bee7e8e0f4c828efd91ff13ad9358",
              "IPY_MODEL_a11b82fd3fb8424eba23492892629330",
              "IPY_MODEL_b07d7e6f4c4b4c378fc96d467eaf836c"
            ],
            "layout": "IPY_MODEL_052b6ff7033842dba57c25c84aaf596a"
          }
        },
        "4e9bee7e8e0f4c828efd91ff13ad9358": {
          "model_module": "@jupyter-widgets/controls",
          "model_name": "HTMLModel",
          "model_module_version": "1.5.0",
          "state": {
            "_dom_classes": [],
            "_model_module": "@jupyter-widgets/controls",
            "_model_module_version": "1.5.0",
            "_model_name": "HTMLModel",
            "_view_count": null,
            "_view_module": "@jupyter-widgets/controls",
            "_view_module_version": "1.5.0",
            "_view_name": "HTMLView",
            "description": "",
            "description_tooltip": null,
            "layout": "IPY_MODEL_0f289d15d8524709b06420516643f802",
            "placeholder": "​",
            "style": "IPY_MODEL_b65345f447e84e488a2664ee5b803958",
            "value": "Downloading (…)/main/tokenizer.json: 100%"
          }
        },
        "a11b82fd3fb8424eba23492892629330": {
          "model_module": "@jupyter-widgets/controls",
          "model_name": "FloatProgressModel",
          "model_module_version": "1.5.0",
          "state": {
            "_dom_classes": [],
            "_model_module": "@jupyter-widgets/controls",
            "_model_module_version": "1.5.0",
            "_model_name": "FloatProgressModel",
            "_view_count": null,
            "_view_module": "@jupyter-widgets/controls",
            "_view_module_version": "1.5.0",
            "_view_name": "ProgressView",
            "bar_style": "success",
            "description": "",
            "description_tooltip": null,
            "layout": "IPY_MODEL_3ce5b5ee82784264a12d728f7a4487c8",
            "max": 1842767,
            "min": 0,
            "orientation": "horizontal",
            "style": "IPY_MODEL_d2239f2eb1ac4fd08da9e8bff58f026c",
            "value": 1842767
          }
        },
        "b07d7e6f4c4b4c378fc96d467eaf836c": {
          "model_module": "@jupyter-widgets/controls",
          "model_name": "HTMLModel",
          "model_module_version": "1.5.0",
          "state": {
            "_dom_classes": [],
            "_model_module": "@jupyter-widgets/controls",
            "_model_module_version": "1.5.0",
            "_model_name": "HTMLModel",
            "_view_count": null,
            "_view_module": "@jupyter-widgets/controls",
            "_view_module_version": "1.5.0",
            "_view_name": "HTMLView",
            "description": "",
            "description_tooltip": null,
            "layout": "IPY_MODEL_086844c13353406bb774df20674dbbf5",
            "placeholder": "​",
            "style": "IPY_MODEL_0814d764ebd2478aaa9b482f67e4c574",
            "value": " 1.84M/1.84M [00:00&lt;00:00, 9.50MB/s]"
          }
        },
        "052b6ff7033842dba57c25c84aaf596a": {
          "model_module": "@jupyter-widgets/base",
          "model_name": "LayoutModel",
          "model_module_version": "1.2.0",
          "state": {
            "_model_module": "@jupyter-widgets/base",
            "_model_module_version": "1.2.0",
            "_model_name": "LayoutModel",
            "_view_count": null,
            "_view_module": "@jupyter-widgets/base",
            "_view_module_version": "1.2.0",
            "_view_name": "LayoutView",
            "align_content": null,
            "align_items": null,
            "align_self": null,
            "border": null,
            "bottom": null,
            "display": null,
            "flex": null,
            "flex_flow": null,
            "grid_area": null,
            "grid_auto_columns": null,
            "grid_auto_flow": null,
            "grid_auto_rows": null,
            "grid_column": null,
            "grid_gap": null,
            "grid_row": null,
            "grid_template_areas": null,
            "grid_template_columns": null,
            "grid_template_rows": null,
            "height": null,
            "justify_content": null,
            "justify_items": null,
            "left": null,
            "margin": null,
            "max_height": null,
            "max_width": null,
            "min_height": null,
            "min_width": null,
            "object_fit": null,
            "object_position": null,
            "order": null,
            "overflow": null,
            "overflow_x": null,
            "overflow_y": null,
            "padding": null,
            "right": null,
            "top": null,
            "visibility": null,
            "width": null
          }
        },
        "0f289d15d8524709b06420516643f802": {
          "model_module": "@jupyter-widgets/base",
          "model_name": "LayoutModel",
          "model_module_version": "1.2.0",
          "state": {
            "_model_module": "@jupyter-widgets/base",
            "_model_module_version": "1.2.0",
            "_model_name": "LayoutModel",
            "_view_count": null,
            "_view_module": "@jupyter-widgets/base",
            "_view_module_version": "1.2.0",
            "_view_name": "LayoutView",
            "align_content": null,
            "align_items": null,
            "align_self": null,
            "border": null,
            "bottom": null,
            "display": null,
            "flex": null,
            "flex_flow": null,
            "grid_area": null,
            "grid_auto_columns": null,
            "grid_auto_flow": null,
            "grid_auto_rows": null,
            "grid_column": null,
            "grid_gap": null,
            "grid_row": null,
            "grid_template_areas": null,
            "grid_template_columns": null,
            "grid_template_rows": null,
            "height": null,
            "justify_content": null,
            "justify_items": null,
            "left": null,
            "margin": null,
            "max_height": null,
            "max_width": null,
            "min_height": null,
            "min_width": null,
            "object_fit": null,
            "object_position": null,
            "order": null,
            "overflow": null,
            "overflow_x": null,
            "overflow_y": null,
            "padding": null,
            "right": null,
            "top": null,
            "visibility": null,
            "width": null
          }
        },
        "b65345f447e84e488a2664ee5b803958": {
          "model_module": "@jupyter-widgets/controls",
          "model_name": "DescriptionStyleModel",
          "model_module_version": "1.5.0",
          "state": {
            "_model_module": "@jupyter-widgets/controls",
            "_model_module_version": "1.5.0",
            "_model_name": "DescriptionStyleModel",
            "_view_count": null,
            "_view_module": "@jupyter-widgets/base",
            "_view_module_version": "1.2.0",
            "_view_name": "StyleView",
            "description_width": ""
          }
        },
        "3ce5b5ee82784264a12d728f7a4487c8": {
          "model_module": "@jupyter-widgets/base",
          "model_name": "LayoutModel",
          "model_module_version": "1.2.0",
          "state": {
            "_model_module": "@jupyter-widgets/base",
            "_model_module_version": "1.2.0",
            "_model_name": "LayoutModel",
            "_view_count": null,
            "_view_module": "@jupyter-widgets/base",
            "_view_module_version": "1.2.0",
            "_view_name": "LayoutView",
            "align_content": null,
            "align_items": null,
            "align_self": null,
            "border": null,
            "bottom": null,
            "display": null,
            "flex": null,
            "flex_flow": null,
            "grid_area": null,
            "grid_auto_columns": null,
            "grid_auto_flow": null,
            "grid_auto_rows": null,
            "grid_column": null,
            "grid_gap": null,
            "grid_row": null,
            "grid_template_areas": null,
            "grid_template_columns": null,
            "grid_template_rows": null,
            "height": null,
            "justify_content": null,
            "justify_items": null,
            "left": null,
            "margin": null,
            "max_height": null,
            "max_width": null,
            "min_height": null,
            "min_width": null,
            "object_fit": null,
            "object_position": null,
            "order": null,
            "overflow": null,
            "overflow_x": null,
            "overflow_y": null,
            "padding": null,
            "right": null,
            "top": null,
            "visibility": null,
            "width": null
          }
        },
        "d2239f2eb1ac4fd08da9e8bff58f026c": {
          "model_module": "@jupyter-widgets/controls",
          "model_name": "ProgressStyleModel",
          "model_module_version": "1.5.0",
          "state": {
            "_model_module": "@jupyter-widgets/controls",
            "_model_module_version": "1.5.0",
            "_model_name": "ProgressStyleModel",
            "_view_count": null,
            "_view_module": "@jupyter-widgets/base",
            "_view_module_version": "1.2.0",
            "_view_name": "StyleView",
            "bar_color": null,
            "description_width": ""
          }
        },
        "086844c13353406bb774df20674dbbf5": {
          "model_module": "@jupyter-widgets/base",
          "model_name": "LayoutModel",
          "model_module_version": "1.2.0",
          "state": {
            "_model_module": "@jupyter-widgets/base",
            "_model_module_version": "1.2.0",
            "_model_name": "LayoutModel",
            "_view_count": null,
            "_view_module": "@jupyter-widgets/base",
            "_view_module_version": "1.2.0",
            "_view_name": "LayoutView",
            "align_content": null,
            "align_items": null,
            "align_self": null,
            "border": null,
            "bottom": null,
            "display": null,
            "flex": null,
            "flex_flow": null,
            "grid_area": null,
            "grid_auto_columns": null,
            "grid_auto_flow": null,
            "grid_auto_rows": null,
            "grid_column": null,
            "grid_gap": null,
            "grid_row": null,
            "grid_template_areas": null,
            "grid_template_columns": null,
            "grid_template_rows": null,
            "height": null,
            "justify_content": null,
            "justify_items": null,
            "left": null,
            "margin": null,
            "max_height": null,
            "max_width": null,
            "min_height": null,
            "min_width": null,
            "object_fit": null,
            "object_position": null,
            "order": null,
            "overflow": null,
            "overflow_x": null,
            "overflow_y": null,
            "padding": null,
            "right": null,
            "top": null,
            "visibility": null,
            "width": null
          }
        },
        "0814d764ebd2478aaa9b482f67e4c574": {
          "model_module": "@jupyter-widgets/controls",
          "model_name": "DescriptionStyleModel",
          "model_module_version": "1.5.0",
          "state": {
            "_model_module": "@jupyter-widgets/controls",
            "_model_module_version": "1.5.0",
            "_model_name": "DescriptionStyleModel",
            "_view_count": null,
            "_view_module": "@jupyter-widgets/base",
            "_view_module_version": "1.2.0",
            "_view_name": "StyleView",
            "description_width": ""
          }
        },
        "41fee4f35c0b48c48105562c31c8cd67": {
          "model_module": "@jupyter-widgets/controls",
          "model_name": "HBoxModel",
          "model_module_version": "1.5.0",
          "state": {
            "_dom_classes": [],
            "_model_module": "@jupyter-widgets/controls",
            "_model_module_version": "1.5.0",
            "_model_name": "HBoxModel",
            "_view_count": null,
            "_view_module": "@jupyter-widgets/controls",
            "_view_module_version": "1.5.0",
            "_view_name": "HBoxView",
            "box_style": "",
            "children": [
              "IPY_MODEL_5a96a26331ce4a908206882152ab4d83",
              "IPY_MODEL_48bc9a0e8b8342e3a4eb3d0e391d7379",
              "IPY_MODEL_569282986b424054988aefa4ca918315"
            ],
            "layout": "IPY_MODEL_8470aea462754c4a8659b0d8f2f8e60d"
          }
        },
        "5a96a26331ce4a908206882152ab4d83": {
          "model_module": "@jupyter-widgets/controls",
          "model_name": "HTMLModel",
          "model_module_version": "1.5.0",
          "state": {
            "_dom_classes": [],
            "_model_module": "@jupyter-widgets/controls",
            "_model_module_version": "1.5.0",
            "_model_name": "HTMLModel",
            "_view_count": null,
            "_view_module": "@jupyter-widgets/controls",
            "_view_module_version": "1.5.0",
            "_view_name": "HTMLView",
            "description": "",
            "description_tooltip": null,
            "layout": "IPY_MODEL_9ccef3f9f934407791f93dab28ac131f",
            "placeholder": "​",
            "style": "IPY_MODEL_4601f93a051d4c73b0b9b671b2f5beb1",
            "value": "Downloading (…)cial_tokens_map.json: 100%"
          }
        },
        "48bc9a0e8b8342e3a4eb3d0e391d7379": {
          "model_module": "@jupyter-widgets/controls",
          "model_name": "FloatProgressModel",
          "model_module_version": "1.5.0",
          "state": {
            "_dom_classes": [],
            "_model_module": "@jupyter-widgets/controls",
            "_model_module_version": "1.5.0",
            "_model_name": "FloatProgressModel",
            "_view_count": null,
            "_view_module": "@jupyter-widgets/controls",
            "_view_module_version": "1.5.0",
            "_view_name": "ProgressView",
            "bar_style": "success",
            "description": "",
            "description_tooltip": null,
            "layout": "IPY_MODEL_1b5e3c6df2264485888902fa9e5ae4ff",
            "max": 414,
            "min": 0,
            "orientation": "horizontal",
            "style": "IPY_MODEL_36e3b32e27db4378a6235c526f036b29",
            "value": 414
          }
        },
        "569282986b424054988aefa4ca918315": {
          "model_module": "@jupyter-widgets/controls",
          "model_name": "HTMLModel",
          "model_module_version": "1.5.0",
          "state": {
            "_dom_classes": [],
            "_model_module": "@jupyter-widgets/controls",
            "_model_module_version": "1.5.0",
            "_model_name": "HTMLModel",
            "_view_count": null,
            "_view_module": "@jupyter-widgets/controls",
            "_view_module_version": "1.5.0",
            "_view_name": "HTMLView",
            "description": "",
            "description_tooltip": null,
            "layout": "IPY_MODEL_58bbc2b1e40647d19dff125b820936d2",
            "placeholder": "​",
            "style": "IPY_MODEL_5f33a416f40d4f86b8e55ae17ca8f1c6",
            "value": " 414/414 [00:00&lt;00:00, 37.3kB/s]"
          }
        },
        "8470aea462754c4a8659b0d8f2f8e60d": {
          "model_module": "@jupyter-widgets/base",
          "model_name": "LayoutModel",
          "model_module_version": "1.2.0",
          "state": {
            "_model_module": "@jupyter-widgets/base",
            "_model_module_version": "1.2.0",
            "_model_name": "LayoutModel",
            "_view_count": null,
            "_view_module": "@jupyter-widgets/base",
            "_view_module_version": "1.2.0",
            "_view_name": "LayoutView",
            "align_content": null,
            "align_items": null,
            "align_self": null,
            "border": null,
            "bottom": null,
            "display": null,
            "flex": null,
            "flex_flow": null,
            "grid_area": null,
            "grid_auto_columns": null,
            "grid_auto_flow": null,
            "grid_auto_rows": null,
            "grid_column": null,
            "grid_gap": null,
            "grid_row": null,
            "grid_template_areas": null,
            "grid_template_columns": null,
            "grid_template_rows": null,
            "height": null,
            "justify_content": null,
            "justify_items": null,
            "left": null,
            "margin": null,
            "max_height": null,
            "max_width": null,
            "min_height": null,
            "min_width": null,
            "object_fit": null,
            "object_position": null,
            "order": null,
            "overflow": null,
            "overflow_x": null,
            "overflow_y": null,
            "padding": null,
            "right": null,
            "top": null,
            "visibility": null,
            "width": null
          }
        },
        "9ccef3f9f934407791f93dab28ac131f": {
          "model_module": "@jupyter-widgets/base",
          "model_name": "LayoutModel",
          "model_module_version": "1.2.0",
          "state": {
            "_model_module": "@jupyter-widgets/base",
            "_model_module_version": "1.2.0",
            "_model_name": "LayoutModel",
            "_view_count": null,
            "_view_module": "@jupyter-widgets/base",
            "_view_module_version": "1.2.0",
            "_view_name": "LayoutView",
            "align_content": null,
            "align_items": null,
            "align_self": null,
            "border": null,
            "bottom": null,
            "display": null,
            "flex": null,
            "flex_flow": null,
            "grid_area": null,
            "grid_auto_columns": null,
            "grid_auto_flow": null,
            "grid_auto_rows": null,
            "grid_column": null,
            "grid_gap": null,
            "grid_row": null,
            "grid_template_areas": null,
            "grid_template_columns": null,
            "grid_template_rows": null,
            "height": null,
            "justify_content": null,
            "justify_items": null,
            "left": null,
            "margin": null,
            "max_height": null,
            "max_width": null,
            "min_height": null,
            "min_width": null,
            "object_fit": null,
            "object_position": null,
            "order": null,
            "overflow": null,
            "overflow_x": null,
            "overflow_y": null,
            "padding": null,
            "right": null,
            "top": null,
            "visibility": null,
            "width": null
          }
        },
        "4601f93a051d4c73b0b9b671b2f5beb1": {
          "model_module": "@jupyter-widgets/controls",
          "model_name": "DescriptionStyleModel",
          "model_module_version": "1.5.0",
          "state": {
            "_model_module": "@jupyter-widgets/controls",
            "_model_module_version": "1.5.0",
            "_model_name": "DescriptionStyleModel",
            "_view_count": null,
            "_view_module": "@jupyter-widgets/base",
            "_view_module_version": "1.2.0",
            "_view_name": "StyleView",
            "description_width": ""
          }
        },
        "1b5e3c6df2264485888902fa9e5ae4ff": {
          "model_module": "@jupyter-widgets/base",
          "model_name": "LayoutModel",
          "model_module_version": "1.2.0",
          "state": {
            "_model_module": "@jupyter-widgets/base",
            "_model_module_version": "1.2.0",
            "_model_name": "LayoutModel",
            "_view_count": null,
            "_view_module": "@jupyter-widgets/base",
            "_view_module_version": "1.2.0",
            "_view_name": "LayoutView",
            "align_content": null,
            "align_items": null,
            "align_self": null,
            "border": null,
            "bottom": null,
            "display": null,
            "flex": null,
            "flex_flow": null,
            "grid_area": null,
            "grid_auto_columns": null,
            "grid_auto_flow": null,
            "grid_auto_rows": null,
            "grid_column": null,
            "grid_gap": null,
            "grid_row": null,
            "grid_template_areas": null,
            "grid_template_columns": null,
            "grid_template_rows": null,
            "height": null,
            "justify_content": null,
            "justify_items": null,
            "left": null,
            "margin": null,
            "max_height": null,
            "max_width": null,
            "min_height": null,
            "min_width": null,
            "object_fit": null,
            "object_position": null,
            "order": null,
            "overflow": null,
            "overflow_x": null,
            "overflow_y": null,
            "padding": null,
            "right": null,
            "top": null,
            "visibility": null,
            "width": null
          }
        },
        "36e3b32e27db4378a6235c526f036b29": {
          "model_module": "@jupyter-widgets/controls",
          "model_name": "ProgressStyleModel",
          "model_module_version": "1.5.0",
          "state": {
            "_model_module": "@jupyter-widgets/controls",
            "_model_module_version": "1.5.0",
            "_model_name": "ProgressStyleModel",
            "_view_count": null,
            "_view_module": "@jupyter-widgets/base",
            "_view_module_version": "1.2.0",
            "_view_name": "StyleView",
            "bar_color": null,
            "description_width": ""
          }
        },
        "58bbc2b1e40647d19dff125b820936d2": {
          "model_module": "@jupyter-widgets/base",
          "model_name": "LayoutModel",
          "model_module_version": "1.2.0",
          "state": {
            "_model_module": "@jupyter-widgets/base",
            "_model_module_version": "1.2.0",
            "_model_name": "LayoutModel",
            "_view_count": null,
            "_view_module": "@jupyter-widgets/base",
            "_view_module_version": "1.2.0",
            "_view_name": "LayoutView",
            "align_content": null,
            "align_items": null,
            "align_self": null,
            "border": null,
            "bottom": null,
            "display": null,
            "flex": null,
            "flex_flow": null,
            "grid_area": null,
            "grid_auto_columns": null,
            "grid_auto_flow": null,
            "grid_auto_rows": null,
            "grid_column": null,
            "grid_gap": null,
            "grid_row": null,
            "grid_template_areas": null,
            "grid_template_columns": null,
            "grid_template_rows": null,
            "height": null,
            "justify_content": null,
            "justify_items": null,
            "left": null,
            "margin": null,
            "max_height": null,
            "max_width": null,
            "min_height": null,
            "min_width": null,
            "object_fit": null,
            "object_position": null,
            "order": null,
            "overflow": null,
            "overflow_x": null,
            "overflow_y": null,
            "padding": null,
            "right": null,
            "top": null,
            "visibility": null,
            "width": null
          }
        },
        "5f33a416f40d4f86b8e55ae17ca8f1c6": {
          "model_module": "@jupyter-widgets/controls",
          "model_name": "DescriptionStyleModel",
          "model_module_version": "1.5.0",
          "state": {
            "_model_module": "@jupyter-widgets/controls",
            "_model_module_version": "1.5.0",
            "_model_name": "DescriptionStyleModel",
            "_view_count": null,
            "_view_module": "@jupyter-widgets/base",
            "_view_module_version": "1.2.0",
            "_view_name": "StyleView",
            "description_width": ""
          }
        },
        "7ac67890316f4559b3005fc367f86401": {
          "model_module": "@jupyter-widgets/controls",
          "model_name": "HBoxModel",
          "model_module_version": "1.5.0",
          "state": {
            "_dom_classes": [],
            "_model_module": "@jupyter-widgets/controls",
            "_model_module_version": "1.5.0",
            "_model_name": "HBoxModel",
            "_view_count": null,
            "_view_module": "@jupyter-widgets/controls",
            "_view_module_version": "1.5.0",
            "_view_name": "HBoxView",
            "box_style": "",
            "children": [
              "IPY_MODEL_3d0d8e325fb64e96b2039772c365f8c1",
              "IPY_MODEL_26a60f249219484d8dc47b64bb4cc678",
              "IPY_MODEL_9aa538ae09ce4175acada806e2be42e3"
            ],
            "layout": "IPY_MODEL_95df7fbd679c46aabedb54ca17bdab48"
          }
        },
        "3d0d8e325fb64e96b2039772c365f8c1": {
          "model_module": "@jupyter-widgets/controls",
          "model_name": "HTMLModel",
          "model_module_version": "1.5.0",
          "state": {
            "_dom_classes": [],
            "_model_module": "@jupyter-widgets/controls",
            "_model_module_version": "1.5.0",
            "_model_name": "HTMLModel",
            "_view_count": null,
            "_view_module": "@jupyter-widgets/controls",
            "_view_module_version": "1.5.0",
            "_view_name": "HTMLView",
            "description": "",
            "description_tooltip": null,
            "layout": "IPY_MODEL_31cd0e4676c948cda28595782bb54bfb",
            "placeholder": "​",
            "style": "IPY_MODEL_9bc5cb9926694ff8bec35cbfad380a90",
            "value": "Loading checkpoint shards: 100%"
          }
        },
        "26a60f249219484d8dc47b64bb4cc678": {
          "model_module": "@jupyter-widgets/controls",
          "model_name": "FloatProgressModel",
          "model_module_version": "1.5.0",
          "state": {
            "_dom_classes": [],
            "_model_module": "@jupyter-widgets/controls",
            "_model_module_version": "1.5.0",
            "_model_name": "FloatProgressModel",
            "_view_count": null,
            "_view_module": "@jupyter-widgets/controls",
            "_view_module_version": "1.5.0",
            "_view_name": "ProgressView",
            "bar_style": "success",
            "description": "",
            "description_tooltip": null,
            "layout": "IPY_MODEL_accef4ce68024779a9d233e0175b799e",
            "max": 2,
            "min": 0,
            "orientation": "horizontal",
            "style": "IPY_MODEL_edd476981b2047d49d1099974c26296e",
            "value": 2
          }
        },
        "9aa538ae09ce4175acada806e2be42e3": {
          "model_module": "@jupyter-widgets/controls",
          "model_name": "HTMLModel",
          "model_module_version": "1.5.0",
          "state": {
            "_dom_classes": [],
            "_model_module": "@jupyter-widgets/controls",
            "_model_module_version": "1.5.0",
            "_model_name": "HTMLModel",
            "_view_count": null,
            "_view_module": "@jupyter-widgets/controls",
            "_view_module_version": "1.5.0",
            "_view_name": "HTMLView",
            "description": "",
            "description_tooltip": null,
            "layout": "IPY_MODEL_bd70756ed4e24955ab312889f1e8b54f",
            "placeholder": "​",
            "style": "IPY_MODEL_afa6ea55b2f54635abec10b629dc340b",
            "value": " 2/2 [00:09&lt;00:00,  4.51s/it]"
          }
        },
        "95df7fbd679c46aabedb54ca17bdab48": {
          "model_module": "@jupyter-widgets/base",
          "model_name": "LayoutModel",
          "model_module_version": "1.2.0",
          "state": {
            "_model_module": "@jupyter-widgets/base",
            "_model_module_version": "1.2.0",
            "_model_name": "LayoutModel",
            "_view_count": null,
            "_view_module": "@jupyter-widgets/base",
            "_view_module_version": "1.2.0",
            "_view_name": "LayoutView",
            "align_content": null,
            "align_items": null,
            "align_self": null,
            "border": null,
            "bottom": null,
            "display": null,
            "flex": null,
            "flex_flow": null,
            "grid_area": null,
            "grid_auto_columns": null,
            "grid_auto_flow": null,
            "grid_auto_rows": null,
            "grid_column": null,
            "grid_gap": null,
            "grid_row": null,
            "grid_template_areas": null,
            "grid_template_columns": null,
            "grid_template_rows": null,
            "height": null,
            "justify_content": null,
            "justify_items": null,
            "left": null,
            "margin": null,
            "max_height": null,
            "max_width": null,
            "min_height": null,
            "min_width": null,
            "object_fit": null,
            "object_position": null,
            "order": null,
            "overflow": null,
            "overflow_x": null,
            "overflow_y": null,
            "padding": null,
            "right": null,
            "top": null,
            "visibility": null,
            "width": null
          }
        },
        "31cd0e4676c948cda28595782bb54bfb": {
          "model_module": "@jupyter-widgets/base",
          "model_name": "LayoutModel",
          "model_module_version": "1.2.0",
          "state": {
            "_model_module": "@jupyter-widgets/base",
            "_model_module_version": "1.2.0",
            "_model_name": "LayoutModel",
            "_view_count": null,
            "_view_module": "@jupyter-widgets/base",
            "_view_module_version": "1.2.0",
            "_view_name": "LayoutView",
            "align_content": null,
            "align_items": null,
            "align_self": null,
            "border": null,
            "bottom": null,
            "display": null,
            "flex": null,
            "flex_flow": null,
            "grid_area": null,
            "grid_auto_columns": null,
            "grid_auto_flow": null,
            "grid_auto_rows": null,
            "grid_column": null,
            "grid_gap": null,
            "grid_row": null,
            "grid_template_areas": null,
            "grid_template_columns": null,
            "grid_template_rows": null,
            "height": null,
            "justify_content": null,
            "justify_items": null,
            "left": null,
            "margin": null,
            "max_height": null,
            "max_width": null,
            "min_height": null,
            "min_width": null,
            "object_fit": null,
            "object_position": null,
            "order": null,
            "overflow": null,
            "overflow_x": null,
            "overflow_y": null,
            "padding": null,
            "right": null,
            "top": null,
            "visibility": null,
            "width": null
          }
        },
        "9bc5cb9926694ff8bec35cbfad380a90": {
          "model_module": "@jupyter-widgets/controls",
          "model_name": "DescriptionStyleModel",
          "model_module_version": "1.5.0",
          "state": {
            "_model_module": "@jupyter-widgets/controls",
            "_model_module_version": "1.5.0",
            "_model_name": "DescriptionStyleModel",
            "_view_count": null,
            "_view_module": "@jupyter-widgets/base",
            "_view_module_version": "1.2.0",
            "_view_name": "StyleView",
            "description_width": ""
          }
        },
        "accef4ce68024779a9d233e0175b799e": {
          "model_module": "@jupyter-widgets/base",
          "model_name": "LayoutModel",
          "model_module_version": "1.2.0",
          "state": {
            "_model_module": "@jupyter-widgets/base",
            "_model_module_version": "1.2.0",
            "_model_name": "LayoutModel",
            "_view_count": null,
            "_view_module": "@jupyter-widgets/base",
            "_view_module_version": "1.2.0",
            "_view_name": "LayoutView",
            "align_content": null,
            "align_items": null,
            "align_self": null,
            "border": null,
            "bottom": null,
            "display": null,
            "flex": null,
            "flex_flow": null,
            "grid_area": null,
            "grid_auto_columns": null,
            "grid_auto_flow": null,
            "grid_auto_rows": null,
            "grid_column": null,
            "grid_gap": null,
            "grid_row": null,
            "grid_template_areas": null,
            "grid_template_columns": null,
            "grid_template_rows": null,
            "height": null,
            "justify_content": null,
            "justify_items": null,
            "left": null,
            "margin": null,
            "max_height": null,
            "max_width": null,
            "min_height": null,
            "min_width": null,
            "object_fit": null,
            "object_position": null,
            "order": null,
            "overflow": null,
            "overflow_x": null,
            "overflow_y": null,
            "padding": null,
            "right": null,
            "top": null,
            "visibility": null,
            "width": null
          }
        },
        "edd476981b2047d49d1099974c26296e": {
          "model_module": "@jupyter-widgets/controls",
          "model_name": "ProgressStyleModel",
          "model_module_version": "1.5.0",
          "state": {
            "_model_module": "@jupyter-widgets/controls",
            "_model_module_version": "1.5.0",
            "_model_name": "ProgressStyleModel",
            "_view_count": null,
            "_view_module": "@jupyter-widgets/base",
            "_view_module_version": "1.2.0",
            "_view_name": "StyleView",
            "bar_color": null,
            "description_width": ""
          }
        },
        "bd70756ed4e24955ab312889f1e8b54f": {
          "model_module": "@jupyter-widgets/base",
          "model_name": "LayoutModel",
          "model_module_version": "1.2.0",
          "state": {
            "_model_module": "@jupyter-widgets/base",
            "_model_module_version": "1.2.0",
            "_model_name": "LayoutModel",
            "_view_count": null,
            "_view_module": "@jupyter-widgets/base",
            "_view_module_version": "1.2.0",
            "_view_name": "LayoutView",
            "align_content": null,
            "align_items": null,
            "align_self": null,
            "border": null,
            "bottom": null,
            "display": null,
            "flex": null,
            "flex_flow": null,
            "grid_area": null,
            "grid_auto_columns": null,
            "grid_auto_flow": null,
            "grid_auto_rows": null,
            "grid_column": null,
            "grid_gap": null,
            "grid_row": null,
            "grid_template_areas": null,
            "grid_template_columns": null,
            "grid_template_rows": null,
            "height": null,
            "justify_content": null,
            "justify_items": null,
            "left": null,
            "margin": null,
            "max_height": null,
            "max_width": null,
            "min_height": null,
            "min_width": null,
            "object_fit": null,
            "object_position": null,
            "order": null,
            "overflow": null,
            "overflow_x": null,
            "overflow_y": null,
            "padding": null,
            "right": null,
            "top": null,
            "visibility": null,
            "width": null
          }
        },
        "afa6ea55b2f54635abec10b629dc340b": {
          "model_module": "@jupyter-widgets/controls",
          "model_name": "DescriptionStyleModel",
          "model_module_version": "1.5.0",
          "state": {
            "_model_module": "@jupyter-widgets/controls",
            "_model_module_version": "1.5.0",
            "_model_name": "DescriptionStyleModel",
            "_view_count": null,
            "_view_module": "@jupyter-widgets/base",
            "_view_module_version": "1.2.0",
            "_view_name": "StyleView",
            "description_width": ""
          }
        },
        "b518c1242e6b46b3bd7203c80c0b8427": {
          "model_module": "@jupyter-widgets/controls",
          "model_name": "VBoxModel",
          "model_module_version": "1.5.0",
          "state": {
            "_dom_classes": [],
            "_model_module": "@jupyter-widgets/controls",
            "_model_module_version": "1.5.0",
            "_model_name": "VBoxModel",
            "_view_count": null,
            "_view_module": "@jupyter-widgets/controls",
            "_view_module_version": "1.5.0",
            "_view_name": "VBoxView",
            "box_style": "",
            "children": [
              "IPY_MODEL_d975b0fd27b74369a462572b554618e7",
              "IPY_MODEL_74303eb707de44db86807f3c21644d73"
            ],
            "layout": "IPY_MODEL_13d9d2aefd14463485a9e5b11e348787"
          }
        },
        "d975b0fd27b74369a462572b554618e7": {
          "model_module": "@jupyter-widgets/controls",
          "model_name": "LabelModel",
          "model_module_version": "1.5.0",
          "state": {
            "_dom_classes": [],
            "_model_module": "@jupyter-widgets/controls",
            "_model_module_version": "1.5.0",
            "_model_name": "LabelModel",
            "_view_count": null,
            "_view_module": "@jupyter-widgets/controls",
            "_view_module_version": "1.5.0",
            "_view_name": "LabelView",
            "description": "",
            "description_tooltip": null,
            "layout": "IPY_MODEL_1d635c91f62c48619b061770e1760ec1",
            "placeholder": "​",
            "style": "IPY_MODEL_32e16945c8174f2eb947e5fedd124d92",
            "value": "0.002 MB of 0.020 MB uploaded (0.000 MB deduped)\r"
          }
        },
        "74303eb707de44db86807f3c21644d73": {
          "model_module": "@jupyter-widgets/controls",
          "model_name": "FloatProgressModel",
          "model_module_version": "1.5.0",
          "state": {
            "_dom_classes": [],
            "_model_module": "@jupyter-widgets/controls",
            "_model_module_version": "1.5.0",
            "_model_name": "FloatProgressModel",
            "_view_count": null,
            "_view_module": "@jupyter-widgets/controls",
            "_view_module_version": "1.5.0",
            "_view_name": "ProgressView",
            "bar_style": "",
            "description": "",
            "description_tooltip": null,
            "layout": "IPY_MODEL_df7ac59bbf2742d18fcc298e90bb5266",
            "max": 1,
            "min": 0,
            "orientation": "horizontal",
            "style": "IPY_MODEL_85471c498ac04c79b6e51e6b37d5eb68",
            "value": 0.10785463071512309
          }
        },
        "13d9d2aefd14463485a9e5b11e348787": {
          "model_module": "@jupyter-widgets/base",
          "model_name": "LayoutModel",
          "model_module_version": "1.2.0",
          "state": {
            "_model_module": "@jupyter-widgets/base",
            "_model_module_version": "1.2.0",
            "_model_name": "LayoutModel",
            "_view_count": null,
            "_view_module": "@jupyter-widgets/base",
            "_view_module_version": "1.2.0",
            "_view_name": "LayoutView",
            "align_content": null,
            "align_items": null,
            "align_self": null,
            "border": null,
            "bottom": null,
            "display": null,
            "flex": null,
            "flex_flow": null,
            "grid_area": null,
            "grid_auto_columns": null,
            "grid_auto_flow": null,
            "grid_auto_rows": null,
            "grid_column": null,
            "grid_gap": null,
            "grid_row": null,
            "grid_template_areas": null,
            "grid_template_columns": null,
            "grid_template_rows": null,
            "height": null,
            "justify_content": null,
            "justify_items": null,
            "left": null,
            "margin": null,
            "max_height": null,
            "max_width": null,
            "min_height": null,
            "min_width": null,
            "object_fit": null,
            "object_position": null,
            "order": null,
            "overflow": null,
            "overflow_x": null,
            "overflow_y": null,
            "padding": null,
            "right": null,
            "top": null,
            "visibility": null,
            "width": null
          }
        },
        "1d635c91f62c48619b061770e1760ec1": {
          "model_module": "@jupyter-widgets/base",
          "model_name": "LayoutModel",
          "model_module_version": "1.2.0",
          "state": {
            "_model_module": "@jupyter-widgets/base",
            "_model_module_version": "1.2.0",
            "_model_name": "LayoutModel",
            "_view_count": null,
            "_view_module": "@jupyter-widgets/base",
            "_view_module_version": "1.2.0",
            "_view_name": "LayoutView",
            "align_content": null,
            "align_items": null,
            "align_self": null,
            "border": null,
            "bottom": null,
            "display": null,
            "flex": null,
            "flex_flow": null,
            "grid_area": null,
            "grid_auto_columns": null,
            "grid_auto_flow": null,
            "grid_auto_rows": null,
            "grid_column": null,
            "grid_gap": null,
            "grid_row": null,
            "grid_template_areas": null,
            "grid_template_columns": null,
            "grid_template_rows": null,
            "height": null,
            "justify_content": null,
            "justify_items": null,
            "left": null,
            "margin": null,
            "max_height": null,
            "max_width": null,
            "min_height": null,
            "min_width": null,
            "object_fit": null,
            "object_position": null,
            "order": null,
            "overflow": null,
            "overflow_x": null,
            "overflow_y": null,
            "padding": null,
            "right": null,
            "top": null,
            "visibility": null,
            "width": null
          }
        },
        "32e16945c8174f2eb947e5fedd124d92": {
          "model_module": "@jupyter-widgets/controls",
          "model_name": "DescriptionStyleModel",
          "model_module_version": "1.5.0",
          "state": {
            "_model_module": "@jupyter-widgets/controls",
            "_model_module_version": "1.5.0",
            "_model_name": "DescriptionStyleModel",
            "_view_count": null,
            "_view_module": "@jupyter-widgets/base",
            "_view_module_version": "1.2.0",
            "_view_name": "StyleView",
            "description_width": ""
          }
        },
        "df7ac59bbf2742d18fcc298e90bb5266": {
          "model_module": "@jupyter-widgets/base",
          "model_name": "LayoutModel",
          "model_module_version": "1.2.0",
          "state": {
            "_model_module": "@jupyter-widgets/base",
            "_model_module_version": "1.2.0",
            "_model_name": "LayoutModel",
            "_view_count": null,
            "_view_module": "@jupyter-widgets/base",
            "_view_module_version": "1.2.0",
            "_view_name": "LayoutView",
            "align_content": null,
            "align_items": null,
            "align_self": null,
            "border": null,
            "bottom": null,
            "display": null,
            "flex": null,
            "flex_flow": null,
            "grid_area": null,
            "grid_auto_columns": null,
            "grid_auto_flow": null,
            "grid_auto_rows": null,
            "grid_column": null,
            "grid_gap": null,
            "grid_row": null,
            "grid_template_areas": null,
            "grid_template_columns": null,
            "grid_template_rows": null,
            "height": null,
            "justify_content": null,
            "justify_items": null,
            "left": null,
            "margin": null,
            "max_height": null,
            "max_width": null,
            "min_height": null,
            "min_width": null,
            "object_fit": null,
            "object_position": null,
            "order": null,
            "overflow": null,
            "overflow_x": null,
            "overflow_y": null,
            "padding": null,
            "right": null,
            "top": null,
            "visibility": null,
            "width": null
          }
        },
        "85471c498ac04c79b6e51e6b37d5eb68": {
          "model_module": "@jupyter-widgets/controls",
          "model_name": "ProgressStyleModel",
          "model_module_version": "1.5.0",
          "state": {
            "_model_module": "@jupyter-widgets/controls",
            "_model_module_version": "1.5.0",
            "_model_name": "ProgressStyleModel",
            "_view_count": null,
            "_view_module": "@jupyter-widgets/base",
            "_view_module_version": "1.2.0",
            "_view_name": "StyleView",
            "bar_color": null,
            "description_width": ""
          }
        },
        "cd4212404fc04c83aacf091512a2de0e": {
          "model_module": "@jupyter-widgets/controls",
          "model_name": "VBoxModel",
          "model_module_version": "1.5.0",
          "state": {
            "_dom_classes": [],
            "_model_module": "@jupyter-widgets/controls",
            "_model_module_version": "1.5.0",
            "_model_name": "VBoxModel",
            "_view_count": null,
            "_view_module": "@jupyter-widgets/controls",
            "_view_module_version": "1.5.0",
            "_view_name": "VBoxView",
            "box_style": "",
            "children": [
              "IPY_MODEL_f3bf0c04f4fd4082bb3ef177a84c7491",
              "IPY_MODEL_94c65f134a2843d0b8c477aa9a6c765c",
              "IPY_MODEL_d899be12065646588c74b861d2974c9f",
              "IPY_MODEL_6d9fbe553d67446fbab7b97994939bae"
            ],
            "layout": "IPY_MODEL_a244ee4553424eada79fe10d04050b4b"
          }
        },
        "725453a30b774a70b96e638352b0ba8c": {
          "model_module": "@jupyter-widgets/controls",
          "model_name": "HTMLModel",
          "model_module_version": "1.5.0",
          "state": {
            "_dom_classes": [],
            "_model_module": "@jupyter-widgets/controls",
            "_model_module_version": "1.5.0",
            "_model_name": "HTMLModel",
            "_view_count": null,
            "_view_module": "@jupyter-widgets/controls",
            "_view_module_version": "1.5.0",
            "_view_name": "HTMLView",
            "description": "",
            "description_tooltip": null,
            "layout": "IPY_MODEL_d8fd6e681ba948afa81346296154abca",
            "placeholder": "​",
            "style": "IPY_MODEL_f2e2ef05901c42b79ce786a84a238b97",
            "value": "<center> <img\nsrc=https://huggingface.co/front/assets/huggingface_logo-noborder.svg\nalt='Hugging Face'> <br> Copy a token from <a\nhref=\"https://huggingface.co/settings/tokens\" target=\"_blank\">your Hugging Face\ntokens page</a> and paste it below. <br> Immediately click login after copying\nyour token or it might be stored in plain text in this notebook file. </center>"
          }
        },
        "26b95320b74949d39b81261692c5d302": {
          "model_module": "@jupyter-widgets/controls",
          "model_name": "PasswordModel",
          "model_module_version": "1.5.0",
          "state": {
            "_dom_classes": [],
            "_model_module": "@jupyter-widgets/controls",
            "_model_module_version": "1.5.0",
            "_model_name": "PasswordModel",
            "_view_count": null,
            "_view_module": "@jupyter-widgets/controls",
            "_view_module_version": "1.5.0",
            "_view_name": "PasswordView",
            "continuous_update": true,
            "description": "Token:",
            "description_tooltip": null,
            "disabled": false,
            "layout": "IPY_MODEL_00686bd18d2946a886ae16bc427ab02d",
            "placeholder": "​",
            "style": "IPY_MODEL_917bb7bf9e6142d4b8bd85026f4cad0c",
            "value": ""
          }
        },
        "8f0a83ec7ebf448f8eecca44c9c76eeb": {
          "model_module": "@jupyter-widgets/controls",
          "model_name": "CheckboxModel",
          "model_module_version": "1.5.0",
          "state": {
            "_dom_classes": [],
            "_model_module": "@jupyter-widgets/controls",
            "_model_module_version": "1.5.0",
            "_model_name": "CheckboxModel",
            "_view_count": null,
            "_view_module": "@jupyter-widgets/controls",
            "_view_module_version": "1.5.0",
            "_view_name": "CheckboxView",
            "description": "Add token as git credential?",
            "description_tooltip": null,
            "disabled": false,
            "indent": true,
            "layout": "IPY_MODEL_e64c0fbb3e03447fb13a8e80e7a7e113",
            "style": "IPY_MODEL_5431bc1fc9bc475eb0228f5efc3f16ae",
            "value": true
          }
        },
        "6837470881274a849fc5fefae5b0477d": {
          "model_module": "@jupyter-widgets/controls",
          "model_name": "ButtonModel",
          "model_module_version": "1.5.0",
          "state": {
            "_dom_classes": [],
            "_model_module": "@jupyter-widgets/controls",
            "_model_module_version": "1.5.0",
            "_model_name": "ButtonModel",
            "_view_count": null,
            "_view_module": "@jupyter-widgets/controls",
            "_view_module_version": "1.5.0",
            "_view_name": "ButtonView",
            "button_style": "",
            "description": "Login",
            "disabled": false,
            "icon": "",
            "layout": "IPY_MODEL_3533b9156c894223a837c17dc1c062ab",
            "style": "IPY_MODEL_d868a40b9cd540d79116fbf6c83f4d10",
            "tooltip": ""
          }
        },
        "9e1143a8706d4238b8ba45a27d558ff0": {
          "model_module": "@jupyter-widgets/controls",
          "model_name": "HTMLModel",
          "model_module_version": "1.5.0",
          "state": {
            "_dom_classes": [],
            "_model_module": "@jupyter-widgets/controls",
            "_model_module_version": "1.5.0",
            "_model_name": "HTMLModel",
            "_view_count": null,
            "_view_module": "@jupyter-widgets/controls",
            "_view_module_version": "1.5.0",
            "_view_name": "HTMLView",
            "description": "",
            "description_tooltip": null,
            "layout": "IPY_MODEL_9c4d0738e81c4ca6ab2c18a537c6a987",
            "placeholder": "​",
            "style": "IPY_MODEL_3461911249444e63a8aad80b8fcd5d26",
            "value": "\n<b>Pro Tip:</b> If you don't already have one, you can create a dedicated\n'notebooks' token with 'write' access, that you can then easily reuse for all\nnotebooks. </center>"
          }
        },
        "a244ee4553424eada79fe10d04050b4b": {
          "model_module": "@jupyter-widgets/base",
          "model_name": "LayoutModel",
          "model_module_version": "1.2.0",
          "state": {
            "_model_module": "@jupyter-widgets/base",
            "_model_module_version": "1.2.0",
            "_model_name": "LayoutModel",
            "_view_count": null,
            "_view_module": "@jupyter-widgets/base",
            "_view_module_version": "1.2.0",
            "_view_name": "LayoutView",
            "align_content": null,
            "align_items": "center",
            "align_self": null,
            "border": null,
            "bottom": null,
            "display": "flex",
            "flex": null,
            "flex_flow": "column",
            "grid_area": null,
            "grid_auto_columns": null,
            "grid_auto_flow": null,
            "grid_auto_rows": null,
            "grid_column": null,
            "grid_gap": null,
            "grid_row": null,
            "grid_template_areas": null,
            "grid_template_columns": null,
            "grid_template_rows": null,
            "height": null,
            "justify_content": null,
            "justify_items": null,
            "left": null,
            "margin": null,
            "max_height": null,
            "max_width": null,
            "min_height": null,
            "min_width": null,
            "object_fit": null,
            "object_position": null,
            "order": null,
            "overflow": null,
            "overflow_x": null,
            "overflow_y": null,
            "padding": null,
            "right": null,
            "top": null,
            "visibility": null,
            "width": "50%"
          }
        },
        "d8fd6e681ba948afa81346296154abca": {
          "model_module": "@jupyter-widgets/base",
          "model_name": "LayoutModel",
          "model_module_version": "1.2.0",
          "state": {
            "_model_module": "@jupyter-widgets/base",
            "_model_module_version": "1.2.0",
            "_model_name": "LayoutModel",
            "_view_count": null,
            "_view_module": "@jupyter-widgets/base",
            "_view_module_version": "1.2.0",
            "_view_name": "LayoutView",
            "align_content": null,
            "align_items": null,
            "align_self": null,
            "border": null,
            "bottom": null,
            "display": null,
            "flex": null,
            "flex_flow": null,
            "grid_area": null,
            "grid_auto_columns": null,
            "grid_auto_flow": null,
            "grid_auto_rows": null,
            "grid_column": null,
            "grid_gap": null,
            "grid_row": null,
            "grid_template_areas": null,
            "grid_template_columns": null,
            "grid_template_rows": null,
            "height": null,
            "justify_content": null,
            "justify_items": null,
            "left": null,
            "margin": null,
            "max_height": null,
            "max_width": null,
            "min_height": null,
            "min_width": null,
            "object_fit": null,
            "object_position": null,
            "order": null,
            "overflow": null,
            "overflow_x": null,
            "overflow_y": null,
            "padding": null,
            "right": null,
            "top": null,
            "visibility": null,
            "width": null
          }
        },
        "f2e2ef05901c42b79ce786a84a238b97": {
          "model_module": "@jupyter-widgets/controls",
          "model_name": "DescriptionStyleModel",
          "model_module_version": "1.5.0",
          "state": {
            "_model_module": "@jupyter-widgets/controls",
            "_model_module_version": "1.5.0",
            "_model_name": "DescriptionStyleModel",
            "_view_count": null,
            "_view_module": "@jupyter-widgets/base",
            "_view_module_version": "1.2.0",
            "_view_name": "StyleView",
            "description_width": ""
          }
        },
        "00686bd18d2946a886ae16bc427ab02d": {
          "model_module": "@jupyter-widgets/base",
          "model_name": "LayoutModel",
          "model_module_version": "1.2.0",
          "state": {
            "_model_module": "@jupyter-widgets/base",
            "_model_module_version": "1.2.0",
            "_model_name": "LayoutModel",
            "_view_count": null,
            "_view_module": "@jupyter-widgets/base",
            "_view_module_version": "1.2.0",
            "_view_name": "LayoutView",
            "align_content": null,
            "align_items": null,
            "align_self": null,
            "border": null,
            "bottom": null,
            "display": null,
            "flex": null,
            "flex_flow": null,
            "grid_area": null,
            "grid_auto_columns": null,
            "grid_auto_flow": null,
            "grid_auto_rows": null,
            "grid_column": null,
            "grid_gap": null,
            "grid_row": null,
            "grid_template_areas": null,
            "grid_template_columns": null,
            "grid_template_rows": null,
            "height": null,
            "justify_content": null,
            "justify_items": null,
            "left": null,
            "margin": null,
            "max_height": null,
            "max_width": null,
            "min_height": null,
            "min_width": null,
            "object_fit": null,
            "object_position": null,
            "order": null,
            "overflow": null,
            "overflow_x": null,
            "overflow_y": null,
            "padding": null,
            "right": null,
            "top": null,
            "visibility": null,
            "width": null
          }
        },
        "917bb7bf9e6142d4b8bd85026f4cad0c": {
          "model_module": "@jupyter-widgets/controls",
          "model_name": "DescriptionStyleModel",
          "model_module_version": "1.5.0",
          "state": {
            "_model_module": "@jupyter-widgets/controls",
            "_model_module_version": "1.5.0",
            "_model_name": "DescriptionStyleModel",
            "_view_count": null,
            "_view_module": "@jupyter-widgets/base",
            "_view_module_version": "1.2.0",
            "_view_name": "StyleView",
            "description_width": ""
          }
        },
        "e64c0fbb3e03447fb13a8e80e7a7e113": {
          "model_module": "@jupyter-widgets/base",
          "model_name": "LayoutModel",
          "model_module_version": "1.2.0",
          "state": {
            "_model_module": "@jupyter-widgets/base",
            "_model_module_version": "1.2.0",
            "_model_name": "LayoutModel",
            "_view_count": null,
            "_view_module": "@jupyter-widgets/base",
            "_view_module_version": "1.2.0",
            "_view_name": "LayoutView",
            "align_content": null,
            "align_items": null,
            "align_self": null,
            "border": null,
            "bottom": null,
            "display": null,
            "flex": null,
            "flex_flow": null,
            "grid_area": null,
            "grid_auto_columns": null,
            "grid_auto_flow": null,
            "grid_auto_rows": null,
            "grid_column": null,
            "grid_gap": null,
            "grid_row": null,
            "grid_template_areas": null,
            "grid_template_columns": null,
            "grid_template_rows": null,
            "height": null,
            "justify_content": null,
            "justify_items": null,
            "left": null,
            "margin": null,
            "max_height": null,
            "max_width": null,
            "min_height": null,
            "min_width": null,
            "object_fit": null,
            "object_position": null,
            "order": null,
            "overflow": null,
            "overflow_x": null,
            "overflow_y": null,
            "padding": null,
            "right": null,
            "top": null,
            "visibility": null,
            "width": null
          }
        },
        "5431bc1fc9bc475eb0228f5efc3f16ae": {
          "model_module": "@jupyter-widgets/controls",
          "model_name": "DescriptionStyleModel",
          "model_module_version": "1.5.0",
          "state": {
            "_model_module": "@jupyter-widgets/controls",
            "_model_module_version": "1.5.0",
            "_model_name": "DescriptionStyleModel",
            "_view_count": null,
            "_view_module": "@jupyter-widgets/base",
            "_view_module_version": "1.2.0",
            "_view_name": "StyleView",
            "description_width": ""
          }
        },
        "3533b9156c894223a837c17dc1c062ab": {
          "model_module": "@jupyter-widgets/base",
          "model_name": "LayoutModel",
          "model_module_version": "1.2.0",
          "state": {
            "_model_module": "@jupyter-widgets/base",
            "_model_module_version": "1.2.0",
            "_model_name": "LayoutModel",
            "_view_count": null,
            "_view_module": "@jupyter-widgets/base",
            "_view_module_version": "1.2.0",
            "_view_name": "LayoutView",
            "align_content": null,
            "align_items": null,
            "align_self": null,
            "border": null,
            "bottom": null,
            "display": null,
            "flex": null,
            "flex_flow": null,
            "grid_area": null,
            "grid_auto_columns": null,
            "grid_auto_flow": null,
            "grid_auto_rows": null,
            "grid_column": null,
            "grid_gap": null,
            "grid_row": null,
            "grid_template_areas": null,
            "grid_template_columns": null,
            "grid_template_rows": null,
            "height": null,
            "justify_content": null,
            "justify_items": null,
            "left": null,
            "margin": null,
            "max_height": null,
            "max_width": null,
            "min_height": null,
            "min_width": null,
            "object_fit": null,
            "object_position": null,
            "order": null,
            "overflow": null,
            "overflow_x": null,
            "overflow_y": null,
            "padding": null,
            "right": null,
            "top": null,
            "visibility": null,
            "width": null
          }
        },
        "d868a40b9cd540d79116fbf6c83f4d10": {
          "model_module": "@jupyter-widgets/controls",
          "model_name": "ButtonStyleModel",
          "model_module_version": "1.5.0",
          "state": {
            "_model_module": "@jupyter-widgets/controls",
            "_model_module_version": "1.5.0",
            "_model_name": "ButtonStyleModel",
            "_view_count": null,
            "_view_module": "@jupyter-widgets/base",
            "_view_module_version": "1.2.0",
            "_view_name": "StyleView",
            "button_color": null,
            "font_weight": ""
          }
        },
        "9c4d0738e81c4ca6ab2c18a537c6a987": {
          "model_module": "@jupyter-widgets/base",
          "model_name": "LayoutModel",
          "model_module_version": "1.2.0",
          "state": {
            "_model_module": "@jupyter-widgets/base",
            "_model_module_version": "1.2.0",
            "_model_name": "LayoutModel",
            "_view_count": null,
            "_view_module": "@jupyter-widgets/base",
            "_view_module_version": "1.2.0",
            "_view_name": "LayoutView",
            "align_content": null,
            "align_items": null,
            "align_self": null,
            "border": null,
            "bottom": null,
            "display": null,
            "flex": null,
            "flex_flow": null,
            "grid_area": null,
            "grid_auto_columns": null,
            "grid_auto_flow": null,
            "grid_auto_rows": null,
            "grid_column": null,
            "grid_gap": null,
            "grid_row": null,
            "grid_template_areas": null,
            "grid_template_columns": null,
            "grid_template_rows": null,
            "height": null,
            "justify_content": null,
            "justify_items": null,
            "left": null,
            "margin": null,
            "max_height": null,
            "max_width": null,
            "min_height": null,
            "min_width": null,
            "object_fit": null,
            "object_position": null,
            "order": null,
            "overflow": null,
            "overflow_x": null,
            "overflow_y": null,
            "padding": null,
            "right": null,
            "top": null,
            "visibility": null,
            "width": null
          }
        },
        "3461911249444e63a8aad80b8fcd5d26": {
          "model_module": "@jupyter-widgets/controls",
          "model_name": "DescriptionStyleModel",
          "model_module_version": "1.5.0",
          "state": {
            "_model_module": "@jupyter-widgets/controls",
            "_model_module_version": "1.5.0",
            "_model_name": "DescriptionStyleModel",
            "_view_count": null,
            "_view_module": "@jupyter-widgets/base",
            "_view_module_version": "1.2.0",
            "_view_name": "StyleView",
            "description_width": ""
          }
        },
        "78c9ca88bce443ac8c1836e502ee978d": {
          "model_module": "@jupyter-widgets/controls",
          "model_name": "LabelModel",
          "model_module_version": "1.5.0",
          "state": {
            "_dom_classes": [],
            "_model_module": "@jupyter-widgets/controls",
            "_model_module_version": "1.5.0",
            "_model_name": "LabelModel",
            "_view_count": null,
            "_view_module": "@jupyter-widgets/controls",
            "_view_module_version": "1.5.0",
            "_view_name": "LabelView",
            "description": "",
            "description_tooltip": null,
            "layout": "IPY_MODEL_ada25233901b4415ae253324f9af5b33",
            "placeholder": "​",
            "style": "IPY_MODEL_8031dbb45cbf46e1b3714e483080988f",
            "value": "Connecting..."
          }
        },
        "ada25233901b4415ae253324f9af5b33": {
          "model_module": "@jupyter-widgets/base",
          "model_name": "LayoutModel",
          "model_module_version": "1.2.0",
          "state": {
            "_model_module": "@jupyter-widgets/base",
            "_model_module_version": "1.2.0",
            "_model_name": "LayoutModel",
            "_view_count": null,
            "_view_module": "@jupyter-widgets/base",
            "_view_module_version": "1.2.0",
            "_view_name": "LayoutView",
            "align_content": null,
            "align_items": null,
            "align_self": null,
            "border": null,
            "bottom": null,
            "display": null,
            "flex": null,
            "flex_flow": null,
            "grid_area": null,
            "grid_auto_columns": null,
            "grid_auto_flow": null,
            "grid_auto_rows": null,
            "grid_column": null,
            "grid_gap": null,
            "grid_row": null,
            "grid_template_areas": null,
            "grid_template_columns": null,
            "grid_template_rows": null,
            "height": null,
            "justify_content": null,
            "justify_items": null,
            "left": null,
            "margin": null,
            "max_height": null,
            "max_width": null,
            "min_height": null,
            "min_width": null,
            "object_fit": null,
            "object_position": null,
            "order": null,
            "overflow": null,
            "overflow_x": null,
            "overflow_y": null,
            "padding": null,
            "right": null,
            "top": null,
            "visibility": null,
            "width": null
          }
        },
        "8031dbb45cbf46e1b3714e483080988f": {
          "model_module": "@jupyter-widgets/controls",
          "model_name": "DescriptionStyleModel",
          "model_module_version": "1.5.0",
          "state": {
            "_model_module": "@jupyter-widgets/controls",
            "_model_module_version": "1.5.0",
            "_model_name": "DescriptionStyleModel",
            "_view_count": null,
            "_view_module": "@jupyter-widgets/base",
            "_view_module_version": "1.2.0",
            "_view_name": "StyleView",
            "description_width": ""
          }
        },
        "f3bf0c04f4fd4082bb3ef177a84c7491": {
          "model_module": "@jupyter-widgets/controls",
          "model_name": "LabelModel",
          "model_module_version": "1.5.0",
          "state": {
            "_dom_classes": [],
            "_model_module": "@jupyter-widgets/controls",
            "_model_module_version": "1.5.0",
            "_model_name": "LabelModel",
            "_view_count": null,
            "_view_module": "@jupyter-widgets/controls",
            "_view_module_version": "1.5.0",
            "_view_name": "LabelView",
            "description": "",
            "description_tooltip": null,
            "layout": "IPY_MODEL_c43f5a8ada744bca99eaea8a384b48bc",
            "placeholder": "​",
            "style": "IPY_MODEL_52c66d6e78454c6fae222e2afb816755",
            "value": "Token is valid (permission: write)."
          }
        },
        "94c65f134a2843d0b8c477aa9a6c765c": {
          "model_module": "@jupyter-widgets/controls",
          "model_name": "LabelModel",
          "model_module_version": "1.5.0",
          "state": {
            "_dom_classes": [],
            "_model_module": "@jupyter-widgets/controls",
            "_model_module_version": "1.5.0",
            "_model_name": "LabelModel",
            "_view_count": null,
            "_view_module": "@jupyter-widgets/controls",
            "_view_module_version": "1.5.0",
            "_view_name": "LabelView",
            "description": "",
            "description_tooltip": null,
            "layout": "IPY_MODEL_fb8d58a501e7442d8a9c5a80e728c199",
            "placeholder": "​",
            "style": "IPY_MODEL_9f914fba6bff4209856e9bd454d28144",
            "value": "Your token has been saved in your configured git credential helpers (store)."
          }
        },
        "d899be12065646588c74b861d2974c9f": {
          "model_module": "@jupyter-widgets/controls",
          "model_name": "LabelModel",
          "model_module_version": "1.5.0",
          "state": {
            "_dom_classes": [],
            "_model_module": "@jupyter-widgets/controls",
            "_model_module_version": "1.5.0",
            "_model_name": "LabelModel",
            "_view_count": null,
            "_view_module": "@jupyter-widgets/controls",
            "_view_module_version": "1.5.0",
            "_view_name": "LabelView",
            "description": "",
            "description_tooltip": null,
            "layout": "IPY_MODEL_0a9bef326cc34605adc584d5a0a75e2b",
            "placeholder": "​",
            "style": "IPY_MODEL_88540d2bc30e4ef78843494a98b283ed",
            "value": "Your token has been saved to /root/.cache/huggingface/token"
          }
        },
        "6d9fbe553d67446fbab7b97994939bae": {
          "model_module": "@jupyter-widgets/controls",
          "model_name": "LabelModel",
          "model_module_version": "1.5.0",
          "state": {
            "_dom_classes": [],
            "_model_module": "@jupyter-widgets/controls",
            "_model_module_version": "1.5.0",
            "_model_name": "LabelModel",
            "_view_count": null,
            "_view_module": "@jupyter-widgets/controls",
            "_view_module_version": "1.5.0",
            "_view_name": "LabelView",
            "description": "",
            "description_tooltip": null,
            "layout": "IPY_MODEL_08147cb710ed47d2a52c985256003b9d",
            "placeholder": "​",
            "style": "IPY_MODEL_0738cbc6872f432f99fec7245ae8f58f",
            "value": "Login successful"
          }
        },
        "c43f5a8ada744bca99eaea8a384b48bc": {
          "model_module": "@jupyter-widgets/base",
          "model_name": "LayoutModel",
          "model_module_version": "1.2.0",
          "state": {
            "_model_module": "@jupyter-widgets/base",
            "_model_module_version": "1.2.0",
            "_model_name": "LayoutModel",
            "_view_count": null,
            "_view_module": "@jupyter-widgets/base",
            "_view_module_version": "1.2.0",
            "_view_name": "LayoutView",
            "align_content": null,
            "align_items": null,
            "align_self": null,
            "border": null,
            "bottom": null,
            "display": null,
            "flex": null,
            "flex_flow": null,
            "grid_area": null,
            "grid_auto_columns": null,
            "grid_auto_flow": null,
            "grid_auto_rows": null,
            "grid_column": null,
            "grid_gap": null,
            "grid_row": null,
            "grid_template_areas": null,
            "grid_template_columns": null,
            "grid_template_rows": null,
            "height": null,
            "justify_content": null,
            "justify_items": null,
            "left": null,
            "margin": null,
            "max_height": null,
            "max_width": null,
            "min_height": null,
            "min_width": null,
            "object_fit": null,
            "object_position": null,
            "order": null,
            "overflow": null,
            "overflow_x": null,
            "overflow_y": null,
            "padding": null,
            "right": null,
            "top": null,
            "visibility": null,
            "width": null
          }
        },
        "52c66d6e78454c6fae222e2afb816755": {
          "model_module": "@jupyter-widgets/controls",
          "model_name": "DescriptionStyleModel",
          "model_module_version": "1.5.0",
          "state": {
            "_model_module": "@jupyter-widgets/controls",
            "_model_module_version": "1.5.0",
            "_model_name": "DescriptionStyleModel",
            "_view_count": null,
            "_view_module": "@jupyter-widgets/base",
            "_view_module_version": "1.2.0",
            "_view_name": "StyleView",
            "description_width": ""
          }
        },
        "fb8d58a501e7442d8a9c5a80e728c199": {
          "model_module": "@jupyter-widgets/base",
          "model_name": "LayoutModel",
          "model_module_version": "1.2.0",
          "state": {
            "_model_module": "@jupyter-widgets/base",
            "_model_module_version": "1.2.0",
            "_model_name": "LayoutModel",
            "_view_count": null,
            "_view_module": "@jupyter-widgets/base",
            "_view_module_version": "1.2.0",
            "_view_name": "LayoutView",
            "align_content": null,
            "align_items": null,
            "align_self": null,
            "border": null,
            "bottom": null,
            "display": null,
            "flex": null,
            "flex_flow": null,
            "grid_area": null,
            "grid_auto_columns": null,
            "grid_auto_flow": null,
            "grid_auto_rows": null,
            "grid_column": null,
            "grid_gap": null,
            "grid_row": null,
            "grid_template_areas": null,
            "grid_template_columns": null,
            "grid_template_rows": null,
            "height": null,
            "justify_content": null,
            "justify_items": null,
            "left": null,
            "margin": null,
            "max_height": null,
            "max_width": null,
            "min_height": null,
            "min_width": null,
            "object_fit": null,
            "object_position": null,
            "order": null,
            "overflow": null,
            "overflow_x": null,
            "overflow_y": null,
            "padding": null,
            "right": null,
            "top": null,
            "visibility": null,
            "width": null
          }
        },
        "9f914fba6bff4209856e9bd454d28144": {
          "model_module": "@jupyter-widgets/controls",
          "model_name": "DescriptionStyleModel",
          "model_module_version": "1.5.0",
          "state": {
            "_model_module": "@jupyter-widgets/controls",
            "_model_module_version": "1.5.0",
            "_model_name": "DescriptionStyleModel",
            "_view_count": null,
            "_view_module": "@jupyter-widgets/base",
            "_view_module_version": "1.2.0",
            "_view_name": "StyleView",
            "description_width": ""
          }
        },
        "0a9bef326cc34605adc584d5a0a75e2b": {
          "model_module": "@jupyter-widgets/base",
          "model_name": "LayoutModel",
          "model_module_version": "1.2.0",
          "state": {
            "_model_module": "@jupyter-widgets/base",
            "_model_module_version": "1.2.0",
            "_model_name": "LayoutModel",
            "_view_count": null,
            "_view_module": "@jupyter-widgets/base",
            "_view_module_version": "1.2.0",
            "_view_name": "LayoutView",
            "align_content": null,
            "align_items": null,
            "align_self": null,
            "border": null,
            "bottom": null,
            "display": null,
            "flex": null,
            "flex_flow": null,
            "grid_area": null,
            "grid_auto_columns": null,
            "grid_auto_flow": null,
            "grid_auto_rows": null,
            "grid_column": null,
            "grid_gap": null,
            "grid_row": null,
            "grid_template_areas": null,
            "grid_template_columns": null,
            "grid_template_rows": null,
            "height": null,
            "justify_content": null,
            "justify_items": null,
            "left": null,
            "margin": null,
            "max_height": null,
            "max_width": null,
            "min_height": null,
            "min_width": null,
            "object_fit": null,
            "object_position": null,
            "order": null,
            "overflow": null,
            "overflow_x": null,
            "overflow_y": null,
            "padding": null,
            "right": null,
            "top": null,
            "visibility": null,
            "width": null
          }
        },
        "88540d2bc30e4ef78843494a98b283ed": {
          "model_module": "@jupyter-widgets/controls",
          "model_name": "DescriptionStyleModel",
          "model_module_version": "1.5.0",
          "state": {
            "_model_module": "@jupyter-widgets/controls",
            "_model_module_version": "1.5.0",
            "_model_name": "DescriptionStyleModel",
            "_view_count": null,
            "_view_module": "@jupyter-widgets/base",
            "_view_module_version": "1.2.0",
            "_view_name": "StyleView",
            "description_width": ""
          }
        },
        "08147cb710ed47d2a52c985256003b9d": {
          "model_module": "@jupyter-widgets/base",
          "model_name": "LayoutModel",
          "model_module_version": "1.2.0",
          "state": {
            "_model_module": "@jupyter-widgets/base",
            "_model_module_version": "1.2.0",
            "_model_name": "LayoutModel",
            "_view_count": null,
            "_view_module": "@jupyter-widgets/base",
            "_view_module_version": "1.2.0",
            "_view_name": "LayoutView",
            "align_content": null,
            "align_items": null,
            "align_self": null,
            "border": null,
            "bottom": null,
            "display": null,
            "flex": null,
            "flex_flow": null,
            "grid_area": null,
            "grid_auto_columns": null,
            "grid_auto_flow": null,
            "grid_auto_rows": null,
            "grid_column": null,
            "grid_gap": null,
            "grid_row": null,
            "grid_template_areas": null,
            "grid_template_columns": null,
            "grid_template_rows": null,
            "height": null,
            "justify_content": null,
            "justify_items": null,
            "left": null,
            "margin": null,
            "max_height": null,
            "max_width": null,
            "min_height": null,
            "min_width": null,
            "object_fit": null,
            "object_position": null,
            "order": null,
            "overflow": null,
            "overflow_x": null,
            "overflow_y": null,
            "padding": null,
            "right": null,
            "top": null,
            "visibility": null,
            "width": null
          }
        },
        "0738cbc6872f432f99fec7245ae8f58f": {
          "model_module": "@jupyter-widgets/controls",
          "model_name": "DescriptionStyleModel",
          "model_module_version": "1.5.0",
          "state": {
            "_model_module": "@jupyter-widgets/controls",
            "_model_module_version": "1.5.0",
            "_model_name": "DescriptionStyleModel",
            "_view_count": null,
            "_view_module": "@jupyter-widgets/base",
            "_view_module_version": "1.2.0",
            "_view_name": "StyleView",
            "description_width": ""
          }
        },
        "d8b9ebd56b144cca84cfdad5f10879e0": {
          "model_module": "@jupyter-widgets/controls",
          "model_name": "HBoxModel",
          "model_module_version": "1.5.0",
          "state": {
            "_dom_classes": [],
            "_model_module": "@jupyter-widgets/controls",
            "_model_module_version": "1.5.0",
            "_model_name": "HBoxModel",
            "_view_count": null,
            "_view_module": "@jupyter-widgets/controls",
            "_view_module_version": "1.5.0",
            "_view_name": "HBoxView",
            "box_style": "",
            "children": [
              "IPY_MODEL_ed830893333548ba9d4e7d1db33e9f5d",
              "IPY_MODEL_ede1a4e7b55f4d7abb463f7c14afbbc0",
              "IPY_MODEL_44c0cbdb407142fbb89f089c97534dc2"
            ],
            "layout": "IPY_MODEL_4f4861ac7b094bfa98f13801bd09ede6"
          }
        },
        "ed830893333548ba9d4e7d1db33e9f5d": {
          "model_module": "@jupyter-widgets/controls",
          "model_name": "HTMLModel",
          "model_module_version": "1.5.0",
          "state": {
            "_dom_classes": [],
            "_model_module": "@jupyter-widgets/controls",
            "_model_module_version": "1.5.0",
            "_model_name": "HTMLModel",
            "_view_count": null,
            "_view_module": "@jupyter-widgets/controls",
            "_view_module_version": "1.5.0",
            "_view_name": "HTMLView",
            "description": "",
            "description_tooltip": null,
            "layout": "IPY_MODEL_9f0be450480e4d619f8599640044d3d6",
            "placeholder": "​",
            "style": "IPY_MODEL_a222be8fffe5433f9cabfd35ec5a0880",
            "value": "Loading checkpoint shards: 100%"
          }
        },
        "ede1a4e7b55f4d7abb463f7c14afbbc0": {
          "model_module": "@jupyter-widgets/controls",
          "model_name": "FloatProgressModel",
          "model_module_version": "1.5.0",
          "state": {
            "_dom_classes": [],
            "_model_module": "@jupyter-widgets/controls",
            "_model_module_version": "1.5.0",
            "_model_name": "FloatProgressModel",
            "_view_count": null,
            "_view_module": "@jupyter-widgets/controls",
            "_view_module_version": "1.5.0",
            "_view_name": "ProgressView",
            "bar_style": "success",
            "description": "",
            "description_tooltip": null,
            "layout": "IPY_MODEL_8382ce7095c348dcbe3b154cc5f9b1dc",
            "max": 3,
            "min": 0,
            "orientation": "horizontal",
            "style": "IPY_MODEL_ee8f62c032ef44aa84cc52856d2f8d49",
            "value": 3
          }
        },
        "44c0cbdb407142fbb89f089c97534dc2": {
          "model_module": "@jupyter-widgets/controls",
          "model_name": "HTMLModel",
          "model_module_version": "1.5.0",
          "state": {
            "_dom_classes": [],
            "_model_module": "@jupyter-widgets/controls",
            "_model_module_version": "1.5.0",
            "_model_name": "HTMLModel",
            "_view_count": null,
            "_view_module": "@jupyter-widgets/controls",
            "_view_module_version": "1.5.0",
            "_view_name": "HTMLView",
            "description": "",
            "description_tooltip": null,
            "layout": "IPY_MODEL_09242ee60e184e40bfa968c89d6d9306",
            "placeholder": "​",
            "style": "IPY_MODEL_093ecc61590644e7926e9655d4debae6",
            "value": " 3/3 [00:08&lt;00:00,  2.58s/it]"
          }
        },
        "4f4861ac7b094bfa98f13801bd09ede6": {
          "model_module": "@jupyter-widgets/base",
          "model_name": "LayoutModel",
          "model_module_version": "1.2.0",
          "state": {
            "_model_module": "@jupyter-widgets/base",
            "_model_module_version": "1.2.0",
            "_model_name": "LayoutModel",
            "_view_count": null,
            "_view_module": "@jupyter-widgets/base",
            "_view_module_version": "1.2.0",
            "_view_name": "LayoutView",
            "align_content": null,
            "align_items": null,
            "align_self": null,
            "border": null,
            "bottom": null,
            "display": null,
            "flex": null,
            "flex_flow": null,
            "grid_area": null,
            "grid_auto_columns": null,
            "grid_auto_flow": null,
            "grid_auto_rows": null,
            "grid_column": null,
            "grid_gap": null,
            "grid_row": null,
            "grid_template_areas": null,
            "grid_template_columns": null,
            "grid_template_rows": null,
            "height": null,
            "justify_content": null,
            "justify_items": null,
            "left": null,
            "margin": null,
            "max_height": null,
            "max_width": null,
            "min_height": null,
            "min_width": null,
            "object_fit": null,
            "object_position": null,
            "order": null,
            "overflow": null,
            "overflow_x": null,
            "overflow_y": null,
            "padding": null,
            "right": null,
            "top": null,
            "visibility": null,
            "width": null
          }
        },
        "9f0be450480e4d619f8599640044d3d6": {
          "model_module": "@jupyter-widgets/base",
          "model_name": "LayoutModel",
          "model_module_version": "1.2.0",
          "state": {
            "_model_module": "@jupyter-widgets/base",
            "_model_module_version": "1.2.0",
            "_model_name": "LayoutModel",
            "_view_count": null,
            "_view_module": "@jupyter-widgets/base",
            "_view_module_version": "1.2.0",
            "_view_name": "LayoutView",
            "align_content": null,
            "align_items": null,
            "align_self": null,
            "border": null,
            "bottom": null,
            "display": null,
            "flex": null,
            "flex_flow": null,
            "grid_area": null,
            "grid_auto_columns": null,
            "grid_auto_flow": null,
            "grid_auto_rows": null,
            "grid_column": null,
            "grid_gap": null,
            "grid_row": null,
            "grid_template_areas": null,
            "grid_template_columns": null,
            "grid_template_rows": null,
            "height": null,
            "justify_content": null,
            "justify_items": null,
            "left": null,
            "margin": null,
            "max_height": null,
            "max_width": null,
            "min_height": null,
            "min_width": null,
            "object_fit": null,
            "object_position": null,
            "order": null,
            "overflow": null,
            "overflow_x": null,
            "overflow_y": null,
            "padding": null,
            "right": null,
            "top": null,
            "visibility": null,
            "width": null
          }
        },
        "a222be8fffe5433f9cabfd35ec5a0880": {
          "model_module": "@jupyter-widgets/controls",
          "model_name": "DescriptionStyleModel",
          "model_module_version": "1.5.0",
          "state": {
            "_model_module": "@jupyter-widgets/controls",
            "_model_module_version": "1.5.0",
            "_model_name": "DescriptionStyleModel",
            "_view_count": null,
            "_view_module": "@jupyter-widgets/base",
            "_view_module_version": "1.2.0",
            "_view_name": "StyleView",
            "description_width": ""
          }
        },
        "8382ce7095c348dcbe3b154cc5f9b1dc": {
          "model_module": "@jupyter-widgets/base",
          "model_name": "LayoutModel",
          "model_module_version": "1.2.0",
          "state": {
            "_model_module": "@jupyter-widgets/base",
            "_model_module_version": "1.2.0",
            "_model_name": "LayoutModel",
            "_view_count": null,
            "_view_module": "@jupyter-widgets/base",
            "_view_module_version": "1.2.0",
            "_view_name": "LayoutView",
            "align_content": null,
            "align_items": null,
            "align_self": null,
            "border": null,
            "bottom": null,
            "display": null,
            "flex": null,
            "flex_flow": null,
            "grid_area": null,
            "grid_auto_columns": null,
            "grid_auto_flow": null,
            "grid_auto_rows": null,
            "grid_column": null,
            "grid_gap": null,
            "grid_row": null,
            "grid_template_areas": null,
            "grid_template_columns": null,
            "grid_template_rows": null,
            "height": null,
            "justify_content": null,
            "justify_items": null,
            "left": null,
            "margin": null,
            "max_height": null,
            "max_width": null,
            "min_height": null,
            "min_width": null,
            "object_fit": null,
            "object_position": null,
            "order": null,
            "overflow": null,
            "overflow_x": null,
            "overflow_y": null,
            "padding": null,
            "right": null,
            "top": null,
            "visibility": null,
            "width": null
          }
        },
        "ee8f62c032ef44aa84cc52856d2f8d49": {
          "model_module": "@jupyter-widgets/controls",
          "model_name": "ProgressStyleModel",
          "model_module_version": "1.5.0",
          "state": {
            "_model_module": "@jupyter-widgets/controls",
            "_model_module_version": "1.5.0",
            "_model_name": "ProgressStyleModel",
            "_view_count": null,
            "_view_module": "@jupyter-widgets/base",
            "_view_module_version": "1.2.0",
            "_view_name": "StyleView",
            "bar_color": null,
            "description_width": ""
          }
        },
        "09242ee60e184e40bfa968c89d6d9306": {
          "model_module": "@jupyter-widgets/base",
          "model_name": "LayoutModel",
          "model_module_version": "1.2.0",
          "state": {
            "_model_module": "@jupyter-widgets/base",
            "_model_module_version": "1.2.0",
            "_model_name": "LayoutModel",
            "_view_count": null,
            "_view_module": "@jupyter-widgets/base",
            "_view_module_version": "1.2.0",
            "_view_name": "LayoutView",
            "align_content": null,
            "align_items": null,
            "align_self": null,
            "border": null,
            "bottom": null,
            "display": null,
            "flex": null,
            "flex_flow": null,
            "grid_area": null,
            "grid_auto_columns": null,
            "grid_auto_flow": null,
            "grid_auto_rows": null,
            "grid_column": null,
            "grid_gap": null,
            "grid_row": null,
            "grid_template_areas": null,
            "grid_template_columns": null,
            "grid_template_rows": null,
            "height": null,
            "justify_content": null,
            "justify_items": null,
            "left": null,
            "margin": null,
            "max_height": null,
            "max_width": null,
            "min_height": null,
            "min_width": null,
            "object_fit": null,
            "object_position": null,
            "order": null,
            "overflow": null,
            "overflow_x": null,
            "overflow_y": null,
            "padding": null,
            "right": null,
            "top": null,
            "visibility": null,
            "width": null
          }
        },
        "093ecc61590644e7926e9655d4debae6": {
          "model_module": "@jupyter-widgets/controls",
          "model_name": "DescriptionStyleModel",
          "model_module_version": "1.5.0",
          "state": {
            "_model_module": "@jupyter-widgets/controls",
            "_model_module_version": "1.5.0",
            "_model_name": "DescriptionStyleModel",
            "_view_count": null,
            "_view_module": "@jupyter-widgets/base",
            "_view_module_version": "1.2.0",
            "_view_name": "StyleView",
            "description_width": ""
          }
        },
        "e9480ecdd60e4904bd2e48c09bdb3a79": {
          "model_module": "@jupyter-widgets/controls",
          "model_name": "HBoxModel",
          "model_module_version": "1.5.0",
          "state": {
            "_dom_classes": [],
            "_model_module": "@jupyter-widgets/controls",
            "_model_module_version": "1.5.0",
            "_model_name": "HBoxModel",
            "_view_count": null,
            "_view_module": "@jupyter-widgets/controls",
            "_view_module_version": "1.5.0",
            "_view_name": "HBoxView",
            "box_style": "",
            "children": [
              "IPY_MODEL_87971682d2b341e7b5c1ce24f0ac3882",
              "IPY_MODEL_6b70d1d27160419888e973dfb0064973",
              "IPY_MODEL_d32f051747ee430cb1f325c0c577fc80"
            ],
            "layout": "IPY_MODEL_fe7c669c5daf442ca561c4b487341525"
          }
        },
        "87971682d2b341e7b5c1ce24f0ac3882": {
          "model_module": "@jupyter-widgets/controls",
          "model_name": "HTMLModel",
          "model_module_version": "1.5.0",
          "state": {
            "_dom_classes": [],
            "_model_module": "@jupyter-widgets/controls",
            "_model_module_version": "1.5.0",
            "_model_name": "HTMLModel",
            "_view_count": null,
            "_view_module": "@jupyter-widgets/controls",
            "_view_module_version": "1.5.0",
            "_view_name": "HTMLView",
            "description": "",
            "description_tooltip": null,
            "layout": "IPY_MODEL_9240a6b3db7d435cad11e0e7ea1542c3",
            "placeholder": "​",
            "style": "IPY_MODEL_1e9ad2c749cd44fcb01cf0cf0e40cc49",
            "value": "100%"
          }
        },
        "6b70d1d27160419888e973dfb0064973": {
          "model_module": "@jupyter-widgets/controls",
          "model_name": "FloatProgressModel",
          "model_module_version": "1.5.0",
          "state": {
            "_dom_classes": [],
            "_model_module": "@jupyter-widgets/controls",
            "_model_module_version": "1.5.0",
            "_model_name": "FloatProgressModel",
            "_view_count": null,
            "_view_module": "@jupyter-widgets/controls",
            "_view_module_version": "1.5.0",
            "_view_name": "ProgressView",
            "bar_style": "success",
            "description": "",
            "description_tooltip": null,
            "layout": "IPY_MODEL_e46fef286fbe42339824795b9f383c5e",
            "max": 50,
            "min": 0,
            "orientation": "horizontal",
            "style": "IPY_MODEL_312322cf86af454ca263b5feebfea7e8",
            "value": 50
          }
        },
        "d32f051747ee430cb1f325c0c577fc80": {
          "model_module": "@jupyter-widgets/controls",
          "model_name": "HTMLModel",
          "model_module_version": "1.5.0",
          "state": {
            "_dom_classes": [],
            "_model_module": "@jupyter-widgets/controls",
            "_model_module_version": "1.5.0",
            "_model_name": "HTMLModel",
            "_view_count": null,
            "_view_module": "@jupyter-widgets/controls",
            "_view_module_version": "1.5.0",
            "_view_name": "HTMLView",
            "description": "",
            "description_tooltip": null,
            "layout": "IPY_MODEL_2550d3ab43914c4b9709795133ce195b",
            "placeholder": "​",
            "style": "IPY_MODEL_30a98bcdb83745429c70407ffffb06d4",
            "value": " 50/50 [34:09&lt;00:00, 40.93s/it]"
          }
        },
        "fe7c669c5daf442ca561c4b487341525": {
          "model_module": "@jupyter-widgets/base",
          "model_name": "LayoutModel",
          "model_module_version": "1.2.0",
          "state": {
            "_model_module": "@jupyter-widgets/base",
            "_model_module_version": "1.2.0",
            "_model_name": "LayoutModel",
            "_view_count": null,
            "_view_module": "@jupyter-widgets/base",
            "_view_module_version": "1.2.0",
            "_view_name": "LayoutView",
            "align_content": null,
            "align_items": null,
            "align_self": null,
            "border": null,
            "bottom": null,
            "display": null,
            "flex": null,
            "flex_flow": null,
            "grid_area": null,
            "grid_auto_columns": null,
            "grid_auto_flow": null,
            "grid_auto_rows": null,
            "grid_column": null,
            "grid_gap": null,
            "grid_row": null,
            "grid_template_areas": null,
            "grid_template_columns": null,
            "grid_template_rows": null,
            "height": null,
            "justify_content": null,
            "justify_items": null,
            "left": null,
            "margin": null,
            "max_height": null,
            "max_width": null,
            "min_height": null,
            "min_width": null,
            "object_fit": null,
            "object_position": null,
            "order": null,
            "overflow": null,
            "overflow_x": null,
            "overflow_y": null,
            "padding": null,
            "right": null,
            "top": null,
            "visibility": null,
            "width": null
          }
        },
        "9240a6b3db7d435cad11e0e7ea1542c3": {
          "model_module": "@jupyter-widgets/base",
          "model_name": "LayoutModel",
          "model_module_version": "1.2.0",
          "state": {
            "_model_module": "@jupyter-widgets/base",
            "_model_module_version": "1.2.0",
            "_model_name": "LayoutModel",
            "_view_count": null,
            "_view_module": "@jupyter-widgets/base",
            "_view_module_version": "1.2.0",
            "_view_name": "LayoutView",
            "align_content": null,
            "align_items": null,
            "align_self": null,
            "border": null,
            "bottom": null,
            "display": null,
            "flex": null,
            "flex_flow": null,
            "grid_area": null,
            "grid_auto_columns": null,
            "grid_auto_flow": null,
            "grid_auto_rows": null,
            "grid_column": null,
            "grid_gap": null,
            "grid_row": null,
            "grid_template_areas": null,
            "grid_template_columns": null,
            "grid_template_rows": null,
            "height": null,
            "justify_content": null,
            "justify_items": null,
            "left": null,
            "margin": null,
            "max_height": null,
            "max_width": null,
            "min_height": null,
            "min_width": null,
            "object_fit": null,
            "object_position": null,
            "order": null,
            "overflow": null,
            "overflow_x": null,
            "overflow_y": null,
            "padding": null,
            "right": null,
            "top": null,
            "visibility": null,
            "width": null
          }
        },
        "1e9ad2c749cd44fcb01cf0cf0e40cc49": {
          "model_module": "@jupyter-widgets/controls",
          "model_name": "DescriptionStyleModel",
          "model_module_version": "1.5.0",
          "state": {
            "_model_module": "@jupyter-widgets/controls",
            "_model_module_version": "1.5.0",
            "_model_name": "DescriptionStyleModel",
            "_view_count": null,
            "_view_module": "@jupyter-widgets/base",
            "_view_module_version": "1.2.0",
            "_view_name": "StyleView",
            "description_width": ""
          }
        },
        "e46fef286fbe42339824795b9f383c5e": {
          "model_module": "@jupyter-widgets/base",
          "model_name": "LayoutModel",
          "model_module_version": "1.2.0",
          "state": {
            "_model_module": "@jupyter-widgets/base",
            "_model_module_version": "1.2.0",
            "_model_name": "LayoutModel",
            "_view_count": null,
            "_view_module": "@jupyter-widgets/base",
            "_view_module_version": "1.2.0",
            "_view_name": "LayoutView",
            "align_content": null,
            "align_items": null,
            "align_self": null,
            "border": null,
            "bottom": null,
            "display": null,
            "flex": null,
            "flex_flow": null,
            "grid_area": null,
            "grid_auto_columns": null,
            "grid_auto_flow": null,
            "grid_auto_rows": null,
            "grid_column": null,
            "grid_gap": null,
            "grid_row": null,
            "grid_template_areas": null,
            "grid_template_columns": null,
            "grid_template_rows": null,
            "height": null,
            "justify_content": null,
            "justify_items": null,
            "left": null,
            "margin": null,
            "max_height": null,
            "max_width": null,
            "min_height": null,
            "min_width": null,
            "object_fit": null,
            "object_position": null,
            "order": null,
            "overflow": null,
            "overflow_x": null,
            "overflow_y": null,
            "padding": null,
            "right": null,
            "top": null,
            "visibility": null,
            "width": null
          }
        },
        "312322cf86af454ca263b5feebfea7e8": {
          "model_module": "@jupyter-widgets/controls",
          "model_name": "ProgressStyleModel",
          "model_module_version": "1.5.0",
          "state": {
            "_model_module": "@jupyter-widgets/controls",
            "_model_module_version": "1.5.0",
            "_model_name": "ProgressStyleModel",
            "_view_count": null,
            "_view_module": "@jupyter-widgets/base",
            "_view_module_version": "1.2.0",
            "_view_name": "StyleView",
            "bar_color": null,
            "description_width": ""
          }
        },
        "2550d3ab43914c4b9709795133ce195b": {
          "model_module": "@jupyter-widgets/base",
          "model_name": "LayoutModel",
          "model_module_version": "1.2.0",
          "state": {
            "_model_module": "@jupyter-widgets/base",
            "_model_module_version": "1.2.0",
            "_model_name": "LayoutModel",
            "_view_count": null,
            "_view_module": "@jupyter-widgets/base",
            "_view_module_version": "1.2.0",
            "_view_name": "LayoutView",
            "align_content": null,
            "align_items": null,
            "align_self": null,
            "border": null,
            "bottom": null,
            "display": null,
            "flex": null,
            "flex_flow": null,
            "grid_area": null,
            "grid_auto_columns": null,
            "grid_auto_flow": null,
            "grid_auto_rows": null,
            "grid_column": null,
            "grid_gap": null,
            "grid_row": null,
            "grid_template_areas": null,
            "grid_template_columns": null,
            "grid_template_rows": null,
            "height": null,
            "justify_content": null,
            "justify_items": null,
            "left": null,
            "margin": null,
            "max_height": null,
            "max_width": null,
            "min_height": null,
            "min_width": null,
            "object_fit": null,
            "object_position": null,
            "order": null,
            "overflow": null,
            "overflow_x": null,
            "overflow_y": null,
            "padding": null,
            "right": null,
            "top": null,
            "visibility": null,
            "width": null
          }
        },
        "30a98bcdb83745429c70407ffffb06d4": {
          "model_module": "@jupyter-widgets/controls",
          "model_name": "DescriptionStyleModel",
          "model_module_version": "1.5.0",
          "state": {
            "_model_module": "@jupyter-widgets/controls",
            "_model_module_version": "1.5.0",
            "_model_name": "DescriptionStyleModel",
            "_view_count": null,
            "_view_module": "@jupyter-widgets/base",
            "_view_module_version": "1.2.0",
            "_view_name": "StyleView",
            "description_width": ""
          }
        }
      }
    }
  },
  "nbformat": 4,
  "nbformat_minor": 0
}