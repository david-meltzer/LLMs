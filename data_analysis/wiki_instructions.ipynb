{
  "cells": [
    {
      "cell_type": "markdown",
      "metadata": {
        "id": "XW-LivoDXXC1"
      },
      "source": [
        "# Dependencies\n",
        "\n"
      ]
    },
    {
      "cell_type": "code",
      "execution_count": 1,
      "metadata": {
        "colab": {
          "base_uri": "https://localhost:8080/"
        },
        "id": "jawN_hlOX2_a",
        "outputId": "1bc020d0-2f8c-42d4-94c8-82abd8c8e7b1"
      },
      "outputs": [
        {
          "output_type": "stream",
          "name": "stdout",
          "text": [
            "/content/drive/MyDrive/LLMs/wikipedia\n"
          ]
        }
      ],
      "source": [
        "%cd drive/MyDrive/LLMs/wikipedia"
      ]
    },
    {
      "cell_type": "code",
      "execution_count": null,
      "metadata": {
        "id": "hD27kov2XaVw"
      },
      "outputs": [],
      "source": [
        "!pip install datasets\n",
        "!pip install textstat\n",
        "!pip install wandb\n",
        "!pip install -U sentence-transformers\n",
        "!pip install apache-beam\n",
        "!pip install transformers[torch] evaluate\n",
        "!pip install mwparserfromhell\n",
        "!pip install openai\n",
        "!pip install wandb\n",
        "!pip install tiktoken"
      ]
    },
    {
      "cell_type": "code",
      "execution_count": 3,
      "metadata": {
        "id": "b4ioIJs3YDdS"
      },
      "outputs": [],
      "source": [
        "from datasets import load_dataset, load_from_disk\n",
        "from sentence_transformers import SentenceTransformer\n",
        "from textstat import flesch_reading_ease as fre\n",
        "from textstat import flesch_kincaid_grade as fkg\n",
        "from tqdm import tqdm\n",
        "import pandas as pd\n",
        "import matplotlib.pyplot as plt\n",
        "\n",
        "\n",
        "import os\n",
        "import openai\n",
        "import json\n",
        "from getpass import getpass\n",
        "\n",
        "from scipy.stats import kstest\n",
        "import numpy as np\n",
        "import wandb\n",
        "import datetime\n",
        "from datetime import datetime\n",
        "from collections import defaultdict\n",
        "from tqdm import tqdm\n",
        "\n",
        "from itertools import product\n",
        "import tiktoken"
      ]
    },
    {
      "cell_type": "code",
      "execution_count": 4,
      "metadata": {
        "colab": {
          "base_uri": "https://localhost:8080/",
          "height": 52
        },
        "id": "ZiYMyvVCUrZC",
        "outputId": "90d1d131-26b2-4ebf-bd3b-a391819bd094"
      },
      "outputs": [
        {
          "output_type": "display_data",
          "data": {
            "text/plain": [
              "<IPython.core.display.Javascript object>"
            ],
            "application/javascript": [
              "\n",
              "        window._wandbApiKey = new Promise((resolve, reject) => {\n",
              "            function loadScript(url) {\n",
              "            return new Promise(function(resolve, reject) {\n",
              "                let newScript = document.createElement(\"script\");\n",
              "                newScript.onerror = reject;\n",
              "                newScript.onload = resolve;\n",
              "                document.body.appendChild(newScript);\n",
              "                newScript.src = url;\n",
              "            });\n",
              "            }\n",
              "            loadScript(\"https://cdn.jsdelivr.net/npm/postmate/build/postmate.min.js\").then(() => {\n",
              "            const iframe = document.createElement('iframe')\n",
              "            iframe.style.cssText = \"width:0;height:0;border:none\"\n",
              "            document.body.appendChild(iframe)\n",
              "            const handshake = new Postmate({\n",
              "                container: iframe,\n",
              "                url: 'https://wandb.ai/authorize'\n",
              "            });\n",
              "            const timeout = setTimeout(() => reject(\"Couldn't auto authenticate\"), 5000)\n",
              "            handshake.then(function(child) {\n",
              "                child.on('authorize', data => {\n",
              "                    clearTimeout(timeout)\n",
              "                    resolve(data)\n",
              "                });\n",
              "            });\n",
              "            })\n",
              "        });\n",
              "    "
            ]
          },
          "metadata": {}
        },
        {
          "output_type": "stream",
          "name": "stderr",
          "text": [
            "\u001b[34m\u001b[1mwandb\u001b[0m: Appending key for api.wandb.ai to your netrc file: /root/.netrc\n"
          ]
        }
      ],
      "source": [
        "wandb.login()\n",
        "\n",
        "%matplotlib inline"
      ]
    },
    {
      "cell_type": "markdown",
      "metadata": {
        "id": "3P-xqCRBZf-0"
      },
      "source": [
        "# Definitions"
      ]
    },
    {
      "cell_type": "code",
      "execution_count": 6,
      "metadata": {
        "id": "pAGC-Q_IZhig"
      },
      "outputs": [],
      "source": [
        "def flesch_scores(example):\n",
        "    \"\"\"\n",
        "    Calculate Flesch Readability scores for each article\n",
        "    \"\"\"\n",
        "\n",
        "    example['fre'] = fre(example['text'])\n",
        "    example['fkg'] = fkg(example['text'])\n",
        "    return example\n",
        "\n",
        "def extract_article_text(example):\n",
        "    \"\"\"\n",
        "    Extracts the text from a Wikipedia article before the \"Related pages\" and \"References\" sections.\n",
        "\n",
        "    Parameters:\n",
        "        example (dict): Dictionary with key 'text' which contains entire Wikipedia article content as a string.\n",
        "\n",
        "    Returns:\n",
        "        str: The article text before the \"Related pages\" and \"References\" sections.\n",
        "    \"\"\"\n",
        "    text = example['text']\n",
        "\n",
        "    # Find the positions of the \"Related pages\" and \"References\" sections\n",
        "    txt_lower = text.lower()\n",
        "\n",
        "    related_pages_position = txt_lower.find('related pages')\n",
        "    references_position = txt_lower.find('references')\n",
        "\n",
        "    # Extract the text before the sections\n",
        "    article_text = \"\"\n",
        "    if related_pages_position != -1:\n",
        "        # If the \"Related pages\" section is found, extract the text before it\n",
        "        article_text = text[:related_pages_position]\n",
        "    elif references_position != -1:\n",
        "        # If the \"References\" section is found (but not the \"Related pages\" section),\n",
        "        # extract the text before it\n",
        "        article_text = text[:references_position]\n",
        "    else:\n",
        "        # If both sections are not present, return the entire text\n",
        "        article_text = text\n",
        "\n",
        "    # Remove leading and trailing whitespace from the extracted text\n",
        "    article_text = article_text.strip()\n",
        "\n",
        "    example['text'] = ' '.join(article_text.split())\n",
        "\n",
        "    return example\n",
        "\n",
        "def remove_sections(article):\n",
        "\n",
        "    article_split = article.split('\\n')\n",
        "    article_split = [txt for txt in article_split if len(txt.split())>=5]\n",
        "\n",
        "    return '\\n'.join(article_split)\n",
        "\n",
        "\n",
        "\n",
        "\n",
        "#def trunc_article(text, length=512,enc=None,max_length = 4096):\n",
        "#    text = text.split('\\n')\n",
        "#    trunc_txt = text[0]\n",
        "#    i=1\n",
        "#\n",
        "#    while len(trunc_txt)<=length and i<len(text):\n",
        "#        trunc_txt += ' '+text[i]\n",
        "#        i += 1\n",
        "#\n",
        "#    trunc_txt = ' '.join(trunc_txt.split())\n",
        "#\n",
        "#    if enc is not None:\n",
        "#        trunc_txt_encoding = enc.encode(trunc_txt)\n",
        "#        trunc_txt_encoding = trunc_txt_encoding[:max_length]\n",
        "#        trunc_txt = enc.decode(trunc_txt_encoding)\n",
        "#        try:\n",
        "#            idx = trunc_txt[::-1].index('.')\n",
        "#            trunc_txt = trunc_txt[:len(trunc_txt)-idx]\n",
        "#        except:\n",
        "#            pass\n",
        "#\n",
        "#    return trunc_txt.strip()\n",
        "\n",
        "\n",
        "def system_message(message,extra=None):\n",
        "    if extra is None:\n",
        "        message = 'You are a helpful assistant that generates instructions from text.'\n",
        "    else:\n",
        "        message = f'You are a helpful assistant that generates instructions from text. {extra}'\n",
        "\n",
        "def trunc_article(text,max_length=300):\n",
        "    text = text.split()\n",
        "\n",
        "    trunc_text = text[:max_length]\n",
        "\n",
        "    trunc_text = ' '.join(trunc_text)\n",
        "\n",
        "    if '.' in trunc_text:\n",
        "        idx = trunc_text[::-1].index('.')\n",
        "        trunc_text = trunc_text[:len(trunc_text)-idx]\n",
        "    return trunc_text"
      ]
    },
    {
      "cell_type": "markdown",
      "metadata": {
        "id": "f4VPxsPa50qM"
      },
      "source": [
        "# Comparing Readability"
      ]
    },
    {
      "cell_type": "markdown",
      "metadata": {
        "id": "QfQI2fQyzd4m"
      },
      "source": [
        "## Filter datasets"
      ]
    },
    {
      "cell_type": "code",
      "execution_count": null,
      "metadata": {
        "id": "ak4fiyLFiK2r"
      },
      "outputs": [],
      "source": [
        "english_wiki = load_dataset(\"wikipedia\", \"20220301.en\")\n",
        "simple_wiki = load_dataset(\"wikipedia\", \"20220301.simple\")"
      ]
    },
    {
      "cell_type": "code",
      "execution_count": null,
      "metadata": {
        "colab": {
          "base_uri": "https://localhost:8080/",
          "height": 49
        },
        "id": "57eKOvF1nqxG",
        "outputId": "365a7002-6d9d-473c-a6b8-b5d699889b0b"
      },
      "outputs": [
        {
          "data": {
            "application/vnd.jupyter.widget-view+json": {
              "model_id": "9329116821fa4371893ab8cf97b0eb65",
              "version_major": 2,
              "version_minor": 0
            },
            "text/plain": [
              "Saving the dataset (0/41 shards):   0%|          | 0/6458670 [00:00<?, ? examples/s]"
            ]
          },
          "metadata": {},
          "output_type": "display_data"
        }
      ],
      "source": [
        "english_wiki.save_to_disk('./data/english_wiki')"
      ]
    },
    {
      "cell_type": "code",
      "execution_count": null,
      "metadata": {
        "id": "k6kDd-rgxC5f"
      },
      "outputs": [],
      "source": [
        "simple_wiki_title = simple_wiki['train']['title']\n",
        "shared_titles = set(simple_wiki_title).intersection(set(english_wiki['train']['title']))\n",
        "diff_titles = set(english_wiki['train']['title']).union(set(simple_wiki_title))\n",
        "diff_titles = diff_titles - set(english_wiki['train']['title']).intersection(set(simple_wiki_title))\n",
        "only_in_simple = set(simple_wiki_title)-set(simple_wiki_title).intersection(set(english_wiki['train']['title']))"
      ]
    },
    {
      "cell_type": "code",
      "execution_count": null,
      "metadata": {
        "id": "W8sUiLSl-0rf"
      },
      "outputs": [],
      "source": []
    },
    {
      "cell_type": "code",
      "execution_count": null,
      "metadata": {
        "colab": {
          "base_uri": "https://localhost:8080/",
          "height": 49
        },
        "id": "B6ZRT1xX7Nke",
        "outputId": "78cf7247-b538-4e17-b693-03d8af08b335"
      },
      "outputs": [
        {
          "data": {
            "application/vnd.jupyter.widget-view+json": {
              "model_id": "de2015e8b2f24fa5ba7a4d12ee250e03",
              "version_major": 2,
              "version_minor": 0
            },
            "text/plain": [
              "Filter:   0%|          | 0/6458670 [00:00<?, ? examples/s]"
            ]
          },
          "metadata": {},
          "output_type": "display_data"
        }
      ],
      "source": [
        "english_wiki_shared = english_wiki.filter(\n",
        "    lambda post: post['title'] in shared_titles\n",
        ")"
      ]
    },
    {
      "cell_type": "code",
      "execution_count": null,
      "metadata": {
        "colab": {
          "base_uri": "https://localhost:8080/",
          "height": 49
        },
        "id": "B_01ExlxwuuP",
        "outputId": "cbba4e7b-6fb2-4da3-cf5e-4c78bb987b9d"
      },
      "outputs": [
        {
          "data": {
            "application/vnd.jupyter.widget-view+json": {
              "model_id": "bc38d17768d8480b9d7a173dd778330c",
              "version_major": 2,
              "version_minor": 0
            },
            "text/plain": [
              "Filter:   0%|          | 0/205328 [00:00<?, ? examples/s]"
            ]
          },
          "metadata": {},
          "output_type": "display_data"
        }
      ],
      "source": [
        "simple_wiki_shared = simple_wiki.filter(\n",
        "    lambda post: post['title'] in shared_titles\n",
        ")"
      ]
    },
    {
      "cell_type": "code",
      "execution_count": null,
      "metadata": {
        "colab": {
          "base_uri": "https://localhost:8080/",
          "height": 81
        },
        "id": "zcLCsxtkxsnZ",
        "outputId": "ec6964a4-c499-4452-d957-27f94c5e1e63"
      },
      "outputs": [
        {
          "data": {
            "application/vnd.jupyter.widget-view+json": {
              "model_id": "d9acea5c3e5146fb99e28f474dead370",
              "version_major": 2,
              "version_minor": 0
            },
            "text/plain": [
              "Map:   0%|          | 0/179814 [00:00<?, ? examples/s]"
            ]
          },
          "metadata": {},
          "output_type": "display_data"
        },
        {
          "data": {
            "application/vnd.jupyter.widget-view+json": {
              "model_id": "d8b9f29c1cc44f179cfbe5296c24aba5",
              "version_major": 2,
              "version_minor": 0
            },
            "text/plain": [
              "Map:   0%|          | 0/179814 [00:00<?, ? examples/s]"
            ]
          },
          "metadata": {},
          "output_type": "display_data"
        }
      ],
      "source": [
        "english_wiki_shared['train'] = english_wiki_shared['train'].map(extract_article_text)\n",
        "simple_wiki_shared['train'] = simple_wiki_shared['train'].map(extract_article_text)"
      ]
    },
    {
      "cell_type": "code",
      "execution_count": null,
      "metadata": {
        "colab": {
          "base_uri": "https://localhost:8080/",
          "height": 81
        },
        "id": "kj_CHhDOBSA-",
        "outputId": "ec182e22-5aac-462c-f70e-f6faf8385eb9"
      },
      "outputs": [
        {
          "data": {
            "application/vnd.jupyter.widget-view+json": {
              "model_id": "66f916aaf6c746c7a4d350f9e4d63241",
              "version_major": 2,
              "version_minor": 0
            },
            "text/plain": [
              "Map:   0%|          | 0/179814 [00:00<?, ? examples/s]"
            ]
          },
          "metadata": {},
          "output_type": "display_data"
        },
        {
          "data": {
            "application/vnd.jupyter.widget-view+json": {
              "model_id": "fa7de9813de945bdb5b2715658d2e330",
              "version_major": 2,
              "version_minor": 0
            },
            "text/plain": [
              "Map:   0%|          | 0/179814 [00:00<?, ? examples/s]"
            ]
          },
          "metadata": {},
          "output_type": "display_data"
        }
      ],
      "source": [
        "english_wiki_shared['train'] = english_wiki_shared['train'].map(flesch_scores)\n",
        "simple_wiki_shared['train'] = simple_wiki_shared['train'].map(flesch_scores)"
      ]
    },
    {
      "cell_type": "code",
      "execution_count": null,
      "metadata": {
        "colab": {
          "base_uri": "https://localhost:8080/",
          "height": 81
        },
        "id": "gu9Xe6xvDMSt",
        "outputId": "a6d481a0-c07c-480a-ce7f-d6aeba31be18"
      },
      "outputs": [
        {
          "data": {
            "application/vnd.jupyter.widget-view+json": {
              "model_id": "bbc2d1f065784609b857fc80b6b8490a",
              "version_major": 2,
              "version_minor": 0
            },
            "text/plain": [
              "Saving the dataset (0/1 shards):   0%|          | 0/179814 [00:00<?, ? examples/s]"
            ]
          },
          "metadata": {},
          "output_type": "display_data"
        },
        {
          "data": {
            "application/vnd.jupyter.widget-view+json": {
              "model_id": "626ce4bcfcc8442faf4bb8edba9f2f85",
              "version_major": 2,
              "version_minor": 0
            },
            "text/plain": [
              "Saving the dataset (0/4 shards):   0%|          | 0/179814 [00:00<?, ? examples/s]"
            ]
          },
          "metadata": {},
          "output_type": "display_data"
        }
      ],
      "source": [
        "simple_wiki_shared.save_to_disk('./data/simple_wiki_shared')\n",
        "english_wiki_shared.save_to_disk('./data/english_wiki_shared')"
      ]
    },
    {
      "cell_type": "markdown",
      "metadata": {
        "id": "MJ0_eTw3zDuz"
      },
      "source": [
        "## Figures"
      ]
    },
    {
      "cell_type": "code",
      "execution_count": null,
      "metadata": {
        "colab": {
          "base_uri": "https://localhost:8080/",
          "height": 452
        },
        "id": "MD-rcrLdCP2f",
        "outputId": "a8f05db5-dcbb-4235-b8a1-f70c99d3a1b7"
      },
      "outputs": [
        {
          "data": {
            "image/png": "[encoded data removed]",
            "text/plain": [
              "<Figure size 640x480 with 1 Axes>"
            ]
          },
          "metadata": {},
          "output_type": "display_data"
        }
      ],
      "source": [
        "fig, ax = plt.subplots()\n",
        "\n",
        "ax.hist(simple_wiki_shared['train']['fre'],\n",
        "         bins=2000,\n",
        "         density=True,\n",
        "         alpha=.5,\n",
        "         label='simple')\n",
        "ax.hist(english_wiki_shared['train']['fre'],\n",
        "         bins=2000,\n",
        "         density=True,\n",
        "         alpha=.5,\n",
        "         label='english')\n",
        "\n",
        "ax.set_xlim(-20,150)\n",
        "plt.title('fre scores')\n",
        "plt.legend(loc='upper right')\n",
        "plt.savefig('./figures/wiki_fre')\n",
        "plt.show()"
      ]
    },
    {
      "cell_type": "code",
      "execution_count": null,
      "metadata": {
        "colab": {
          "base_uri": "https://localhost:8080/",
          "height": 452
        },
        "id": "hyYqsChqoOQ3",
        "outputId": "990b9e04-8ae6-4a40-d951-ffb46fb29735"
      },
      "outputs": [
        {
          "data": {
            "image/png": "[encoded data removed]",
            "text/plain": [
              "<Figure size 640x480 with 1 Axes>"
            ]
          },
          "metadata": {},
          "output_type": "display_data"
        }
      ],
      "source": [
        "fig, ax = plt.subplots()\n",
        "\n",
        "ax.hist(simple_wiki_shared['train']['fkg'],\n",
        "         bins=2000,\n",
        "         density=True,\n",
        "         alpha=.5,\n",
        "         label='simple')\n",
        "ax.hist(english_wiki_shared['train']['fkg'],\n",
        "         bins=2000,\n",
        "         density=True,\n",
        "         alpha=.5,\n",
        "         label='english')\n",
        "\n",
        "ax.set_xlim(-10,40)\n",
        "plt.title('fkg scores')\n",
        "plt.legend(loc='upper right')\n",
        "plt.savefig('./figures/wiki_fkg')\n",
        "plt.show()"
      ]
    },
    {
      "cell_type": "code",
      "execution_count": null,
      "metadata": {
        "id": "JfGrpYd1xIv6"
      },
      "outputs": [],
      "source": [
        "fkg_scores = {}\n",
        "fkg_scores['simple'] = simple_wiki_shared['train']['fkg']\n",
        "fkg_scores['english'] = english_wiki_shared['train']['fkg']\n",
        "\n",
        "fre_scores = {}\n",
        "fre_scores['simple'] = simple_wiki_shared['train']['fre']\n",
        "fre_scores['english'] = english_wiki_shared['train']['fre']"
      ]
    },
    {
      "cell_type": "code",
      "execution_count": null,
      "metadata": {
        "colab": {
          "base_uri": "https://localhost:8080/"
        },
        "id": "--jLVGSSyco-",
        "outputId": "1754dde9-fae6-4b94-97d0-cd33686ef5c6"
      },
      "outputs": [
        {
          "data": {
            "text/plain": [
              "KstestResult(statistic=0.42008408688978616, pvalue=0.0, statistic_location=8.5, statistic_sign=-1)"
            ]
          },
          "execution_count": 33,
          "metadata": {},
          "output_type": "execute_result"
        }
      ],
      "source": [
        "kstest(np.array(fkg_scores['english']),np.array(fkg_scores['simple']))"
      ]
    },
    {
      "cell_type": "code",
      "execution_count": null,
      "metadata": {
        "colab": {
          "base_uri": "https://localhost:8080/"
        },
        "id": "COUgoM1Uyp3h",
        "outputId": "15920b65-ed61-4f7a-b01b-d9d31a29c8c8"
      },
      "outputs": [
        {
          "data": {
            "text/plain": [
              "KstestResult(statistic=0.34224810081528695, pvalue=0.0, statistic_location=63.32, statistic_sign=1)"
            ]
          },
          "execution_count": 34,
          "metadata": {},
          "output_type": "execute_result"
        }
      ],
      "source": [
        "kstest(np.array(fre_scores['english']),np.array(fre_scores['simple']))"
      ]
    },
    {
      "cell_type": "markdown",
      "metadata": {
        "id": "eKUjG6o01Sb9"
      },
      "source": [
        "# Make Simple Wiki Simple Again"
      ]
    },
    {
      "cell_type": "code",
      "execution_count": null,
      "metadata": {
        "id": "VVFhNLjH1R_S"
      },
      "outputs": [],
      "source": [
        "simple_wiki = load_dataset(\"wikipedia\", \"20220301.simple\")\n",
        "\n",
        "simple_wiki = simple_wiki.map(extract_article_text)\n",
        "simple_wiki_scored = simple_wiki.map(flesch_scores)\n",
        "\n",
        "simple_wiki_filt = simple_wiki_scored.filter(lambda article: article['fre']>=60\n",
        "                                             and article['fkg']<9)\n",
        "\n",
        "simple_wiki_split_tmp = (simple_wiki_filt['train']\n",
        "                         .train_test_split(test_size=5000,seed=42))\n",
        "\n",
        "simple_wiki_split = (simple_wiki_split_tmp['train']\n",
        "                     .train_test_split(test_size=5000,seed=42))\n",
        "\n",
        "simple_wiki_split['validation'] = simple_wiki_split_tmp['test']\n",
        "\n",
        "simple_wiki_split.save_to_disk('./data/simple_wiki_split')"
      ]
    },
    {
      "cell_type": "code",
      "execution_count": null,
      "metadata": {
        "id": "suvz8vEryUfr"
      },
      "outputs": [],
      "source": [
        "simple_wiki_split = load_from_disk('./data/simple_wiki_split')"
      ]
    },
    {
      "cell_type": "code",
      "execution_count": null,
      "metadata": {
        "colab": {
          "base_uri": "https://localhost:8080/",
          "height": 210
        },
        "id": "sXxbmQB66JpM",
        "outputId": "9148bd0d-440a-43e1-efbe-b734a94e5319"
      },
      "outputs": [
        {
          "name": "stderr",
          "output_type": "stream",
          "text": [
            "\u001b[34m\u001b[1mwandb\u001b[0m: Currently logged in as: \u001b[33mdmeltzer\u001b[0m (\u001b[33mft-llmmm\u001b[0m). Use \u001b[1m`wandb login --relogin`\u001b[0m to force relogin\n"
          ]
        },
        {
          "data": {
            "text/html": [
              "Tracking run with wandb version 0.15.8"
            ],
            "text/plain": [
              "<IPython.core.display.HTML object>"
            ]
          },
          "metadata": {},
          "output_type": "display_data"
        },
        {
          "data": {
            "text/html": [
              "Run data is saved locally in <code>/content/drive/MyDrive/LLMs/wikipedia/wandb/run-20230803_010250-hls6xif6</code>"
            ],
            "text/plain": [
              "<IPython.core.display.HTML object>"
            ]
          },
          "metadata": {},
          "output_type": "display_data"
        },
        {
          "data": {
            "text/html": [
              "Syncing run <strong><a href='https://wandb.ai/ft-llmmm/ELI5_analysis/runs/hls6xif6' target=\"_blank\">log_wiki_data_08.03.23-01.02.50</a></strong> to <a href='https://wandb.ai/ft-llmmm/ELI5_analysis' target=\"_blank\">Weights & Biases</a> (<a href='https://wandb.me/run' target=\"_blank\">docs</a>)<br/>"
            ],
            "text/plain": [
              "<IPython.core.display.HTML object>"
            ]
          },
          "metadata": {},
          "output_type": "display_data"
        },
        {
          "data": {
            "text/html": [
              " View project at <a href='https://wandb.ai/ft-llmmm/ELI5_analysis' target=\"_blank\">https://wandb.ai/ft-llmmm/ELI5_analysis</a>"
            ],
            "text/plain": [
              "<IPython.core.display.HTML object>"
            ]
          },
          "metadata": {},
          "output_type": "display_data"
        },
        {
          "data": {
            "text/html": [
              " View run at <a href='https://wandb.ai/ft-llmmm/ELI5_analysis/runs/hls6xif6' target=\"_blank\">https://wandb.ai/ft-llmmm/ELI5_analysis/runs/hls6xif6</a>"
            ],
            "text/plain": [
              "<IPython.core.display.HTML object>"
            ]
          },
          "metadata": {},
          "output_type": "display_data"
        },
        {
          "name": "stderr",
          "output_type": "stream",
          "text": [
            "\u001b[34m\u001b[1mwandb\u001b[0m: Adding directory to artifact (./data/simple_wiki_split)... Done. 1.3s\n"
          ]
        },
        {
          "data": {
            "text/html": [
              "Waiting for W&B process to finish... <strong style=\"color:green\">(success).</strong>"
            ],
            "text/plain": [
              "<IPython.core.display.HTML object>"
            ]
          },
          "metadata": {},
          "output_type": "display_data"
        },
        {
          "data": {
            "text/html": [
              " View run <strong style=\"color:#cdcd00\">log_wiki_data_08.03.23-01.02.50</strong> at: <a href='https://wandb.ai/ft-llmmm/ELI5_analysis/runs/hls6xif6' target=\"_blank\">https://wandb.ai/ft-llmmm/ELI5_analysis/runs/hls6xif6</a><br/>Synced 5 W&B file(s), 0 media file(s), 10 artifact file(s) and 0 other file(s)"
            ],
            "text/plain": [
              "<IPython.core.display.HTML object>"
            ]
          },
          "metadata": {},
          "output_type": "display_data"
        },
        {
          "data": {
            "text/html": [
              "Find logs at: <code>./wandb/run-20230803_010250-hls6xif6/logs</code>"
            ],
            "text/plain": [
              "<IPython.core.display.HTML object>"
            ]
          },
          "metadata": {},
          "output_type": "display_data"
        }
      ],
      "source": [
        "now = datetime.now()\n",
        "file_name = './data/simple_wiki_split'\n",
        "time_stamp = now.strftime(\"%m.%d.%y-%H.%M.%S\")\n",
        "with wandb.init(project='ELI5_analysis',\n",
        "                            entity='ft-llmmm',\n",
        "                            job_type='log_data',\n",
        "                            name=f'log_wiki_data_{time_stamp}') as run:\n",
        "                # Initialize a WandB run for logging\n",
        "                data_art = wandb.Artifact('simple_wiki_split', 'dataset')\n",
        "                data_art.add_dir(file_name)\n",
        "                run.log_artifact(data_art)"
      ]
    },
    {
      "cell_type": "markdown",
      "metadata": {
        "id": "jTOGoPimzmmO"
      },
      "source": [
        "# Prompts"
      ]
    },
    {
      "cell_type": "code",
      "execution_count": 16,
      "metadata": {
        "colab": {
          "base_uri": "https://localhost:8080/"
        },
        "id": "bHBmzad3Tydb",
        "outputId": "d675d67b-b205-4dc7-c796-48cbcb2c130d"
      },
      "outputs": [
        {
          "name": "stdout",
          "output_type": "stream",
          "text": [
            "Enter your OpenAI key: ··········\n"
          ]
        }
      ],
      "source": [
        "openai.api_key = getpass('Enter your OpenAI key: ')\n",
        "\n",
        "model_engine = 'gpt-3.5-turbo'\n",
        "\n",
        "enc = tiktoken.encoding_for_model(model_engine)"
      ]
    },
    {
      "cell_type": "code",
      "execution_count": 8,
      "metadata": {
        "id": "utmT86baaDZv"
      },
      "outputs": [],
      "source": [
        "simple_wiki = load_from_disk('./data/simple_wiki_split')"
      ]
    },
    {
      "cell_type": "markdown",
      "metadata": {
        "id": "vo_-sXsCTjkS"
      },
      "source": [
        "## Take 1"
      ]
    },
    {
      "cell_type": "code",
      "execution_count": null,
      "metadata": {
        "id": "eVkg_6Wuzn2p"
      },
      "outputs": [],
      "source": [
        "def create_message(extra=None):\n",
        "    if extra == 'default':\n",
        "        extra = ''\n",
        "    else:\n",
        "        extra = ' '+extra\n",
        "    message=f'You are a helpful assistant that generates questions from text.{extra}'\n",
        "\n",
        "    return message\n",
        "\n",
        "def create_prompt(text,\n",
        "                  extra):\n",
        "\n",
        "    if extra == 'default':\n",
        "        extra = ''\n",
        "    else:\n",
        "        extra = ' '+extra\n",
        "    prompt = f\"Question: X\\nOutput: {text}\\nWhat kind of question, X, could this be an answer to?{extra}\\nX:.\"\n",
        "    return prompt\n",
        "\n",
        "def GPT_instructions(text,\n",
        "                     message_extra='default',\n",
        "                     prompt_extra='default'):\n",
        "\n",
        "    system_message = create_message(message_extra)\n",
        "    prompt = create_prompt(text, prompt_extra)\n",
        "\n",
        "    response=openai.ChatCompletion.create(\n",
        "        model=model_engine,\n",
        "        messages=[\n",
        "            {\"role\": \"system\", \"content\": system_message},\n",
        "            {\"role\": \"user\", \"content\": prompt},\n",
        "        ],\n",
        "        temperature = 0)\n",
        "\n",
        "    instruction = response['choices'][0]['message']['content']\n",
        "\n",
        "    return instruction"
      ]
    },
    {
      "cell_type": "code",
      "execution_count": null,
      "metadata": {
        "id": "TX2BXctQ5mPm"
      },
      "outputs": [],
      "source": [
        "message_extra = []\n",
        "message_extra.append('default')\n",
        "message_extra.append('You write text using Simple English.')\n",
        "message_extra.append('You write text that is easy to understand.')\n",
        "message_extra.append('You write text using the style of ELI5.')\n",
        "\n",
        "\n",
        "prompt_extra = []\n",
        "prompt_extra.append('default')\n",
        "prompt_extra.append('Write the question using Simple English.')\n",
        "prompt_extra.append('Write a question which is easy to understand.')\n",
        "prompt_extra.append('Write a question in the style of ELI5.')"
      ]
    },
    {
      "cell_type": "code",
      "execution_count": null,
      "metadata": {
        "id": "0ZPHsJyi8fPU"
      },
      "outputs": [],
      "source": [
        "simple_wiki = load_from_disk('./data/simple_wiki_split')"
      ]
    },
    {
      "cell_type": "code",
      "execution_count": null,
      "metadata": {
        "id": "cu9-3gfW82Wi"
      },
      "outputs": [],
      "source": [
        "sample_articles = list(map(trunc_article,simple_wiki['train']['text'][:10]))"
      ]
    },
    {
      "cell_type": "code",
      "execution_count": null,
      "metadata": {
        "colab": {
          "base_uri": "https://localhost:8080/"
        },
        "id": "Voznwpi49XVp",
        "outputId": "ba6d2df2-60b3-409d-dab9-7872736a5a07"
      },
      "outputs": [
        {
          "name": "stderr",
          "output_type": "stream",
          "text": [
            "100%|██████████| 4/4 [02:42<00:00, 40.50s/it]\n"
          ]
        }
      ],
      "source": [
        "instruct_samples = []\n",
        "\n",
        "for system_message_ext in tqdm(message_extra):\n",
        "    for prmpt in prompt_extra:\n",
        "        for article in sample_articles:\n",
        "\n",
        "            instruct_dict = {}\n",
        "\n",
        "            instruct_dict['article'] = article\n",
        "            instruct_dict['system_message_ext'] = system_message_ext\n",
        "            instruct_dict['prompt_ext'] = prmpt\n",
        "\n",
        "            instruct_dict['instruction'] = GPT_instructions(article,\n",
        "                                                               system_message_ext,\n",
        "                                                               prmpt)\n",
        "\n",
        "            instruct_samples.append(instruct_dict)"
      ]
    },
    {
      "cell_type": "code",
      "execution_count": null,
      "metadata": {
        "id": "I6gTj4dfS1hT"
      },
      "outputs": [],
      "source": [
        "df_instructions = pd.DataFrame(instruct_samples)"
      ]
    },
    {
      "cell_type": "code",
      "execution_count": null,
      "metadata": {
        "colab": {
          "base_uri": "https://localhost:8080/"
        },
        "id": "ZxedyJP2SuI8",
        "outputId": "0a6d7264-3f76-485a-999e-99b78023ec61"
      },
      "outputs": [
        {
          "name": "stderr",
          "output_type": "stream",
          "text": [
            "100%|██████████| 4/4 [01:54<00:00, 28.53s/it]\n"
          ]
        }
      ],
      "source": [
        "question_samples = []\n",
        "\n",
        "for system_message_ext in tqdm(message_extra):\n",
        "    for prmpt in prompt_extra:\n",
        "        for article in sample_articles:\n",
        "\n",
        "            question_dict = {}\n",
        "\n",
        "            question_dict['article'] = article\n",
        "            question_dict['system_message_ext'] = system_message_ext\n",
        "            question_dict['prompt_ext'] = prmpt\n",
        "\n",
        "            question_dict['instruction'] = GPT_instructions(article,\n",
        "                                                               system_message_ext,\n",
        "                                                               prmpt)\n",
        "\n",
        "            question_samples.append(question_dict)"
      ]
    },
    {
      "cell_type": "code",
      "execution_count": null,
      "metadata": {
        "id": "FZKbw01WCOhM"
      },
      "outputs": [],
      "source": [
        "df_questions = pd.DataFrame(question_samples)"
      ]
    },
    {
      "cell_type": "code",
      "execution_count": null,
      "metadata": {
        "id": "87QZxhOqJPQR"
      },
      "outputs": [],
      "source": [
        "df_questions.to_csv('./data/sample_prompts_Qs_10.csv')"
      ]
    },
    {
      "cell_type": "code",
      "execution_count": null,
      "metadata": {
        "colab": {
          "base_uri": "https://localhost:8080/"
        },
        "id": "HUXZOa_wC1cY",
        "outputId": "a9409334-0b7c-432b-9a81-27968c6a9fe9"
      },
      "outputs": [
        {
          "data": {
            "text/plain": [
              "defaultdict(list,\n",
              "            {0: [(0, 0), (0, 1), (0, 2), (1, 0), (1, 2), (3, 1)],\n",
              "             6: [(0, 3), (1, 3), (2, 2)],\n",
              "             1: [(1, 1), (3, 0)],\n",
              "             3: [(2, 0), (2, 1)],\n",
              "             13: [(2, 3)],\n",
              "             2: [(3, 2)],\n",
              "             8: [(3, 3)]})"
            ]
          },
          "execution_count": 92,
          "metadata": {},
          "output_type": "execute_result"
        }
      ],
      "source": [
        "counter_Q = defaultdict(list)\n",
        "\n",
        "for i in range(4):\n",
        "    for j in range(4):\n",
        "\n",
        "        temp = df_questions[(df_questions['system_message_ext']==message_extra[i])*(df_questions['prompt_ext']==prompt_extra[j])]\n",
        "        cts = temp['instruction'].str.contains('Question:').sum()\n",
        "        cts += temp['instruction'].str.contains('ELI5:').sum()\n",
        "\n",
        "        counter_Q[cts].append((i,j))\n",
        "counter_Q"
      ]
    },
    {
      "cell_type": "code",
      "execution_count": null,
      "metadata": {
        "colab": {
          "base_uri": "https://localhost:8080/"
        },
        "id": "7Ik0RdMRT3pQ",
        "outputId": "3d36d0d7-5adf-4ca9-8d04-5589cb598e4b"
      },
      "outputs": [
        {
          "name": "stdout",
          "output_type": "stream",
          "text": [
            "message_extra: \"default\", prompt_extra: \"default\"\n",
            "['What is the release date of Avengers: Age of Ultron?'\n",
            " 'What was the Dixiecrat party and what were their beliefs?'\n",
            " 'Who was Paul William Henning?'\n",
            " 'What are natural arches commonly formed from?' 'What is Briarcliff?'\n",
            " 'What is the Ballycroy National Park known for?'\n",
            " 'Who is Jessica Oyelowo?' 'Who was Lee Alexander McQueen?'\n",
            " 'Who is Kelly Olynyk and what is his basketball career like?'\n",
            " 'What is the title and year of the American horror movie based on a Stephen King novel?']\n",
            "\n",
            "\n",
            "message_extra: \"default\", prompt_extra: \"Write the question using Simple English.\"\n",
            "['What is Avengers: Age of Ultron?'\n",
            " 'What was the Dixiecrat party and what were their beliefs?'\n",
            " 'Who was Paul William Henning and what were some of his notable contributions in the entertainment industry?'\n",
            " 'What are natural arches and how are they formed?'\n",
            " 'What is Briarcliff and where is it located?'\n",
            " 'What is the Ballycroy National Park and where is it located?'\n",
            " 'Who is Jessica Oyelowo and what are some of her notable roles and achievements?'\n",
            " 'Who was Lee Alexander McQueen?'\n",
            " 'Who is Kelly Olynyk and what is his basketball career like?'\n",
            " 'What is Cujo?']\n",
            "\n",
            "\n",
            "message_extra: \"default\", prompt_extra: \"Write a question which is easy to understand.\"\n",
            "['What is Avengers: Age of Ultron?'\n",
            " 'What was the Dixiecrat party and what were their beliefs?'\n",
            " 'Who was Paul William Henning and what were some of his notable contributions in the entertainment industry?'\n",
            " 'What are natural arches and how are they formed?'\n",
            " 'What is Briarcliff and where is it located?'\n",
            " 'What is the Ballycroy National Park known for?'\n",
            " 'Who is Jessica Oyelowo and what are some of her notable roles and accomplishments?'\n",
            " 'Who was Lee Alexander McQueen?'\n",
            " 'Who is Kelly Olynyk and what is his basketball career like?'\n",
            " 'What is Cujo?']\n",
            "\n",
            "\n",
            "message_extra: \"You write text using Simple English.\", prompt_extra: \"default\"\n",
            "['What are the release dates of the Avengers movies?'\n",
            " 'What was the Dixiecrat and what were their beliefs?'\n",
            " 'Who was Paul William Henning?'\n",
            " 'What are natural arches commonly formed from?' 'What is Briarcliff?'\n",
            " 'What is the Ballycroy National Park known for?'\n",
            " 'Who is Jessica Oyelowo and what are some of her notable roles and achievements?'\n",
            " 'Who was Lee Alexander McQueen?'\n",
            " 'Who is Kelly Olynyk and what is his basketball career like?'\n",
            " 'What is Cujo?']\n",
            "\n",
            "\n",
            "message_extra: \"You write text using Simple English.\", prompt_extra: \"Write a question which is easy to understand.\"\n",
            "['What is Avengers: Age of Ultron?'\n",
            " 'What was the Dixiecrat party and what were their beliefs?'\n",
            " 'Who was Paul William Henning and what was he known for?'\n",
            " 'What are natural arches and how are they formed?'\n",
            " 'What is Briarcliff and where is it located?'\n",
            " 'What is the Ballycroy National Park and where is it located?'\n",
            " 'Who is Jessica Oyelowo and what are some of her notable roles and achievements?'\n",
            " 'Who was Lee Alexander McQueen and what was his profession?'\n",
            " 'Who is Kelly Olynyk and what is his basketball career like?'\n",
            " 'What is Cujo?']\n",
            "\n",
            "\n",
            "message_extra: \"You write text using the style of ELI5.\", prompt_extra: \"Write the question using Simple English.\"\n",
            "['What is Avengers: Age of Ultron and when was it released?'\n",
            " 'What was the Dixiecrat and what were their beliefs?'\n",
            " 'Who was Paul William Henning and what were some of his notable contributions in the entertainment industry?'\n",
            " 'What are natural arches and how are they formed?'\n",
            " 'What is Briarcliff and where is it located in the United States?'\n",
            " 'What is the Ballycroy National Park and where is it located?'\n",
            " 'Who is Jessica Oyelowo and what are some of her notable roles and achievements?'\n",
            " 'Who was Lee Alexander McQueen and what was his impact on the fashion industry?'\n",
            " 'Who is Kelly Olynyk and what is his basketball career like?'\n",
            " 'What is Cujo?']\n",
            "\n",
            "\n"
          ]
        }
      ],
      "source": [
        "for i,j in options:\n",
        "    print(f'message_extra: \"{message_extra[i]}\", prompt_extra: \"{prompt_extra[j]}\"')\n",
        "\n",
        "    print(df_questions[((df_questions['system_message_ext']==message_extra[i]) &\n",
        "     (df_questions['prompt_ext']==prompt_extra[j]))]['instruction'].values)\n",
        "    print('\\n')\n"
      ]
    },
    {
      "cell_type": "markdown",
      "metadata": {
        "id": "-1woShvdUyg3"
      },
      "source": [
        "## Take 2"
      ]
    },
    {
      "cell_type": "code",
      "execution_count": null,
      "metadata": {
        "id": "pO8pptksUyg3"
      },
      "outputs": [],
      "source": [
        "def create_prompt(prompt_start,\n",
        "                  text,\n",
        "                  prompt_end\n",
        "                  ):\n",
        "\n",
        "    prompt = f\"{prompt_start} {text} {prompt_end}\"\n",
        "    return prompt\n",
        "\n",
        "def GPT_custom_prompt(message,\n",
        "                      prompt_start,\n",
        "                      text,\n",
        "                      prompt_end):\n",
        "\n",
        "    prompt = create_prompt(prompt_start,\n",
        "                           text,\n",
        "                           prompt_end)\n",
        "\n",
        "    response=openai.ChatCompletion.create(\n",
        "        model=model_engine,\n",
        "        messages=[\n",
        "            {\"role\": \"system\", \"content\": message},\n",
        "            {\"role\": \"user\", \"content\": prompt},\n",
        "        ],\n",
        "        temperature = 0)\n",
        "\n",
        "    instruction = response['choices'][0]['message']['content']\n",
        "\n",
        "    return instruction"
      ]
    },
    {
      "cell_type": "code",
      "execution_count": null,
      "metadata": {
        "id": "40cSbZ-gUyg3"
      },
      "outputs": [],
      "source": [
        "system_messages_I = []\n",
        "system_messages_I.append('You are a helpful assistant that generates instructions from text.')\n",
        "system_messages_I.append('You are a helpful assistant that generates instructions from text. You write using Simple English.')\n",
        "\n",
        "\n",
        "system_messages_Q = []\n",
        "system_messages_Q.append('You are a helpful assistant that generates questions from text.')\n",
        "system_messages_Q.append('You are a helpful assistant that generates questions from text. You write using Simple English.')\n",
        "\n",
        "prompts_I = []\n",
        "prompts_I.append((\"Instruction: X\\nOutput:\", \"\\nWhat kind of instruction, X, could this be an answer to?\\nX:\"))\n",
        "prompts_I.append((\"Instruction: X\\nOutput:\", \"\\nWhat kind of instruction, X, could this be an answer to?\\nInstruction:\"))\n",
        "\n",
        "prompts_Q = []\n",
        "prompts_Q.append((\"Question: X\\nAnswer:\", \"\\nWhat kind of question, X, could this be an answer to?\\nX:\"))\n",
        "prompts_Q.append((\"Question: X\\nAnswer:\", \"\\nWhat kind of question, X, could this be an answer to?\\nQuestion:\"))\n"
      ]
    },
    {
      "cell_type": "code",
      "execution_count": null,
      "metadata": {
        "id": "KTTDID6ttgfg"
      },
      "outputs": [],
      "source": []
    },
    {
      "cell_type": "code",
      "execution_count": null,
      "metadata": {
        "id": "cEvvc8B0Uyg4"
      },
      "outputs": [],
      "source": [
        "sample_articles = {}\n",
        "\n",
        "sample_articles[256] = list(map(lambda x: trunc_article(x, 256),simple_wiki['train']['text'][:10]))\n",
        "sample_articles[512] = list(map(lambda x: trunc_article(x, 512),simple_wiki['train']['text'][:10]))"
      ]
    },
    {
      "cell_type": "code",
      "execution_count": null,
      "metadata": {
        "id": "CAuqtUfDUyg4"
      },
      "outputs": [],
      "source": [
        "custom_prompts_V1 = []\n",
        "\n",
        "products = []\n",
        "products.append(product(system_messages_I,prompts_I))\n",
        "products.append(product(system_messages_Q,prompts_Q))\n",
        "\n",
        "for prod in products:\n",
        "    for system_message, prompt in prod:\n",
        "        prompt_start, prompt_end = prompt\n",
        "        for length in (256,512):\n",
        "            for article in sample_articles[length]:\n",
        "\n",
        "                instruct_dict = {}\n",
        "\n",
        "                instruct_dict['length'] = length\n",
        "                instruct_dict['article'] = article\n",
        "                instruct_dict['system_message'] = system_message\n",
        "                instruct_dict['prompt'] = prompt\n",
        "\n",
        "                instruct_dict['instruction'] = GPT_custom_prompt(system_message,\n",
        "                                                                 prompt_start,\n",
        "                                                                 article,\n",
        "                                                                 prompt_end)\n",
        "\n",
        "\n",
        "                custom_prompts_V1.append(instruct_dict)"
      ]
    },
    {
      "cell_type": "code",
      "execution_count": null,
      "metadata": {
        "id": "oiJT7HukUyg4"
      },
      "outputs": [],
      "source": [
        "df_custom_V1 = pd.DataFrame(custom_prompts_V1)\n",
        "df_custom_V1.to_csv('./data/custom_V1.csv')"
      ]
    },
    {
      "cell_type": "code",
      "execution_count": null,
      "metadata": {
        "id": "8LDtjdPSmLTn"
      },
      "outputs": [],
      "source": [
        "df_custom_V1[(df_custom_V1['system_message'] == system_messages_I[0])\n",
        "&(df_custom_V1['prompt'] == prompts_I[0])].iloc[:,[0,2,3,4]]"
      ]
    },
    {
      "cell_type": "code",
      "execution_count": null,
      "metadata": {
        "id": "f2AI_Fg1iMjv"
      },
      "outputs": [],
      "source": [
        "options_I = []\n",
        "\n",
        "for i in range(2):\n",
        "    for j in range(2):\n",
        "        instructs = (df_custom_V1[(df_custom_V1['system_message'] == system_messages_I[i])\n",
        "        &(df_custom_V1['prompt'] == prompts_I[j])].instruction)\n",
        "\n",
        "        tot_learn = instructs.str.lower().str.contains('learn').sum()\n",
        "\n",
        "        if tot_learn==0:\n",
        "\n",
        "            options_I.append((i,j))\n",
        "\n",
        "options_Q = []\n",
        "\n",
        "for i in range(2):\n",
        "    for j in range(2):\n",
        "        instructs = (df_custom_V1[(df_custom_V1['system_message'] == system_messages_Q[i])\n",
        "        &(df_custom_V1['prompt'] == prompts_Q[j])].instruction)\n",
        "\n",
        "        tot_learn = instructs.str.lower().str.contains('learn').sum()\n",
        "\n",
        "        if tot_learn==0:\n",
        "\n",
        "            options_Q.append((i,j))"
      ]
    },
    {
      "cell_type": "code",
      "execution_count": null,
      "metadata": {
        "colab": {
          "base_uri": "https://localhost:8080/"
        },
        "id": "DZOMgzDn4b8X",
        "outputId": "f839eeb9-9266-4b3e-a7dc-984d7d2eb5eb"
      },
      "outputs": [
        {
          "data": {
            "application/vnd.google.colaboratory.intrinsic+json": {
              "type": "string"
            },
            "text/plain": [
              "'Avengers: Age of Ultron is an action-thriller superhero movie. It premiered in Los Angeles on April 13, 2015, and was released on May 1, 2015, in North America. It was first revealed in May 2012, after The Avengers was released. On August 6, 2012, director Joss Whedon announced on Twitter that principal photography was complete. Two sequel movies were released: Avengers: Infinity War in 2018, and Avengers: Endgame in 2019. Release dates'"
            ]
          },
          "execution_count": 137,
          "metadata": {},
          "output_type": "execute_result"
        }
      ],
      "source": [
        "sample_articles[512][0]"
      ]
    },
    {
      "cell_type": "code",
      "execution_count": null,
      "metadata": {
        "colab": {
          "base_uri": "https://localhost:8080/"
        },
        "id": "qChkF0i8oPKu",
        "outputId": "f0a77f60-b7ad-416c-b704-eaad09b8a351"
      },
      "outputs": [
        {
          "data": {
            "text/html": [
              "\n",
              "\n",
              "  <div id=\"df-e20f4ce7-ca97-4c33-aaf4-2ff2c19841bb\">\n",
              "    <div class=\"colab-df-container\">\n",
              "      <div>\n",
              "<style scoped>\n",
              "    .dataframe tbody tr th:only-of-type {\n",
              "        vertical-align: middle;\n",
              "    }\n",
              "\n",
              "    .dataframe tbody tr th {\n",
              "        vertical-align: top;\n",
              "    }\n",
              "\n",
              "    .dataframe thead th {\n",
              "        text-align: right;\n",
              "    }\n",
              "</style>\n",
              "<table border=\"1\" class=\"dataframe\">\n",
              "  <thead>\n",
              "    <tr style=\"text-align: right;\">\n",
              "      <th></th>\n",
              "      <th>length</th>\n",
              "      <th>article</th>\n",
              "      <th>system_message</th>\n",
              "      <th>prompt</th>\n",
              "      <th>instruction</th>\n",
              "    </tr>\n",
              "  </thead>\n",
              "  <tbody>\n",
              "    <tr>\n",
              "      <th>5</th>\n",
              "      <td>256</td>\n",
              "      <td>The Ballycroy National Park is a national park...</td>\n",
              "      <td>You are a helpful assistant that generates ins...</td>\n",
              "      <td>(Instruction: X\\nOutput:, \\nWhat kind of instr...</td>\n",
              "      <td>\"Write a brief description of Ballycroy Nation...</td>\n",
              "    </tr>\n",
              "    <tr>\n",
              "      <th>15</th>\n",
              "      <td>512</td>\n",
              "      <td>The Ballycroy National Park is a national park...</td>\n",
              "      <td>You are a helpful assistant that generates ins...</td>\n",
              "      <td>(Instruction: X\\nOutput:, \\nWhat kind of instr...</td>\n",
              "      <td>\"Write a brief description of Ballycroy Nation...</td>\n",
              "    </tr>\n",
              "    <tr>\n",
              "      <th>25</th>\n",
              "      <td>256</td>\n",
              "      <td>The Ballycroy National Park is a national park...</td>\n",
              "      <td>You are a helpful assistant that generates ins...</td>\n",
              "      <td>(Instruction: X\\nOutput:, \\nWhat kind of instr...</td>\n",
              "      <td>\"Write a brief description of Ballycroy Nation...</td>\n",
              "    </tr>\n",
              "    <tr>\n",
              "      <th>35</th>\n",
              "      <td>512</td>\n",
              "      <td>The Ballycroy National Park is a national park...</td>\n",
              "      <td>You are a helpful assistant that generates ins...</td>\n",
              "      <td>(Instruction: X\\nOutput:, \\nWhat kind of instr...</td>\n",
              "      <td>\"Write a brief description of Ballycroy Nation...</td>\n",
              "    </tr>\n",
              "    <tr>\n",
              "      <th>45</th>\n",
              "      <td>256</td>\n",
              "      <td>The Ballycroy National Park is a national park...</td>\n",
              "      <td>You are a helpful assistant that generates ins...</td>\n",
              "      <td>(Instruction: X\\nOutput:, \\nWhat kind of instr...</td>\n",
              "      <td>\"Write a brief description of Ballycroy Nation...</td>\n",
              "    </tr>\n",
              "    <tr>\n",
              "      <th>55</th>\n",
              "      <td>512</td>\n",
              "      <td>The Ballycroy National Park is a national park...</td>\n",
              "      <td>You are a helpful assistant that generates ins...</td>\n",
              "      <td>(Instruction: X\\nOutput:, \\nWhat kind of instr...</td>\n",
              "      <td>\"Write a brief description of Ballycroy Nation...</td>\n",
              "    </tr>\n",
              "    <tr>\n",
              "      <th>65</th>\n",
              "      <td>256</td>\n",
              "      <td>The Ballycroy National Park is a national park...</td>\n",
              "      <td>You are a helpful assistant that generates ins...</td>\n",
              "      <td>(Instruction: X\\nOutput:, \\nWhat kind of instr...</td>\n",
              "      <td>\"Write a brief description of Ballycroy Nation...</td>\n",
              "    </tr>\n",
              "    <tr>\n",
              "      <th>75</th>\n",
              "      <td>512</td>\n",
              "      <td>The Ballycroy National Park is a national park...</td>\n",
              "      <td>You are a helpful assistant that generates ins...</td>\n",
              "      <td>(Instruction: X\\nOutput:, \\nWhat kind of instr...</td>\n",
              "      <td>\"Write a brief description of Ballycroy Nation...</td>\n",
              "    </tr>\n",
              "    <tr>\n",
              "      <th>85</th>\n",
              "      <td>256</td>\n",
              "      <td>The Ballycroy National Park is a national park...</td>\n",
              "      <td>You are a helpful assistant that generates que...</td>\n",
              "      <td>(Question: X\\nAnswer:, \\nWhat kind of question...</td>\n",
              "      <td>What is the Ballycroy National Park known for?</td>\n",
              "    </tr>\n",
              "    <tr>\n",
              "      <th>95</th>\n",
              "      <td>512</td>\n",
              "      <td>The Ballycroy National Park is a national park...</td>\n",
              "      <td>You are a helpful assistant that generates que...</td>\n",
              "      <td>(Question: X\\nAnswer:, \\nWhat kind of question...</td>\n",
              "      <td>What is the Ballycroy National Park known for?</td>\n",
              "    </tr>\n",
              "    <tr>\n",
              "      <th>105</th>\n",
              "      <td>256</td>\n",
              "      <td>The Ballycroy National Park is a national park...</td>\n",
              "      <td>You are a helpful assistant that generates que...</td>\n",
              "      <td>(Question: X\\nAnswer:, \\nWhat kind of question...</td>\n",
              "      <td>What is the Ballycroy National Park known for?</td>\n",
              "    </tr>\n",
              "    <tr>\n",
              "      <th>115</th>\n",
              "      <td>512</td>\n",
              "      <td>The Ballycroy National Park is a national park...</td>\n",
              "      <td>You are a helpful assistant that generates que...</td>\n",
              "      <td>(Question: X\\nAnswer:, \\nWhat kind of question...</td>\n",
              "      <td>What is the Ballycroy National Park known for?</td>\n",
              "    </tr>\n",
              "    <tr>\n",
              "      <th>125</th>\n",
              "      <td>256</td>\n",
              "      <td>The Ballycroy National Park is a national park...</td>\n",
              "      <td>You are a helpful assistant that generates que...</td>\n",
              "      <td>(Question: X\\nAnswer:, \\nWhat kind of question...</td>\n",
              "      <td>What is the Ballycroy National Park known for?</td>\n",
              "    </tr>\n",
              "    <tr>\n",
              "      <th>135</th>\n",
              "      <td>512</td>\n",
              "      <td>The Ballycroy National Park is a national park...</td>\n",
              "      <td>You are a helpful assistant that generates que...</td>\n",
              "      <td>(Question: X\\nAnswer:, \\nWhat kind of question...</td>\n",
              "      <td>What is the Ballycroy National Park known for?</td>\n",
              "    </tr>\n",
              "    <tr>\n",
              "      <th>145</th>\n",
              "      <td>256</td>\n",
              "      <td>The Ballycroy National Park is a national park...</td>\n",
              "      <td>You are a helpful assistant that generates que...</td>\n",
              "      <td>(Question: X\\nAnswer:, \\nWhat kind of question...</td>\n",
              "      <td>What is the Ballycroy National Park and where ...</td>\n",
              "    </tr>\n",
              "    <tr>\n",
              "      <th>155</th>\n",
              "      <td>512</td>\n",
              "      <td>The Ballycroy National Park is a national park...</td>\n",
              "      <td>You are a helpful assistant that generates que...</td>\n",
              "      <td>(Question: X\\nAnswer:, \\nWhat kind of question...</td>\n",
              "      <td>What is the Ballycroy National Park known for?</td>\n",
              "    </tr>\n",
              "  </tbody>\n",
              "</table>\n",
              "</div>\n",
              "      <button class=\"colab-df-convert\" onclick=\"convertToInteractive('df-e20f4ce7-ca97-4c33-aaf4-2ff2c19841bb')\"\n",
              "              title=\"Convert this dataframe to an interactive table.\"\n",
              "              style=\"display:none;\">\n",
              "\n",
              "  <svg xmlns=\"http://www.w3.org/2000/svg\" height=\"24px\"viewBox=\"0 0 24 24\"\n",
              "       width=\"24px\">\n",
              "    <path d=\"M0 0h24v24H0V0z\" fill=\"none\"/>\n",
              "    <path d=\"M18.56 5.44l.94 2.06.94-2.06 2.06-.94-2.06-.94-.94-2.06-.94 2.06-2.06.94zm-11 1L8.5 8.5l.94-2.06 2.06-.94-2.06-.94L8.5 2.5l-.94 2.06-2.06.94zm10 10l.94 2.06.94-2.06 2.06-.94-2.06-.94-.94-2.06-.94 2.06-2.06.94z\"/><path d=\"M17.41 7.96l-1.37-1.37c-.4-.4-.92-.59-1.43-.59-.52 0-1.04.2-1.43.59L10.3 9.45l-7.72 7.72c-.78.78-.78 2.05 0 2.83L4 21.41c.39.39.9.59 1.41.59.51 0 1.02-.2 1.41-.59l7.78-7.78 2.81-2.81c.8-.78.8-2.07 0-2.86zM5.41 20L4 18.59l7.72-7.72 1.47 1.35L5.41 20z\"/>\n",
              "  </svg>\n",
              "      </button>\n",
              "\n",
              "\n",
              "\n",
              "    <div id=\"df-2fa857fa-9b1c-4268-a469-0ed3d95a5fb7\">\n",
              "      <button class=\"colab-df-quickchart\" onclick=\"quickchart('df-2fa857fa-9b1c-4268-a469-0ed3d95a5fb7')\"\n",
              "              title=\"Suggest charts.\"\n",
              "              style=\"display:none;\">\n",
              "\n",
              "<svg xmlns=\"http://www.w3.org/2000/svg\" height=\"24px\"viewBox=\"0 0 24 24\"\n",
              "     width=\"24px\">\n",
              "    <g>\n",
              "        <path d=\"M19 3H5c-1.1 0-2 .9-2 2v14c0 1.1.9 2 2 2h14c1.1 0 2-.9 2-2V5c0-1.1-.9-2-2-2zM9 17H7v-7h2v7zm4 0h-2V7h2v10zm4 0h-2v-4h2v4z\"/>\n",
              "    </g>\n",
              "</svg>\n",
              "      </button>\n",
              "    </div>\n",
              "\n",
              "<style>\n",
              "  .colab-df-quickchart {\n",
              "    background-color: #E8F0FE;\n",
              "    border: none;\n",
              "    border-radius: 50%;\n",
              "    cursor: pointer;\n",
              "    display: none;\n",
              "    fill: #1967D2;\n",
              "    height: 32px;\n",
              "    padding: 0 0 0 0;\n",
              "    width: 32px;\n",
              "  }\n",
              "\n",
              "  .colab-df-quickchart:hover {\n",
              "    background-color: #E2EBFA;\n",
              "    box-shadow: 0px 1px 2px rgba(60, 64, 67, 0.3), 0px 1px 3px 1px rgba(60, 64, 67, 0.15);\n",
              "    fill: #174EA6;\n",
              "  }\n",
              "\n",
              "  [theme=dark] .colab-df-quickchart {\n",
              "    background-color: #3B4455;\n",
              "    fill: #D2E3FC;\n",
              "  }\n",
              "\n",
              "  [theme=dark] .colab-df-quickchart:hover {\n",
              "    background-color: #434B5C;\n",
              "    box-shadow: 0px 1px 3px 1px rgba(0, 0, 0, 0.15);\n",
              "    filter: drop-shadow(0px 1px 2px rgba(0, 0, 0, 0.3));\n",
              "    fill: #FFFFFF;\n",
              "  }\n",
              "</style>\n",
              "\n",
              "    <script>\n",
              "      async function quickchart(key) {\n",
              "        const containerElement = document.querySelector('#' + key);\n",
              "        const charts = await google.colab.kernel.invokeFunction(\n",
              "            'suggestCharts', [key], {});\n",
              "      }\n",
              "    </script>\n",
              "\n",
              "      <script>\n",
              "\n",
              "function displayQuickchartButton(domScope) {\n",
              "  let quickchartButtonEl =\n",
              "    domScope.querySelector('#df-2fa857fa-9b1c-4268-a469-0ed3d95a5fb7 button.colab-df-quickchart');\n",
              "  quickchartButtonEl.style.display =\n",
              "    google.colab.kernel.accessAllowed ? 'block' : 'none';\n",
              "}\n",
              "\n",
              "        displayQuickchartButton(document);\n",
              "      </script>\n",
              "      <style>\n",
              "    .colab-df-container {\n",
              "      display:flex;\n",
              "      flex-wrap:wrap;\n",
              "      gap: 12px;\n",
              "    }\n",
              "\n",
              "    .colab-df-convert {\n",
              "      background-color: #E8F0FE;\n",
              "      border: none;\n",
              "      border-radius: 50%;\n",
              "      cursor: pointer;\n",
              "      display: none;\n",
              "      fill: #1967D2;\n",
              "      height: 32px;\n",
              "      padding: 0 0 0 0;\n",
              "      width: 32px;\n",
              "    }\n",
              "\n",
              "    .colab-df-convert:hover {\n",
              "      background-color: #E2EBFA;\n",
              "      box-shadow: 0px 1px 2px rgba(60, 64, 67, 0.3), 0px 1px 3px 1px rgba(60, 64, 67, 0.15);\n",
              "      fill: #174EA6;\n",
              "    }\n",
              "\n",
              "    [theme=dark] .colab-df-convert {\n",
              "      background-color: #3B4455;\n",
              "      fill: #D2E3FC;\n",
              "    }\n",
              "\n",
              "    [theme=dark] .colab-df-convert:hover {\n",
              "      background-color: #434B5C;\n",
              "      box-shadow: 0px 1px 3px 1px rgba(0, 0, 0, 0.15);\n",
              "      filter: drop-shadow(0px 1px 2px rgba(0, 0, 0, 0.3));\n",
              "      fill: #FFFFFF;\n",
              "    }\n",
              "  </style>\n",
              "\n",
              "      <script>\n",
              "        const buttonEl =\n",
              "          document.querySelector('#df-e20f4ce7-ca97-4c33-aaf4-2ff2c19841bb button.colab-df-convert');\n",
              "        buttonEl.style.display =\n",
              "          google.colab.kernel.accessAllowed ? 'block' : 'none';\n",
              "\n",
              "        async function convertToInteractive(key) {\n",
              "          const element = document.querySelector('#df-e20f4ce7-ca97-4c33-aaf4-2ff2c19841bb');\n",
              "          const dataTable =\n",
              "            await google.colab.kernel.invokeFunction('convertToInteractive',\n",
              "                                                     [key], {});\n",
              "          if (!dataTable) return;\n",
              "\n",
              "          const docLinkHtml = 'Like what you see? Visit the ' +\n",
              "            '<a target=\"_blank\" href=https://colab.research.google.com/notebooks/data_table.ipynb>data table notebook</a>'\n",
              "            + ' to learn more about interactive tables.';\n",
              "          element.innerHTML = '';\n",
              "          dataTable['output_type'] = 'display_data';\n",
              "          await google.colab.output.renderOutput(dataTable, element);\n",
              "          const docLink = document.createElement('div');\n",
              "          docLink.innerHTML = docLinkHtml;\n",
              "          element.appendChild(docLink);\n",
              "        }\n",
              "      </script>\n",
              "    </div>\n",
              "  </div>\n"
            ],
            "text/plain": [
              "     length                                            article  \\\n",
              "5       256  The Ballycroy National Park is a national park...   \n",
              "15      512  The Ballycroy National Park is a national park...   \n",
              "25      256  The Ballycroy National Park is a national park...   \n",
              "35      512  The Ballycroy National Park is a national park...   \n",
              "45      256  The Ballycroy National Park is a national park...   \n",
              "55      512  The Ballycroy National Park is a national park...   \n",
              "65      256  The Ballycroy National Park is a national park...   \n",
              "75      512  The Ballycroy National Park is a national park...   \n",
              "85      256  The Ballycroy National Park is a national park...   \n",
              "95      512  The Ballycroy National Park is a national park...   \n",
              "105     256  The Ballycroy National Park is a national park...   \n",
              "115     512  The Ballycroy National Park is a national park...   \n",
              "125     256  The Ballycroy National Park is a national park...   \n",
              "135     512  The Ballycroy National Park is a national park...   \n",
              "145     256  The Ballycroy National Park is a national park...   \n",
              "155     512  The Ballycroy National Park is a national park...   \n",
              "\n",
              "                                        system_message  \\\n",
              "5    You are a helpful assistant that generates ins...   \n",
              "15   You are a helpful assistant that generates ins...   \n",
              "25   You are a helpful assistant that generates ins...   \n",
              "35   You are a helpful assistant that generates ins...   \n",
              "45   You are a helpful assistant that generates ins...   \n",
              "55   You are a helpful assistant that generates ins...   \n",
              "65   You are a helpful assistant that generates ins...   \n",
              "75   You are a helpful assistant that generates ins...   \n",
              "85   You are a helpful assistant that generates que...   \n",
              "95   You are a helpful assistant that generates que...   \n",
              "105  You are a helpful assistant that generates que...   \n",
              "115  You are a helpful assistant that generates que...   \n",
              "125  You are a helpful assistant that generates que...   \n",
              "135  You are a helpful assistant that generates que...   \n",
              "145  You are a helpful assistant that generates que...   \n",
              "155  You are a helpful assistant that generates que...   \n",
              "\n",
              "                                                prompt  \\\n",
              "5    (Instruction: X\\nOutput:, \\nWhat kind of instr...   \n",
              "15   (Instruction: X\\nOutput:, \\nWhat kind of instr...   \n",
              "25   (Instruction: X\\nOutput:, \\nWhat kind of instr...   \n",
              "35   (Instruction: X\\nOutput:, \\nWhat kind of instr...   \n",
              "45   (Instruction: X\\nOutput:, \\nWhat kind of instr...   \n",
              "55   (Instruction: X\\nOutput:, \\nWhat kind of instr...   \n",
              "65   (Instruction: X\\nOutput:, \\nWhat kind of instr...   \n",
              "75   (Instruction: X\\nOutput:, \\nWhat kind of instr...   \n",
              "85   (Question: X\\nAnswer:, \\nWhat kind of question...   \n",
              "95   (Question: X\\nAnswer:, \\nWhat kind of question...   \n",
              "105  (Question: X\\nAnswer:, \\nWhat kind of question...   \n",
              "115  (Question: X\\nAnswer:, \\nWhat kind of question...   \n",
              "125  (Question: X\\nAnswer:, \\nWhat kind of question...   \n",
              "135  (Question: X\\nAnswer:, \\nWhat kind of question...   \n",
              "145  (Question: X\\nAnswer:, \\nWhat kind of question...   \n",
              "155  (Question: X\\nAnswer:, \\nWhat kind of question...   \n",
              "\n",
              "                                           instruction  \n",
              "5    \"Write a brief description of Ballycroy Nation...  \n",
              "15   \"Write a brief description of Ballycroy Nation...  \n",
              "25   \"Write a brief description of Ballycroy Nation...  \n",
              "35   \"Write a brief description of Ballycroy Nation...  \n",
              "45   \"Write a brief description of Ballycroy Nation...  \n",
              "55   \"Write a brief description of Ballycroy Nation...  \n",
              "65   \"Write a brief description of Ballycroy Nation...  \n",
              "75   \"Write a brief description of Ballycroy Nation...  \n",
              "85      What is the Ballycroy National Park known for?  \n",
              "95      What is the Ballycroy National Park known for?  \n",
              "105     What is the Ballycroy National Park known for?  \n",
              "115     What is the Ballycroy National Park known for?  \n",
              "125     What is the Ballycroy National Park known for?  \n",
              "135     What is the Ballycroy National Park known for?  \n",
              "145  What is the Ballycroy National Park and where ...  \n",
              "155     What is the Ballycroy National Park known for?  "
            ]
          },
          "execution_count": 114,
          "metadata": {},
          "output_type": "execute_result"
        }
      ],
      "source": [
        "df_custom_V1[df_custom_V1['article']==sample_articles[512][5]]"
      ]
    },
    {
      "cell_type": "code",
      "execution_count": null,
      "metadata": {
        "id": "lu-296WBp8MP"
      },
      "outputs": [],
      "source": [
        "df_Q1 = (df_custom_V1[(df_custom_V1['system_message'] == system_messages_Q[0])\n",
        "        &(df_custom_V1['prompt'] == prompts_Q[0])]).iloc[:,[4]]\n",
        "df_Q1.index = np.arange(len(df_Q1))\n",
        "\n",
        "df_Q2 = (df_custom_V1[(df_custom_V1['system_message'] == system_messages_Q[0])\n",
        "        &(df_custom_V1['prompt'] == prompts_Q[1])]).iloc[:,[4]]\n",
        "df_Q2.index = np.arange(len(df_Q2))\n",
        "\n",
        "compare = pd.concat([df_Q1,df_Q2],axis=1)"
      ]
    },
    {
      "cell_type": "code",
      "execution_count": null,
      "metadata": {
        "colab": {
          "base_uri": "https://localhost:8080/"
        },
        "id": "Ix2Hh5D_uXtv",
        "outputId": "f84dc461-0bfe-4c62-9e43-771619102e16"
      },
      "outputs": [
        {
          "name": "stdout",
          "output_type": "stream",
          "text": [
            "['What is Avengers: Age of Ultron?'\n",
            " 'When was Avengers: Age of Ultron released?']\n",
            "['What was the Dixiecrat party and what were their beliefs?'\n",
            " 'What was the Dixiecrat party and what were their beliefs?']\n",
            "['Who was Paul William Henning?' 'Who was Paul William Henning?']\n",
            "['What are natural arches commonly formed from?' 'What is a natural arch?']\n",
            "['What is Briarcliff?' 'What is Briarcliff?']\n",
            "['What is the Ballycroy National Park known for?'\n",
            " 'What is the Ballycroy National Park known for?']\n",
            "['Who is Jessica Oyelowo?' 'Who is Jessica Oyelowo?']\n",
            "['Who was Lee Alexander McQueen?' 'Who was Lee Alexander McQueen?']\n",
            "['Who is Kelly Olynyk and what is his basketball career like?'\n",
            " 'Who is Kelly Olynyk and what is his basketball career like?']\n",
            "['What is Cujo?' 'What is Cujo?']\n",
            "['What is Avengers: Age of Ultron?'\n",
            " 'When was Avengers: Age of Ultron released?']\n",
            "['What was the Dixiecrat party and what were their beliefs?'\n",
            " 'What was the Dixiecrat party and what were their beliefs?']\n",
            "['Who was Paul William Henning?' 'Who was Paul William Henning?']\n",
            "['What are natural arches commonly formed from?' 'What is a natural arch?']\n",
            "['What is Briarcliff?' 'What is Briarcliff?']\n",
            "['What is the Ballycroy National Park known for?'\n",
            " 'What is the Ballycroy National Park known for?']\n",
            "['Who is Jessica Oyelowo?' 'Who is Jessica Oyelowo?']\n",
            "['Who was Lee Alexander McQueen?' 'Who was Lee Alexander McQueen?']\n",
            "['Who is Kelly Olynyk and what is his basketball career like?'\n",
            " 'Who is Kelly Olynyk and what is his basketball career like?']\n",
            "['What is Cujo?' 'What is Cujo?']\n"
          ]
        }
      ],
      "source": [
        "for _, sents in compare.iterrows():\n",
        "    print(sents.values)"
      ]
    },
    {
      "cell_type": "markdown",
      "metadata": {
        "id": "YBz4vzmU3rm6"
      },
      "source": [
        "## Make Dataset"
      ]
    },
    {
      "cell_type": "code",
      "execution_count": 9,
      "metadata": {
        "id": "WHPSxndg7WoQ"
      },
      "outputs": [],
      "source": [
        "def create_prompt(prompt_start,text,prompt_end):\n",
        "\n",
        "    prompt = f\"{prompt_start} {text} {prompt_end}\"\n",
        "    return prompt\n",
        "\n",
        "def GPT_custom_prompt(message,\n",
        "                      prompt_start,\n",
        "                      text,\n",
        "                      prompt_end):\n",
        "\n",
        "    prompt = create_prompt(prompt_start,\n",
        "                           text,\n",
        "                           prompt_end)\n",
        "\n",
        "    response=openai.ChatCompletion.create(\n",
        "        model=model_engine,\n",
        "        messages=[\n",
        "            {\"role\": \"system\", \"content\": message},\n",
        "            {\"role\": \"user\", \"content\": prompt},\n",
        "        ],\n",
        "        temperature = 0)\n",
        "\n",
        "    instruction = response['choices'][0]['message']['content']\n",
        "\n",
        "    #instruction = response\n",
        "\n",
        "    return instruction"
      ]
    },
    {
      "cell_type": "code",
      "execution_count": 14,
      "metadata": {
        "id": "WdLvWfvU313T"
      },
      "outputs": [],
      "source": [
        "message = 'You are a helpful assistant that generates questions from text.'\n",
        "prompt_template = (\"Question: X\\nAnswer:\", \"\\nWhat kind of question, X, could this be an answer to?\\nX:\")"
      ]
    },
    {
      "cell_type": "code",
      "execution_count": 11,
      "metadata": {
        "colab": {
          "base_uri": "https://localhost:8080/"
        },
        "id": "ehX_8hxiIv-v",
        "outputId": "461a52d3-a889-4ae0-c82b-2415104472d3"
      },
      "outputs": [
        {
          "output_type": "execute_result",
          "data": {
            "text/plain": [
              "['Avengers: Age of Ultron is an action-thriller superhero movie. It premiered in Los Angeles on April 13, 2015, and was released on May 1, 2015, in North America. It was first revealed in May 2012, after The Avengers was released. On August 6, 2012, director Joss Whedon announced on Twitter that principal photography was complete. Two sequel movies were released: Avengers: Infinity War in 2018, and Avengers: Endgame in 2019.',\n",
              " \"The Dixiecrat (also called The States' Rights Democratic Party) was a political party in the United States that was around for a very short time. The Dixiecrats did not agree with civil rights and wanted more states' rights. They were in the Southern United States. In 1948 they left the Democratic Party and formed their party. They met in Birmingham, Alabama and nominated Governor of South Carolina Strom Thurmond for 1948 United States presidential election. In the election they won the U.S states of South Carolina, Mississippi, Louisiana, and Alabama with 39 electoral votes and over 1,000,000 popular votes. The party ended shortly after.\"]"
            ]
          },
          "metadata": {},
          "execution_count": 11
        }
      ],
      "source": [
        "list(map(lambda x: trunc_article(x),simple_wiki['train']['text'][:2]))"
      ]
    },
    {
      "cell_type": "code",
      "execution_count": 12,
      "metadata": {
        "id": "Rs-Zre1i4mEZ"
      },
      "outputs": [],
      "source": [
        "data_set_articles = list(map(lambda x: trunc_article(x),simple_wiki['train']['text'][:10**3]))"
      ]
    },
    {
      "cell_type": "code",
      "execution_count": 18,
      "metadata": {
        "colab": {
          "base_uri": "https://localhost:8080/",
          "height": 474
        },
        "id": "OIfFWLH_5Gq0",
        "outputId": "f6fc260d-fadb-4188-dccf-15829892e8af"
      },
      "outputs": [
        {
          "output_type": "stream",
          "name": "stderr",
          "text": [
            " 18%|█▊        | 184/1000 [07:50<34:46,  2.56s/it]\n"
          ]
        },
        {
          "output_type": "error",
          "ename": "APIError",
          "evalue": "ignored",
          "traceback": [
            "\u001b[0;31m---------------------------------------------------------------------------\u001b[0m",
            "\u001b[0;31mAPIError\u001b[0m                                  Traceback (most recent call last)",
            "\u001b[0;32m<ipython-input-18-5762587b5876>\u001b[0m in \u001b[0;36m<cell line: 3>\u001b[0;34m()\u001b[0m\n\u001b[1;32m      9\u001b[0m     \u001b[0mwiki_instruct_pt1\u001b[0m\u001b[0;34m[\u001b[0m\u001b[0;34m'prompt'\u001b[0m\u001b[0;34m]\u001b[0m \u001b[0;34m=\u001b[0m \u001b[0mprompt_template\u001b[0m\u001b[0;34m\u001b[0m\u001b[0;34m\u001b[0m\u001b[0m\n\u001b[1;32m     10\u001b[0m \u001b[0;34m\u001b[0m\u001b[0m\n\u001b[0;32m---> 11\u001b[0;31m     wiki_instruct_pt1['instruction'] = GPT_custom_prompt(message,\n\u001b[0m\u001b[1;32m     12\u001b[0m                                                          \u001b[0mprompt_template\u001b[0m\u001b[0;34m[\u001b[0m\u001b[0;36m0\u001b[0m\u001b[0;34m]\u001b[0m\u001b[0;34m,\u001b[0m\u001b[0;34m\u001b[0m\u001b[0;34m\u001b[0m\u001b[0m\n\u001b[1;32m     13\u001b[0m                                                          \u001b[0marticle\u001b[0m\u001b[0;34m,\u001b[0m\u001b[0;34m\u001b[0m\u001b[0;34m\u001b[0m\u001b[0m\n",
            "\u001b[0;32m<ipython-input-9-74c134f23def>\u001b[0m in \u001b[0;36mGPT_custom_prompt\u001b[0;34m(message, prompt_start, text, prompt_end)\u001b[0m\n\u001b[1;32m     13\u001b[0m                            prompt_end)\n\u001b[1;32m     14\u001b[0m \u001b[0;34m\u001b[0m\u001b[0m\n\u001b[0;32m---> 15\u001b[0;31m     response=openai.ChatCompletion.create(\n\u001b[0m\u001b[1;32m     16\u001b[0m         \u001b[0mmodel\u001b[0m\u001b[0;34m=\u001b[0m\u001b[0mmodel_engine\u001b[0m\u001b[0;34m,\u001b[0m\u001b[0;34m\u001b[0m\u001b[0;34m\u001b[0m\u001b[0m\n\u001b[1;32m     17\u001b[0m         messages=[\n",
            "\u001b[0;32m/usr/local/lib/python3.10/dist-packages/openai/api_resources/chat_completion.py\u001b[0m in \u001b[0;36mcreate\u001b[0;34m(cls, *args, **kwargs)\u001b[0m\n\u001b[1;32m     23\u001b[0m         \u001b[0;32mwhile\u001b[0m \u001b[0;32mTrue\u001b[0m\u001b[0;34m:\u001b[0m\u001b[0;34m\u001b[0m\u001b[0;34m\u001b[0m\u001b[0m\n\u001b[1;32m     24\u001b[0m             \u001b[0;32mtry\u001b[0m\u001b[0;34m:\u001b[0m\u001b[0;34m\u001b[0m\u001b[0;34m\u001b[0m\u001b[0m\n\u001b[0;32m---> 25\u001b[0;31m                 \u001b[0;32mreturn\u001b[0m \u001b[0msuper\u001b[0m\u001b[0;34m(\u001b[0m\u001b[0;34m)\u001b[0m\u001b[0;34m.\u001b[0m\u001b[0mcreate\u001b[0m\u001b[0;34m(\u001b[0m\u001b[0;34m*\u001b[0m\u001b[0margs\u001b[0m\u001b[0;34m,\u001b[0m \u001b[0;34m**\u001b[0m\u001b[0mkwargs\u001b[0m\u001b[0;34m)\u001b[0m\u001b[0;34m\u001b[0m\u001b[0;34m\u001b[0m\u001b[0m\n\u001b[0m\u001b[1;32m     26\u001b[0m             \u001b[0;32mexcept\u001b[0m \u001b[0mTryAgain\u001b[0m \u001b[0;32mas\u001b[0m \u001b[0me\u001b[0m\u001b[0;34m:\u001b[0m\u001b[0;34m\u001b[0m\u001b[0;34m\u001b[0m\u001b[0m\n\u001b[1;32m     27\u001b[0m                 \u001b[0;32mif\u001b[0m \u001b[0mtimeout\u001b[0m \u001b[0;32mis\u001b[0m \u001b[0;32mnot\u001b[0m \u001b[0;32mNone\u001b[0m \u001b[0;32mand\u001b[0m \u001b[0mtime\u001b[0m\u001b[0;34m.\u001b[0m\u001b[0mtime\u001b[0m\u001b[0;34m(\u001b[0m\u001b[0;34m)\u001b[0m \u001b[0;34m>\u001b[0m \u001b[0mstart\u001b[0m \u001b[0;34m+\u001b[0m \u001b[0mtimeout\u001b[0m\u001b[0;34m:\u001b[0m\u001b[0;34m\u001b[0m\u001b[0;34m\u001b[0m\u001b[0m\n",
            "\u001b[0;32m/usr/local/lib/python3.10/dist-packages/openai/api_resources/abstract/engine_api_resource.py\u001b[0m in \u001b[0;36mcreate\u001b[0;34m(cls, api_key, api_base, api_type, request_id, api_version, organization, **params)\u001b[0m\n\u001b[1;32m    151\u001b[0m         )\n\u001b[1;32m    152\u001b[0m \u001b[0;34m\u001b[0m\u001b[0m\n\u001b[0;32m--> 153\u001b[0;31m         response, _, api_key = requestor.request(\n\u001b[0m\u001b[1;32m    154\u001b[0m             \u001b[0;34m\"post\"\u001b[0m\u001b[0;34m,\u001b[0m\u001b[0;34m\u001b[0m\u001b[0;34m\u001b[0m\u001b[0m\n\u001b[1;32m    155\u001b[0m             \u001b[0murl\u001b[0m\u001b[0;34m,\u001b[0m\u001b[0;34m\u001b[0m\u001b[0;34m\u001b[0m\u001b[0m\n",
            "\u001b[0;32m/usr/local/lib/python3.10/dist-packages/openai/api_requestor.py\u001b[0m in \u001b[0;36mrequest\u001b[0;34m(self, method, url, params, headers, files, stream, request_id, request_timeout)\u001b[0m\n\u001b[1;32m    296\u001b[0m             \u001b[0mrequest_timeout\u001b[0m\u001b[0;34m=\u001b[0m\u001b[0mrequest_timeout\u001b[0m\u001b[0;34m,\u001b[0m\u001b[0;34m\u001b[0m\u001b[0;34m\u001b[0m\u001b[0m\n\u001b[1;32m    297\u001b[0m         )\n\u001b[0;32m--> 298\u001b[0;31m         \u001b[0mresp\u001b[0m\u001b[0;34m,\u001b[0m \u001b[0mgot_stream\u001b[0m \u001b[0;34m=\u001b[0m \u001b[0mself\u001b[0m\u001b[0;34m.\u001b[0m\u001b[0m_interpret_response\u001b[0m\u001b[0;34m(\u001b[0m\u001b[0mresult\u001b[0m\u001b[0;34m,\u001b[0m \u001b[0mstream\u001b[0m\u001b[0;34m)\u001b[0m\u001b[0;34m\u001b[0m\u001b[0;34m\u001b[0m\u001b[0m\n\u001b[0m\u001b[1;32m    299\u001b[0m         \u001b[0;32mreturn\u001b[0m \u001b[0mresp\u001b[0m\u001b[0;34m,\u001b[0m \u001b[0mgot_stream\u001b[0m\u001b[0;34m,\u001b[0m \u001b[0mself\u001b[0m\u001b[0;34m.\u001b[0m\u001b[0mapi_key\u001b[0m\u001b[0;34m\u001b[0m\u001b[0;34m\u001b[0m\u001b[0m\n\u001b[1;32m    300\u001b[0m \u001b[0;34m\u001b[0m\u001b[0m\n",
            "\u001b[0;32m/usr/local/lib/python3.10/dist-packages/openai/api_requestor.py\u001b[0m in \u001b[0;36m_interpret_response\u001b[0;34m(self, result, stream)\u001b[0m\n\u001b[1;32m    698\u001b[0m         \u001b[0;32melse\u001b[0m\u001b[0;34m:\u001b[0m\u001b[0;34m\u001b[0m\u001b[0;34m\u001b[0m\u001b[0m\n\u001b[1;32m    699\u001b[0m             return (\n\u001b[0;32m--> 700\u001b[0;31m                 self._interpret_response_line(\n\u001b[0m\u001b[1;32m    701\u001b[0m                     \u001b[0mresult\u001b[0m\u001b[0;34m.\u001b[0m\u001b[0mcontent\u001b[0m\u001b[0;34m.\u001b[0m\u001b[0mdecode\u001b[0m\u001b[0;34m(\u001b[0m\u001b[0;34m\"utf-8\"\u001b[0m\u001b[0;34m)\u001b[0m\u001b[0;34m,\u001b[0m\u001b[0;34m\u001b[0m\u001b[0;34m\u001b[0m\u001b[0m\n\u001b[1;32m    702\u001b[0m                     \u001b[0mresult\u001b[0m\u001b[0;34m.\u001b[0m\u001b[0mstatus_code\u001b[0m\u001b[0;34m,\u001b[0m\u001b[0;34m\u001b[0m\u001b[0;34m\u001b[0m\u001b[0m\n",
            "\u001b[0;32m/usr/local/lib/python3.10/dist-packages/openai/api_requestor.py\u001b[0m in \u001b[0;36m_interpret_response_line\u001b[0;34m(self, rbody, rcode, rheaders, stream)\u001b[0m\n\u001b[1;32m    761\u001b[0m         \u001b[0mstream_error\u001b[0m \u001b[0;34m=\u001b[0m \u001b[0mstream\u001b[0m \u001b[0;32mand\u001b[0m \u001b[0;34m\"error\"\u001b[0m \u001b[0;32min\u001b[0m \u001b[0mresp\u001b[0m\u001b[0;34m.\u001b[0m\u001b[0mdata\u001b[0m\u001b[0;34m\u001b[0m\u001b[0;34m\u001b[0m\u001b[0m\n\u001b[1;32m    762\u001b[0m         \u001b[0;32mif\u001b[0m \u001b[0mstream_error\u001b[0m \u001b[0;32mor\u001b[0m \u001b[0;32mnot\u001b[0m \u001b[0;36m200\u001b[0m \u001b[0;34m<=\u001b[0m \u001b[0mrcode\u001b[0m \u001b[0;34m<\u001b[0m \u001b[0;36m300\u001b[0m\u001b[0;34m:\u001b[0m\u001b[0;34m\u001b[0m\u001b[0;34m\u001b[0m\u001b[0m\n\u001b[0;32m--> 763\u001b[0;31m             raise self.handle_error_response(\n\u001b[0m\u001b[1;32m    764\u001b[0m                 \u001b[0mrbody\u001b[0m\u001b[0;34m,\u001b[0m \u001b[0mrcode\u001b[0m\u001b[0;34m,\u001b[0m \u001b[0mresp\u001b[0m\u001b[0;34m.\u001b[0m\u001b[0mdata\u001b[0m\u001b[0;34m,\u001b[0m \u001b[0mrheaders\u001b[0m\u001b[0;34m,\u001b[0m \u001b[0mstream_error\u001b[0m\u001b[0;34m=\u001b[0m\u001b[0mstream_error\u001b[0m\u001b[0;34m\u001b[0m\u001b[0;34m\u001b[0m\u001b[0m\n\u001b[1;32m    765\u001b[0m             )\n",
            "\u001b[0;31mAPIError\u001b[0m: Bad gateway. {\"error\":{\"code\":502,\"message\":\"Bad gateway.\",\"param\":null,\"type\":\"cf_bad_gateway\"}} 502 {'error': {'code': 502, 'message': 'Bad gateway.', 'param': None, 'type': 'cf_bad_gateway'}} {'Date': 'Fri, 04 Aug 2023 17:27:04 GMT', 'Content-Type': 'application/json', 'Content-Length': '84', 'Connection': 'keep-alive', 'X-Frame-Options': 'SAMEORIGIN', 'Referrer-Policy': 'same-origin', 'Cache-Control': 'private, max-age=0, no-store, no-cache, must-revalidate, post-check=0, pre-check=0', 'Expires': 'Thu, 01 Jan 1970 00:00:01 GMT', 'Server': 'cloudflare', 'CF-RAY': '7f187ab829ea4a28-TPE', 'alt-svc': 'h3=\":443\"; ma=86400'}"
          ]
        }
      ],
      "source": [
        "wiki_instruct_temp = []\n",
        "\n",
        "for article in tqdm(data_set_articles):\n",
        "    wiki_instruct_pt1 = {}\n",
        "\n",
        "    wiki_instruct_pt1['length'] = 256\n",
        "    wiki_instruct_pt1['article'] = article\n",
        "    wiki_instruct_pt1['system_message'] = message\n",
        "    wiki_instruct_pt1['prompt'] = prompt_template\n",
        "\n",
        "    wiki_instruct_pt1['instruction'] = GPT_custom_prompt(message,\n",
        "                                                         prompt_template[0],\n",
        "                                                         article,\n",
        "                                                         prompt_template[1])\n",
        "\n",
        "\n",
        "    wiki_instruct_temp.append(wiki_instruct_pt1)\n",
        "\n",
        "df_wiki_instruct_pt1 = pd.DataFrame(wiki_instruct_temp)\n",
        "df_wiki_instruct_pt1.to_csv('./data/wiki_instruct_pt1.csv')"
      ]
    },
    {
      "cell_type": "code",
      "execution_count": null,
      "metadata": {
        "id": "gzAXE-OCINwG"
      },
      "outputs": [],
      "source": [
        "article"
      ]
    },
    {
      "cell_type": "markdown",
      "metadata": {
        "id": "WJkB2hr0e2AP"
      },
      "source": [
        "# Scratch"
      ]
    },
    {
      "cell_type": "code",
      "execution_count": null,
      "metadata": {
        "colab": {
          "base_uri": "https://localhost:8080/"
        },
        "id": "7fCo5Kd95l7D",
        "outputId": "446f9793-1203-4762-f61e-1b022675d0f2"
      },
      "outputs": [
        {
          "data": {
            "text/plain": [
              "[{'system_message_ext': 'default',\n",
              "  'prompt_ext': 'default',\n",
              "  'article': 'Avengers: Age of Ultron is an action-thriller superhero movie. It premiered in Los Angeles on April 13, 2015, and was released on May 1, 2015, in North America. It was first revealed in May 2012, after The Avengers was released. On August 6, 2012, director Joss Whedon announced on Twitter that principal photography was complete. Two sequel movies were released: Avengers: Infinity War in 2018, and Avengers: Endgame in 2019. Release dates',\n",
              "  'instruction': 'X: What is the release date and background information for Avengers: Age of Ultron?'},\n",
              " {'system_message_ext': 'default',\n",
              "  'prompt_ext': 'default',\n",
              "  'article': \"The Dixiecrat (also called The States' Rights Democratic Party) was a political party in the United States that was around for a very short time. The Dixiecrats did not agree with civil rights and wanted more states' rights. They were in the Southern United States. In 1948 they left the Democratic Party and formed their party. They met in Birmingham, Alabama and nominated Governor of South Carolina Strom Thurmond for 1948 United States presidential election. In the election they won the U.S states of South Carolina, Mississippi, Louisiana, and Alabama with 39 electoral votes and over 1,000,000 popular votes. The party ended shortly after.\",\n",
              "  'instruction': 'A possible instruction that this answer could be a response to is: \"Can you provide information about the Dixiecrat party?\"'},\n",
              " {'system_message_ext': 'default',\n",
              "  'prompt_ext': 'default',\n",
              "  'article': 'Paul William Henning (September 16, 1911 – March 25, 2005) was an American producer and screenwriter. He was known for creating The Beverly Hillbillies. He also helped create Petticoat Junction (1963–1970) and Green Acres (1965–1971) for CBS. He was one of the staff writers for George Burns. Henning was born in Independence, Missouri. Henning died on March 25, 2005 in Burbank, California at the age of 93.',\n",
              "  'instruction': 'This answer could be in response to the instruction \"Provide information about Paul William Henning.\"'},\n",
              " {'system_message_ext': 'default',\n",
              "  'prompt_ext': 'default',\n",
              "  'article': 'A natural arch is a natural rock formation where an arch has formed with an opening under the arch. It is also called a natural bridge, or (less commonly) rock arch. Natural arches commonly form where inland cliffs, coastal cliffs, fins or stacks are eroded by the sea, rivers or weathering. Most natural arches are formed from narrow fins and sea stacks that is made up of sandstone or limestone. Rocks Landforms',\n",
              "  'instruction': 'Identifying and describing natural arches and their formation'},\n",
              " {'system_message_ext': 'default',\n",
              "  'prompt_ext': 'default',\n",
              "  'article': 'Briarcliff is a city in the US state of Arkansas. Cities in Arkansas',\n",
              "  'instruction': 'X: \"What is Briarcliff?\"'},\n",
              " {'system_message_ext': 'default',\n",
              "  'prompt_ext': 'Write the instruction using Simple English.',\n",
              "  'article': 'Avengers: Age of Ultron is an action-thriller superhero movie. It premiered in Los Angeles on April 13, 2015, and was released on May 1, 2015, in North America. It was first revealed in May 2012, after The Avengers was released. On August 6, 2012, director Joss Whedon announced on Twitter that principal photography was complete. Two sequel movies were released: Avengers: Infinity War in 2018, and Avengers: Endgame in 2019. Release dates',\n",
              "  'instruction': 'X: Provide information about the movie \"Avengers: Age of Ultron\" and its release dates.'},\n",
              " {'system_message_ext': 'default',\n",
              "  'prompt_ext': 'Write the instruction using Simple English.',\n",
              "  'article': \"The Dixiecrat (also called The States' Rights Democratic Party) was a political party in the United States that was around for a very short time. The Dixiecrats did not agree with civil rights and wanted more states' rights. They were in the Southern United States. In 1948 they left the Democratic Party and formed their party. They met in Birmingham, Alabama and nominated Governor of South Carolina Strom Thurmond for 1948 United States presidential election. In the election they won the U.S states of South Carolina, Mississippi, Louisiana, and Alabama with 39 electoral votes and over 1,000,000 popular votes. The party ended shortly after.\",\n",
              "  'instruction': 'Write a brief summary of the Dixiecrat political party and its impact on the 1948 United States presidential election.'},\n",
              " {'system_message_ext': 'default',\n",
              "  'prompt_ext': 'Write the instruction using Simple English.',\n",
              "  'article': 'Paul William Henning (September 16, 1911 – March 25, 2005) was an American producer and screenwriter. He was known for creating The Beverly Hillbillies. He also helped create Petticoat Junction (1963–1970) and Green Acres (1965–1971) for CBS. He was one of the staff writers for George Burns. Henning was born in Independence, Missouri. Henning died on March 25, 2005 in Burbank, California at the age of 93.',\n",
              "  'instruction': \"X: Provide information about Paul William Henning's career and personal life.\"},\n",
              " {'system_message_ext': 'default',\n",
              "  'prompt_ext': 'Write the instruction using Simple English.',\n",
              "  'article': 'A natural arch is a natural rock formation where an arch has formed with an opening under the arch. It is also called a natural bridge, or (less commonly) rock arch. Natural arches commonly form where inland cliffs, coastal cliffs, fins or stacks are eroded by the sea, rivers or weathering. Most natural arches are formed from narrow fins and sea stacks that is made up of sandstone or limestone. Rocks Landforms',\n",
              "  'instruction': 'Identify and describe the formation of a natural arch.'},\n",
              " {'system_message_ext': 'default',\n",
              "  'prompt_ext': 'Write the instruction using Simple English.',\n",
              "  'article': 'Briarcliff is a city in the US state of Arkansas. Cities in Arkansas',\n",
              "  'instruction': 'X: \"Provide information about Briarcliff, a city in Arkansas.\"'},\n",
              " {'system_message_ext': 'default',\n",
              "  'prompt_ext': 'Write an instruction which is simple, concise, and easy to understand.',\n",
              "  'article': 'Avengers: Age of Ultron is an action-thriller superhero movie. It premiered in Los Angeles on April 13, 2015, and was released on May 1, 2015, in North America. It was first revealed in May 2012, after The Avengers was released. On August 6, 2012, director Joss Whedon announced on Twitter that principal photography was complete. Two sequel movies were released: Avengers: Infinity War in 2018, and Avengers: Endgame in 2019. Release dates',\n",
              "  'instruction': 'Provide a brief overview of the movie \"Avengers: Age of Ultron\" including its release date and information about its sequels.'},\n",
              " {'system_message_ext': 'default',\n",
              "  'prompt_ext': 'Write an instruction which is simple, concise, and easy to understand.',\n",
              "  'article': \"The Dixiecrat (also called The States' Rights Democratic Party) was a political party in the United States that was around for a very short time. The Dixiecrats did not agree with civil rights and wanted more states' rights. They were in the Southern United States. In 1948 they left the Democratic Party and formed their party. They met in Birmingham, Alabama and nominated Governor of South Carolina Strom Thurmond for 1948 United States presidential election. In the election they won the U.S states of South Carolina, Mississippi, Louisiana, and Alabama with 39 electoral votes and over 1,000,000 popular votes. The party ended shortly after.\",\n",
              "  'instruction': 'Write a brief summary of the Dixiecrat political party and their impact on the 1948 United States presidential election.'},\n",
              " {'system_message_ext': 'default',\n",
              "  'prompt_ext': 'Write an instruction which is simple, concise, and easy to understand.',\n",
              "  'article': 'Paul William Henning (September 16, 1911 – March 25, 2005) was an American producer and screenwriter. He was known for creating The Beverly Hillbillies. He also helped create Petticoat Junction (1963–1970) and Green Acres (1965–1971) for CBS. He was one of the staff writers for George Burns. Henning was born in Independence, Missouri. Henning died on March 25, 2005 in Burbank, California at the age of 93.',\n",
              "  'instruction': 'X: Learn about the life and career of Paul William Henning.'},\n",
              " {'system_message_ext': 'default',\n",
              "  'prompt_ext': 'Write an instruction which is simple, concise, and easy to understand.',\n",
              "  'article': 'A natural arch is a natural rock formation where an arch has formed with an opening under the arch. It is also called a natural bridge, or (less commonly) rock arch. Natural arches commonly form where inland cliffs, coastal cliffs, fins or stacks are eroded by the sea, rivers or weathering. Most natural arches are formed from narrow fins and sea stacks that is made up of sandstone or limestone. Rocks Landforms',\n",
              "  'instruction': 'Identify and describe the formation of natural arches in different landscapes.'},\n",
              " {'system_message_ext': 'default',\n",
              "  'prompt_ext': 'Write an instruction which is simple, concise, and easy to understand.',\n",
              "  'article': 'Briarcliff is a city in the US state of Arkansas. Cities in Arkansas',\n",
              "  'instruction': 'X: Provide information about Briarcliff, a city in Arkansas.'},\n",
              " {'system_message_ext': 'default',\n",
              "  'prompt_ext': 'Write an instruction in the style of ELI5.',\n",
              "  'article': 'Avengers: Age of Ultron is an action-thriller superhero movie. It premiered in Los Angeles on April 13, 2015, and was released on May 1, 2015, in North America. It was first revealed in May 2012, after The Avengers was released. On August 6, 2012, director Joss Whedon announced on Twitter that principal photography was complete. Two sequel movies were released: Avengers: Infinity War in 2018, and Avengers: Endgame in 2019. Release dates',\n",
              "  'instruction': 'X: Explain the background and release dates of the movie \"Avengers: Age of Ultron\" in a simple and easy-to-understand way.'},\n",
              " {'system_message_ext': 'default',\n",
              "  'prompt_ext': 'Write an instruction in the style of ELI5.',\n",
              "  'article': \"The Dixiecrat (also called The States' Rights Democratic Party) was a political party in the United States that was around for a very short time. The Dixiecrats did not agree with civil rights and wanted more states' rights. They were in the Southern United States. In 1948 they left the Democratic Party and formed their party. They met in Birmingham, Alabama and nominated Governor of South Carolina Strom Thurmond for 1948 United States presidential election. In the election they won the U.S states of South Carolina, Mississippi, Louisiana, and Alabama with 39 electoral votes and over 1,000,000 popular votes. The party ended shortly after.\",\n",
              "  'instruction': 'ELI5: Explain the history and significance of the Dixiecrat party in the United States.'},\n",
              " {'system_message_ext': 'default',\n",
              "  'prompt_ext': 'Write an instruction in the style of ELI5.',\n",
              "  'article': 'Paul William Henning (September 16, 1911 – March 25, 2005) was an American producer and screenwriter. He was known for creating The Beverly Hillbillies. He also helped create Petticoat Junction (1963–1970) and Green Acres (1965–1971) for CBS. He was one of the staff writers for George Burns. Henning was born in Independence, Missouri. Henning died on March 25, 2005 in Burbank, California at the age of 93.',\n",
              "  'instruction': 'X: Explain who Paul William Henning was and what he is known for in a simple way.'},\n",
              " {'system_message_ext': 'default',\n",
              "  'prompt_ext': 'Write an instruction in the style of ELI5.',\n",
              "  'article': 'A natural arch is a natural rock formation where an arch has formed with an opening under the arch. It is also called a natural bridge, or (less commonly) rock arch. Natural arches commonly form where inland cliffs, coastal cliffs, fins or stacks are eroded by the sea, rivers or weathering. Most natural arches are formed from narrow fins and sea stacks that is made up of sandstone or limestone. Rocks Landforms',\n",
              "  'instruction': 'ELI5: How are natural arches formed?'},\n",
              " {'system_message_ext': 'default',\n",
              "  'prompt_ext': 'Write an instruction in the style of ELI5.',\n",
              "  'article': 'Briarcliff is a city in the US state of Arkansas. Cities in Arkansas',\n",
              "  'instruction': 'ELI5: Can you explain what Briarcliff is and where it is located in Arkansas?'},\n",
              " {'system_message_ext': 'You write text using Simple English.',\n",
              "  'prompt_ext': 'default',\n",
              "  'article': 'Avengers: Age of Ultron is an action-thriller superhero movie. It premiered in Los Angeles on April 13, 2015, and was released on May 1, 2015, in North America. It was first revealed in May 2012, after The Avengers was released. On August 6, 2012, director Joss Whedon announced on Twitter that principal photography was complete. Two sequel movies were released: Avengers: Infinity War in 2018, and Avengers: Endgame in 2019. Release dates',\n",
              "  'instruction': 'X: Provide information about the movie \"Avengers: Age of Ultron\" and its release dates.'},\n",
              " {'system_message_ext': 'You write text using Simple English.',\n",
              "  'prompt_ext': 'default',\n",
              "  'article': \"The Dixiecrat (also called The States' Rights Democratic Party) was a political party in the United States that was around for a very short time. The Dixiecrats did not agree with civil rights and wanted more states' rights. They were in the Southern United States. In 1948 they left the Democratic Party and formed their party. They met in Birmingham, Alabama and nominated Governor of South Carolina Strom Thurmond for 1948 United States presidential election. In the election they won the U.S states of South Carolina, Mississippi, Louisiana, and Alabama with 39 electoral votes and over 1,000,000 popular votes. The party ended shortly after.\",\n",
              "  'instruction': 'X: What was the Dixiecrat party and what were their beliefs?'},\n",
              " {'system_message_ext': 'You write text using Simple English.',\n",
              "  'prompt_ext': 'default',\n",
              "  'article': 'Paul William Henning (September 16, 1911 – March 25, 2005) was an American producer and screenwriter. He was known for creating The Beverly Hillbillies. He also helped create Petticoat Junction (1963–1970) and Green Acres (1965–1971) for CBS. He was one of the staff writers for George Burns. Henning was born in Independence, Missouri. Henning died on March 25, 2005 in Burbank, California at the age of 93.',\n",
              "  'instruction': 'X: Provide a brief biography of Paul William Henning.'},\n",
              " {'system_message_ext': 'You write text using Simple English.',\n",
              "  'prompt_ext': 'default',\n",
              "  'article': 'A natural arch is a natural rock formation where an arch has formed with an opening under the arch. It is also called a natural bridge, or (less commonly) rock arch. Natural arches commonly form where inland cliffs, coastal cliffs, fins or stacks are eroded by the sea, rivers or weathering. Most natural arches are formed from narrow fins and sea stacks that is made up of sandstone or limestone. Rocks Landforms',\n",
              "  'instruction': 'X: Describe what a natural arch is and how it is formed.'},\n",
              " {'system_message_ext': 'You write text using Simple English.',\n",
              "  'prompt_ext': 'default',\n",
              "  'article': 'Briarcliff is a city in the US state of Arkansas. Cities in Arkansas',\n",
              "  'instruction': 'Provide information about a specific city in Arkansas.'},\n",
              " {'system_message_ext': 'You write text using Simple English.',\n",
              "  'prompt_ext': 'Write the instruction using Simple English.',\n",
              "  'article': 'Avengers: Age of Ultron is an action-thriller superhero movie. It premiered in Los Angeles on April 13, 2015, and was released on May 1, 2015, in North America. It was first revealed in May 2012, after The Avengers was released. On August 6, 2012, director Joss Whedon announced on Twitter that principal photography was complete. Two sequel movies were released: Avengers: Infinity War in 2018, and Avengers: Endgame in 2019. Release dates',\n",
              "  'instruction': 'X: Provide information about the movie \"Avengers: Age of Ultron\" and its release dates.'},\n",
              " {'system_message_ext': 'You write text using Simple English.',\n",
              "  'prompt_ext': 'Write the instruction using Simple English.',\n",
              "  'article': \"The Dixiecrat (also called The States' Rights Democratic Party) was a political party in the United States that was around for a very short time. The Dixiecrats did not agree with civil rights and wanted more states' rights. They were in the Southern United States. In 1948 they left the Democratic Party and formed their party. They met in Birmingham, Alabama and nominated Governor of South Carolina Strom Thurmond for 1948 United States presidential election. In the election they won the U.S states of South Carolina, Mississippi, Louisiana, and Alabama with 39 electoral votes and over 1,000,000 popular votes. The party ended shortly after.\",\n",
              "  'instruction': 'Write a brief summary of the Dixiecrat political party and their impact on the 1948 United States presidential election.'},\n",
              " {'system_message_ext': 'You write text using Simple English.',\n",
              "  'prompt_ext': 'Write the instruction using Simple English.',\n",
              "  'article': 'Paul William Henning (September 16, 1911 – March 25, 2005) was an American producer and screenwriter. He was known for creating The Beverly Hillbillies. He also helped create Petticoat Junction (1963–1970) and Green Acres (1965–1971) for CBS. He was one of the staff writers for George Burns. Henning was born in Independence, Missouri. Henning died on March 25, 2005 in Burbank, California at the age of 93.',\n",
              "  'instruction': 'X: Write a brief biography of Paul William Henning.'},\n",
              " {'system_message_ext': 'You write text using Simple English.',\n",
              "  'prompt_ext': 'Write the instruction using Simple English.',\n",
              "  'article': 'A natural arch is a natural rock formation where an arch has formed with an opening under the arch. It is also called a natural bridge, or (less commonly) rock arch. Natural arches commonly form where inland cliffs, coastal cliffs, fins or stacks are eroded by the sea, rivers or weathering. Most natural arches are formed from narrow fins and sea stacks that is made up of sandstone or limestone. Rocks Landforms',\n",
              "  'instruction': 'X: Explain what a natural arch is and how it is formed.'},\n",
              " {'system_message_ext': 'You write text using Simple English.',\n",
              "  'prompt_ext': 'Write the instruction using Simple English.',\n",
              "  'article': 'Briarcliff is a city in the US state of Arkansas. Cities in Arkansas',\n",
              "  'instruction': 'Provide information about Briarcliff, a city in Arkansas.'},\n",
              " {'system_message_ext': 'You write text using Simple English.',\n",
              "  'prompt_ext': 'Write an instruction which is simple, concise, and easy to understand.',\n",
              "  'article': 'Avengers: Age of Ultron is an action-thriller superhero movie. It premiered in Los Angeles on April 13, 2015, and was released on May 1, 2015, in North America. It was first revealed in May 2012, after The Avengers was released. On August 6, 2012, director Joss Whedon announced on Twitter that principal photography was complete. Two sequel movies were released: Avengers: Infinity War in 2018, and Avengers: Endgame in 2019. Release dates',\n",
              "  'instruction': 'Write a brief summary of the movie \"Avengers: Age of Ultron\" including its release dates and information about its sequels.'},\n",
              " {'system_message_ext': 'You write text using Simple English.',\n",
              "  'prompt_ext': 'Write an instruction which is simple, concise, and easy to understand.',\n",
              "  'article': \"The Dixiecrat (also called The States' Rights Democratic Party) was a political party in the United States that was around for a very short time. The Dixiecrats did not agree with civil rights and wanted more states' rights. They were in the Southern United States. In 1948 they left the Democratic Party and formed their party. They met in Birmingham, Alabama and nominated Governor of South Carolina Strom Thurmond for 1948 United States presidential election. In the election they won the U.S states of South Carolina, Mississippi, Louisiana, and Alabama with 39 electoral votes and over 1,000,000 popular votes. The party ended shortly after.\",\n",
              "  'instruction': 'Learn about the Dixiecrat party and its impact on the United States.'},\n",
              " {'system_message_ext': 'You write text using Simple English.',\n",
              "  'prompt_ext': 'Write an instruction which is simple, concise, and easy to understand.',\n",
              "  'article': 'Paul William Henning (September 16, 1911 – March 25, 2005) was an American producer and screenwriter. He was known for creating The Beverly Hillbillies. He also helped create Petticoat Junction (1963–1970) and Green Acres (1965–1971) for CBS. He was one of the staff writers for George Burns. Henning was born in Independence, Missouri. Henning died on March 25, 2005 in Burbank, California at the age of 93.',\n",
              "  'instruction': 'Write a brief biography of Paul William Henning.'},\n",
              " {'system_message_ext': 'You write text using Simple English.',\n",
              "  'prompt_ext': 'Write an instruction which is simple, concise, and easy to understand.',\n",
              "  'article': 'A natural arch is a natural rock formation where an arch has formed with an opening under the arch. It is also called a natural bridge, or (less commonly) rock arch. Natural arches commonly form where inland cliffs, coastal cliffs, fins or stacks are eroded by the sea, rivers or weathering. Most natural arches are formed from narrow fins and sea stacks that is made up of sandstone or limestone. Rocks Landforms',\n",
              "  'instruction': 'X: How are natural arches formed?'},\n",
              " {'system_message_ext': 'You write text using Simple English.',\n",
              "  'prompt_ext': 'Write an instruction which is simple, concise, and easy to understand.',\n",
              "  'article': 'Briarcliff is a city in the US state of Arkansas. Cities in Arkansas',\n",
              "  'instruction': 'Provide information about Briarcliff, a city in Arkansas.'},\n",
              " {'system_message_ext': 'You write text using Simple English.',\n",
              "  'prompt_ext': 'Write an instruction in the style of ELI5.',\n",
              "  'article': 'Avengers: Age of Ultron is an action-thriller superhero movie. It premiered in Los Angeles on April 13, 2015, and was released on May 1, 2015, in North America. It was first revealed in May 2012, after The Avengers was released. On August 6, 2012, director Joss Whedon announced on Twitter that principal photography was complete. Two sequel movies were released: Avengers: Infinity War in 2018, and Avengers: Endgame in 2019. Release dates',\n",
              "  'instruction': 'Instruction: Explain the background and release dates of the movie \"Avengers: Age of Ultron\" in simple terms.'},\n",
              " {'system_message_ext': 'You write text using Simple English.',\n",
              "  'prompt_ext': 'Write an instruction in the style of ELI5.',\n",
              "  'article': \"The Dixiecrat (also called The States' Rights Democratic Party) was a political party in the United States that was around for a very short time. The Dixiecrats did not agree with civil rights and wanted more states' rights. They were in the Southern United States. In 1948 they left the Democratic Party and formed their party. They met in Birmingham, Alabama and nominated Governor of South Carolina Strom Thurmond for 1948 United States presidential election. In the election they won the U.S states of South Carolina, Mississippi, Louisiana, and Alabama with 39 electoral votes and over 1,000,000 popular votes. The party ended shortly after.\",\n",
              "  'instruction': 'ELI5: Can you explain the history and significance of the Dixiecrat party in the United States?'},\n",
              " {'system_message_ext': 'You write text using Simple English.',\n",
              "  'prompt_ext': 'Write an instruction in the style of ELI5.',\n",
              "  'article': 'Paul William Henning (September 16, 1911 – March 25, 2005) was an American producer and screenwriter. He was known for creating The Beverly Hillbillies. He also helped create Petticoat Junction (1963–1970) and Green Acres (1965–1971) for CBS. He was one of the staff writers for George Burns. Henning was born in Independence, Missouri. Henning died on March 25, 2005 in Burbank, California at the age of 93.',\n",
              "  'instruction': 'X: Explain who Paul William Henning was and what he is known for in a simple way.'},\n",
              " {'system_message_ext': 'You write text using Simple English.',\n",
              "  'prompt_ext': 'Write an instruction in the style of ELI5.',\n",
              "  'article': 'A natural arch is a natural rock formation where an arch has formed with an opening under the arch. It is also called a natural bridge, or (less commonly) rock arch. Natural arches commonly form where inland cliffs, coastal cliffs, fins or stacks are eroded by the sea, rivers or weathering. Most natural arches are formed from narrow fins and sea stacks that is made up of sandstone or limestone. Rocks Landforms',\n",
              "  'instruction': 'ELI5: Can you explain how natural arches are formed?'},\n",
              " {'system_message_ext': 'You write text using Simple English.',\n",
              "  'prompt_ext': 'Write an instruction in the style of ELI5.',\n",
              "  'article': 'Briarcliff is a city in the US state of Arkansas. Cities in Arkansas',\n",
              "  'instruction': 'ELI5: Can you explain what Briarcliff is and where it is located in Arkansas?'},\n",
              " {'system_message_ext': 'You write text that is simple, concise, and easy to understand.',\n",
              "  'prompt_ext': 'default',\n",
              "  'article': 'Avengers: Age of Ultron is an action-thriller superhero movie. It premiered in Los Angeles on April 13, 2015, and was released on May 1, 2015, in North America. It was first revealed in May 2012, after The Avengers was released. On August 6, 2012, director Joss Whedon announced on Twitter that principal photography was complete. Two sequel movies were released: Avengers: Infinity War in 2018, and Avengers: Endgame in 2019. Release dates',\n",
              "  'instruction': 'X: Learn about the movie \"Avengers: Age of Ultron\" and its release dates.'},\n",
              " {'system_message_ext': 'You write text that is simple, concise, and easy to understand.',\n",
              "  'prompt_ext': 'default',\n",
              "  'article': \"The Dixiecrat (also called The States' Rights Democratic Party) was a political party in the United States that was around for a very short time. The Dixiecrats did not agree with civil rights and wanted more states' rights. They were in the Southern United States. In 1948 they left the Democratic Party and formed their party. They met in Birmingham, Alabama and nominated Governor of South Carolina Strom Thurmond for 1948 United States presidential election. In the election they won the U.S states of South Carolina, Mississippi, Louisiana, and Alabama with 39 electoral votes and over 1,000,000 popular votes. The party ended shortly after.\",\n",
              "  'instruction': 'X: Learn about the Dixiecrat party in the United States.'},\n",
              " {'system_message_ext': 'You write text that is simple, concise, and easy to understand.',\n",
              "  'prompt_ext': 'default',\n",
              "  'article': 'Paul William Henning (September 16, 1911 – March 25, 2005) was an American producer and screenwriter. He was known for creating The Beverly Hillbillies. He also helped create Petticoat Junction (1963–1970) and Green Acres (1965–1971) for CBS. He was one of the staff writers for George Burns. Henning was born in Independence, Missouri. Henning died on March 25, 2005 in Burbank, California at the age of 93.',\n",
              "  'instruction': 'X: Learn about Paul William Henning, an American producer and screenwriter known for creating The Beverly Hillbillies, Petticoat Junction, and Green Acres.'},\n",
              " {'system_message_ext': 'You write text that is simple, concise, and easy to understand.',\n",
              "  'prompt_ext': 'default',\n",
              "  'article': 'A natural arch is a natural rock formation where an arch has formed with an opening under the arch. It is also called a natural bridge, or (less commonly) rock arch. Natural arches commonly form where inland cliffs, coastal cliffs, fins or stacks are eroded by the sea, rivers or weathering. Most natural arches are formed from narrow fins and sea stacks that is made up of sandstone or limestone. Rocks Landforms',\n",
              "  'instruction': 'X: Learn about natural arches and how they are formed.'},\n",
              " {'system_message_ext': 'You write text that is simple, concise, and easy to understand.',\n",
              "  'prompt_ext': 'default',\n",
              "  'article': 'Briarcliff is a city in the US state of Arkansas. Cities in Arkansas',\n",
              "  'instruction': 'X: \"Provide a brief description of Briarcliff, Arkansas.\"'},\n",
              " {'system_message_ext': 'You write text that is simple, concise, and easy to understand.',\n",
              "  'prompt_ext': 'Write the instruction using Simple English.',\n",
              "  'article': 'Avengers: Age of Ultron is an action-thriller superhero movie. It premiered in Los Angeles on April 13, 2015, and was released on May 1, 2015, in North America. It was first revealed in May 2012, after The Avengers was released. On August 6, 2012, director Joss Whedon announced on Twitter that principal photography was complete. Two sequel movies were released: Avengers: Infinity War in 2018, and Avengers: Endgame in 2019. Release dates',\n",
              "  'instruction': 'X: Provide a brief overview of the movie \"Avengers: Age of Ultron\" including its release date and information about its sequels.'},\n",
              " {'system_message_ext': 'You write text that is simple, concise, and easy to understand.',\n",
              "  'prompt_ext': 'Write the instruction using Simple English.',\n",
              "  'article': \"The Dixiecrat (also called The States' Rights Democratic Party) was a political party in the United States that was around for a very short time. The Dixiecrats did not agree with civil rights and wanted more states' rights. They were in the Southern United States. In 1948 they left the Democratic Party and formed their party. They met in Birmingham, Alabama and nominated Governor of South Carolina Strom Thurmond for 1948 United States presidential election. In the election they won the U.S states of South Carolina, Mississippi, Louisiana, and Alabama with 39 electoral votes and over 1,000,000 popular votes. The party ended shortly after.\",\n",
              "  'instruction': 'X: Explain the history and significance of the Dixiecrat party in the United States.'},\n",
              " {'system_message_ext': 'You write text that is simple, concise, and easy to understand.',\n",
              "  'prompt_ext': 'Write the instruction using Simple English.',\n",
              "  'article': 'Paul William Henning (September 16, 1911 – March 25, 2005) was an American producer and screenwriter. He was known for creating The Beverly Hillbillies. He also helped create Petticoat Junction (1963–1970) and Green Acres (1965–1971) for CBS. He was one of the staff writers for George Burns. Henning was born in Independence, Missouri. Henning died on March 25, 2005 in Burbank, California at the age of 93.',\n",
              "  'instruction': 'X: Write a brief biography of Paul William Henning.'},\n",
              " {'system_message_ext': 'You write text that is simple, concise, and easy to understand.',\n",
              "  'prompt_ext': 'Write the instruction using Simple English.',\n",
              "  'article': 'A natural arch is a natural rock formation where an arch has formed with an opening under the arch. It is also called a natural bridge, or (less commonly) rock arch. Natural arches commonly form where inland cliffs, coastal cliffs, fins or stacks are eroded by the sea, rivers or weathering. Most natural arches are formed from narrow fins and sea stacks that is made up of sandstone or limestone. Rocks Landforms',\n",
              "  'instruction': 'Identify and describe the characteristics of a natural arch.'},\n",
              " {'system_message_ext': 'You write text that is simple, concise, and easy to understand.',\n",
              "  'prompt_ext': 'Write the instruction using Simple English.',\n",
              "  'article': 'Briarcliff is a city in the US state of Arkansas. Cities in Arkansas',\n",
              "  'instruction': 'X: Identify the location of Briarcliff.'},\n",
              " {'system_message_ext': 'You write text that is simple, concise, and easy to understand.',\n",
              "  'prompt_ext': 'Write an instruction which is simple, concise, and easy to understand.',\n",
              "  'article': 'Avengers: Age of Ultron is an action-thriller superhero movie. It premiered in Los Angeles on April 13, 2015, and was released on May 1, 2015, in North America. It was first revealed in May 2012, after The Avengers was released. On August 6, 2012, director Joss Whedon announced on Twitter that principal photography was complete. Two sequel movies were released: Avengers: Infinity War in 2018, and Avengers: Endgame in 2019. Release dates',\n",
              "  'instruction': 'X: Learn about the movie Avengers: Age of Ultron and its release dates.'},\n",
              " {'system_message_ext': 'You write text that is simple, concise, and easy to understand.',\n",
              "  'prompt_ext': 'Write an instruction which is simple, concise, and easy to understand.',\n",
              "  'article': \"The Dixiecrat (also called The States' Rights Democratic Party) was a political party in the United States that was around for a very short time. The Dixiecrats did not agree with civil rights and wanted more states' rights. They were in the Southern United States. In 1948 they left the Democratic Party and formed their party. They met in Birmingham, Alabama and nominated Governor of South Carolina Strom Thurmond for 1948 United States presidential election. In the election they won the U.S states of South Carolina, Mississippi, Louisiana, and Alabama with 39 electoral votes and over 1,000,000 popular votes. The party ended shortly after.\",\n",
              "  'instruction': 'X: Write a brief summary of the Dixiecrat political party in the United States.'},\n",
              " {'system_message_ext': 'You write text that is simple, concise, and easy to understand.',\n",
              "  'prompt_ext': 'Write an instruction which is simple, concise, and easy to understand.',\n",
              "  'article': 'Paul William Henning (September 16, 1911 – March 25, 2005) was an American producer and screenwriter. He was known for creating The Beverly Hillbillies. He also helped create Petticoat Junction (1963–1970) and Green Acres (1965–1971) for CBS. He was one of the staff writers for George Burns. Henning was born in Independence, Missouri. Henning died on March 25, 2005 in Burbank, California at the age of 93.',\n",
              "  'instruction': 'X: Learn about Paul William Henning, an American producer and screenwriter known for creating The Beverly Hillbillies, Petticoat Junction, and Green Acres. He was born on September 16, 1911, in Independence, Missouri, and passed away on March 25, 2005, in Burbank, California, at the age of 93.'},\n",
              " {'system_message_ext': 'You write text that is simple, concise, and easy to understand.',\n",
              "  'prompt_ext': 'Write an instruction which is simple, concise, and easy to understand.',\n",
              "  'article': 'A natural arch is a natural rock formation where an arch has formed with an opening under the arch. It is also called a natural bridge, or (less commonly) rock arch. Natural arches commonly form where inland cliffs, coastal cliffs, fins or stacks are eroded by the sea, rivers or weathering. Most natural arches are formed from narrow fins and sea stacks that is made up of sandstone or limestone. Rocks Landforms',\n",
              "  'instruction': 'Identify and describe the characteristics of a natural arch.'},\n",
              " {'system_message_ext': 'You write text that is simple, concise, and easy to understand.',\n",
              "  'prompt_ext': 'Write an instruction which is simple, concise, and easy to understand.',\n",
              "  'article': 'Briarcliff is a city in the US state of Arkansas. Cities in Arkansas',\n",
              "  'instruction': 'X: Provide a brief description of Briarcliff, a city in Arkansas.'},\n",
              " {'system_message_ext': 'You write text that is simple, concise, and easy to understand.',\n",
              "  'prompt_ext': 'Write an instruction in the style of ELI5.',\n",
              "  'article': 'Avengers: Age of Ultron is an action-thriller superhero movie. It premiered in Los Angeles on April 13, 2015, and was released on May 1, 2015, in North America. It was first revealed in May 2012, after The Avengers was released. On August 6, 2012, director Joss Whedon announced on Twitter that principal photography was complete. Two sequel movies were released: Avengers: Infinity War in 2018, and Avengers: Endgame in 2019. Release dates',\n",
              "  'instruction': 'X: Explain the background and release dates of the movie Avengers: Age of Ultron.'},\n",
              " {'system_message_ext': 'You write text that is simple, concise, and easy to understand.',\n",
              "  'prompt_ext': 'Write an instruction in the style of ELI5.',\n",
              "  'article': \"The Dixiecrat (also called The States' Rights Democratic Party) was a political party in the United States that was around for a very short time. The Dixiecrats did not agree with civil rights and wanted more states' rights. They were in the Southern United States. In 1948 they left the Democratic Party and formed their party. They met in Birmingham, Alabama and nominated Governor of South Carolina Strom Thurmond for 1948 United States presidential election. In the election they won the U.S states of South Carolina, Mississippi, Louisiana, and Alabama with 39 electoral votes and over 1,000,000 popular votes. The party ended shortly after.\",\n",
              "  'instruction': 'ELI5: Explain the Dixiecrat party and what happened to it.'},\n",
              " {'system_message_ext': 'You write text that is simple, concise, and easy to understand.',\n",
              "  'prompt_ext': 'Write an instruction in the style of ELI5.',\n",
              "  'article': 'Paul William Henning (September 16, 1911 – March 25, 2005) was an American producer and screenwriter. He was known for creating The Beverly Hillbillies. He also helped create Petticoat Junction (1963–1970) and Green Acres (1965–1971) for CBS. He was one of the staff writers for George Burns. Henning was born in Independence, Missouri. Henning died on March 25, 2005 in Burbank, California at the age of 93.',\n",
              "  'instruction': 'X: Explain who Paul William Henning was and what he is known for.'},\n",
              " {'system_message_ext': 'You write text that is simple, concise, and easy to understand.',\n",
              "  'prompt_ext': 'Write an instruction in the style of ELI5.',\n",
              "  'article': 'A natural arch is a natural rock formation where an arch has formed with an opening under the arch. It is also called a natural bridge, or (less commonly) rock arch. Natural arches commonly form where inland cliffs, coastal cliffs, fins or stacks are eroded by the sea, rivers or weathering. Most natural arches are formed from narrow fins and sea stacks that is made up of sandstone or limestone. Rocks Landforms',\n",
              "  'instruction': 'ELI5: Explain what a natural arch is and how it forms.'},\n",
              " {'system_message_ext': 'You write text that is simple, concise, and easy to understand.',\n",
              "  'prompt_ext': 'Write an instruction in the style of ELI5.',\n",
              "  'article': 'Briarcliff is a city in the US state of Arkansas. Cities in Arkansas',\n",
              "  'instruction': 'Explain what Briarcliff is and where it is located.'},\n",
              " {'system_message_ext': 'You write text using the style of ELI5.',\n",
              "  'prompt_ext': 'default',\n",
              "  'article': 'Avengers: Age of Ultron is an action-thriller superhero movie. It premiered in Los Angeles on April 13, 2015, and was released on May 1, 2015, in North America. It was first revealed in May 2012, after The Avengers was released. On August 6, 2012, director Joss Whedon announced on Twitter that principal photography was complete. Two sequel movies were released: Avengers: Infinity War in 2018, and Avengers: Endgame in 2019. Release dates',\n",
              "  'instruction': 'X: What is Avengers: Age of Ultron and when was it released?'},\n",
              " {'system_message_ext': 'You write text using the style of ELI5.',\n",
              "  'prompt_ext': 'default',\n",
              "  'article': \"The Dixiecrat (also called The States' Rights Democratic Party) was a political party in the United States that was around for a very short time. The Dixiecrats did not agree with civil rights and wanted more states' rights. They were in the Southern United States. In 1948 they left the Democratic Party and formed their party. They met in Birmingham, Alabama and nominated Governor of South Carolina Strom Thurmond for 1948 United States presidential election. In the election they won the U.S states of South Carolina, Mississippi, Louisiana, and Alabama with 39 electoral votes and over 1,000,000 popular votes. The party ended shortly after.\",\n",
              "  'instruction': 'X: Explain the history and significance of the Dixiecrat party in the United States.'},\n",
              " {'system_message_ext': 'You write text using the style of ELI5.',\n",
              "  'prompt_ext': 'default',\n",
              "  'article': 'Paul William Henning (September 16, 1911 – March 25, 2005) was an American producer and screenwriter. He was known for creating The Beverly Hillbillies. He also helped create Petticoat Junction (1963–1970) and Green Acres (1965–1971) for CBS. He was one of the staff writers for George Burns. Henning was born in Independence, Missouri. Henning died on March 25, 2005 in Burbank, California at the age of 93.',\n",
              "  'instruction': 'X: Who was Paul William Henning and what were his contributions to television?'},\n",
              " {'system_message_ext': 'You write text using the style of ELI5.',\n",
              "  'prompt_ext': 'default',\n",
              "  'article': 'A natural arch is a natural rock formation where an arch has formed with an opening under the arch. It is also called a natural bridge, or (less commonly) rock arch. Natural arches commonly form where inland cliffs, coastal cliffs, fins or stacks are eroded by the sea, rivers or weathering. Most natural arches are formed from narrow fins and sea stacks that is made up of sandstone or limestone. Rocks Landforms',\n",
              "  'instruction': 'X: Explain what a natural arch is and how it is formed.'},\n",
              " {'system_message_ext': 'You write text using the style of ELI5.',\n",
              "  'prompt_ext': 'default',\n",
              "  'article': 'Briarcliff is a city in the US state of Arkansas. Cities in Arkansas',\n",
              "  'instruction': 'X: \"Can you provide some information about Briarcliff, Arkansas?\"'},\n",
              " {'system_message_ext': 'You write text using the style of ELI5.',\n",
              "  'prompt_ext': 'Write the instruction using Simple English.',\n",
              "  'article': 'Avengers: Age of Ultron is an action-thriller superhero movie. It premiered in Los Angeles on April 13, 2015, and was released on May 1, 2015, in North America. It was first revealed in May 2012, after The Avengers was released. On August 6, 2012, director Joss Whedon announced on Twitter that principal photography was complete. Two sequel movies were released: Avengers: Infinity War in 2018, and Avengers: Endgame in 2019. Release dates',\n",
              "  'instruction': 'X: Explain the background and release information of the movie \"Avengers: Age of Ultron\".'},\n",
              " {'system_message_ext': 'You write text using the style of ELI5.',\n",
              "  'prompt_ext': 'Write the instruction using Simple English.',\n",
              "  'article': \"The Dixiecrat (also called The States' Rights Democratic Party) was a political party in the United States that was around for a very short time. The Dixiecrats did not agree with civil rights and wanted more states' rights. They were in the Southern United States. In 1948 they left the Democratic Party and formed their party. They met in Birmingham, Alabama and nominated Governor of South Carolina Strom Thurmond for 1948 United States presidential election. In the election they won the U.S states of South Carolina, Mississippi, Louisiana, and Alabama with 39 electoral votes and over 1,000,000 popular votes. The party ended shortly after.\",\n",
              "  'instruction': 'Explain the history and significance of the Dixiecrat party in the United States.'},\n",
              " {'system_message_ext': 'You write text using the style of ELI5.',\n",
              "  'prompt_ext': 'Write the instruction using Simple English.',\n",
              "  'article': 'Paul William Henning (September 16, 1911 – March 25, 2005) was an American producer and screenwriter. He was known for creating The Beverly Hillbillies. He also helped create Petticoat Junction (1963–1970) and Green Acres (1965–1971) for CBS. He was one of the staff writers for George Burns. Henning was born in Independence, Missouri. Henning died on March 25, 2005 in Burbank, California at the age of 93.',\n",
              "  'instruction': 'X: Explain who Paul William Henning was and what he was known for.'},\n",
              " {'system_message_ext': 'You write text using the style of ELI5.',\n",
              "  'prompt_ext': 'Write the instruction using Simple English.',\n",
              "  'article': 'A natural arch is a natural rock formation where an arch has formed with an opening under the arch. It is also called a natural bridge, or (less commonly) rock arch. Natural arches commonly form where inland cliffs, coastal cliffs, fins or stacks are eroded by the sea, rivers or weathering. Most natural arches are formed from narrow fins and sea stacks that is made up of sandstone or limestone. Rocks Landforms',\n",
              "  'instruction': 'X: Explain what a natural arch is and how it is formed.'},\n",
              " {'system_message_ext': 'You write text using the style of ELI5.',\n",
              "  'prompt_ext': 'Write the instruction using Simple English.',\n",
              "  'article': 'Briarcliff is a city in the US state of Arkansas. Cities in Arkansas',\n",
              "  'instruction': 'X: Explain what Briarcliff is and its location in Arkansas.'},\n",
              " {'system_message_ext': 'You write text using the style of ELI5.',\n",
              "  'prompt_ext': 'Write an instruction which is simple, concise, and easy to understand.',\n",
              "  'article': 'Avengers: Age of Ultron is an action-thriller superhero movie. It premiered in Los Angeles on April 13, 2015, and was released on May 1, 2015, in North America. It was first revealed in May 2012, after The Avengers was released. On August 6, 2012, director Joss Whedon announced on Twitter that principal photography was complete. Two sequel movies were released: Avengers: Infinity War in 2018, and Avengers: Endgame in 2019. Release dates',\n",
              "  'instruction': 'X: Explain the background and release dates of the movie \"Avengers: Age of Ultron\".'},\n",
              " {'system_message_ext': 'You write text using the style of ELI5.',\n",
              "  'prompt_ext': 'Write an instruction which is simple, concise, and easy to understand.',\n",
              "  'article': \"The Dixiecrat (also called The States' Rights Democratic Party) was a political party in the United States that was around for a very short time. The Dixiecrats did not agree with civil rights and wanted more states' rights. They were in the Southern United States. In 1948 they left the Democratic Party and formed their party. They met in Birmingham, Alabama and nominated Governor of South Carolina Strom Thurmond for 1948 United States presidential election. In the election they won the U.S states of South Carolina, Mississippi, Louisiana, and Alabama with 39 electoral votes and over 1,000,000 popular votes. The party ended shortly after.\",\n",
              "  'instruction': 'X: Explain the history and significance of the Dixiecrat party in the United States.'},\n",
              " {'system_message_ext': 'You write text using the style of ELI5.',\n",
              "  'prompt_ext': 'Write an instruction which is simple, concise, and easy to understand.',\n",
              "  'article': 'Paul William Henning (September 16, 1911 – March 25, 2005) was an American producer and screenwriter. He was known for creating The Beverly Hillbillies. He also helped create Petticoat Junction (1963–1970) and Green Acres (1965–1971) for CBS. He was one of the staff writers for George Burns. Henning was born in Independence, Missouri. Henning died on March 25, 2005 in Burbank, California at the age of 93.',\n",
              "  'instruction': 'X: Learn about the life and contributions of Paul William Henning.'},\n",
              " {'system_message_ext': 'You write text using the style of ELI5.',\n",
              "  'prompt_ext': 'Write an instruction which is simple, concise, and easy to understand.',\n",
              "  'article': 'A natural arch is a natural rock formation where an arch has formed with an opening under the arch. It is also called a natural bridge, or (less commonly) rock arch. Natural arches commonly form where inland cliffs, coastal cliffs, fins or stacks are eroded by the sea, rivers or weathering. Most natural arches are formed from narrow fins and sea stacks that is made up of sandstone or limestone. Rocks Landforms',\n",
              "  'instruction': 'How to identify and understand natural arches'},\n",
              " {'system_message_ext': 'You write text using the style of ELI5.',\n",
              "  'prompt_ext': 'Write an instruction which is simple, concise, and easy to understand.',\n",
              "  'article': 'Briarcliff is a city in the US state of Arkansas. Cities in Arkansas',\n",
              "  'instruction': 'X: Explain what Briarcliff is and where it is located.'},\n",
              " {'system_message_ext': 'You write text using the style of ELI5.',\n",
              "  'prompt_ext': 'Write an instruction in the style of ELI5.',\n",
              "  'article': 'Avengers: Age of Ultron is an action-thriller superhero movie. It premiered in Los Angeles on April 13, 2015, and was released on May 1, 2015, in North America. It was first revealed in May 2012, after The Avengers was released. On August 6, 2012, director Joss Whedon announced on Twitter that principal photography was complete. Two sequel movies were released: Avengers: Infinity War in 2018, and Avengers: Endgame in 2019. Release dates',\n",
              "  'instruction': 'ELI5: Can you explain the background and release dates of the Avengers movie series?'},\n",
              " {'system_message_ext': 'You write text using the style of ELI5.',\n",
              "  'prompt_ext': 'Write an instruction in the style of ELI5.',\n",
              "  'article': \"The Dixiecrat (also called The States' Rights Democratic Party) was a political party in the United States that was around for a very short time. The Dixiecrats did not agree with civil rights and wanted more states' rights. They were in the Southern United States. In 1948 they left the Democratic Party and formed their party. They met in Birmingham, Alabama and nominated Governor of South Carolina Strom Thurmond for 1948 United States presidential election. In the election they won the U.S states of South Carolina, Mississippi, Louisiana, and Alabama with 39 electoral votes and over 1,000,000 popular votes. The party ended shortly after.\",\n",
              "  'instruction': 'ELI5: What was the Dixiecrat party and why did it only last for a short time?'},\n",
              " {'system_message_ext': 'You write text using the style of ELI5.',\n",
              "  'prompt_ext': 'Write an instruction in the style of ELI5.',\n",
              "  'article': 'Paul William Henning (September 16, 1911 – March 25, 2005) was an American producer and screenwriter. He was known for creating The Beverly Hillbillies. He also helped create Petticoat Junction (1963–1970) and Green Acres (1965–1971) for CBS. He was one of the staff writers for George Burns. Henning was born in Independence, Missouri. Henning died on March 25, 2005 in Burbank, California at the age of 93.',\n",
              "  'instruction': 'X: Explain who Paul William Henning was and what he is known for in a simple way.'},\n",
              " {'system_message_ext': 'You write text using the style of ELI5.',\n",
              "  'prompt_ext': 'Write an instruction in the style of ELI5.',\n",
              "  'article': 'A natural arch is a natural rock formation where an arch has formed with an opening under the arch. It is also called a natural bridge, or (less commonly) rock arch. Natural arches commonly form where inland cliffs, coastal cliffs, fins or stacks are eroded by the sea, rivers or weathering. Most natural arches are formed from narrow fins and sea stacks that is made up of sandstone or limestone. Rocks Landforms',\n",
              "  'instruction': 'ELI5: How do natural arches form?'},\n",
              " {'system_message_ext': 'You write text using the style of ELI5.',\n",
              "  'prompt_ext': 'Write an instruction in the style of ELI5.',\n",
              "  'article': 'Briarcliff is a city in the US state of Arkansas. Cities in Arkansas',\n",
              "  'instruction': 'X: Explain what Briarcliff is and where it is located in the US state of Arkansas.'}]"
            ]
          },
          "execution_count": 55,
          "metadata": {},
          "output_type": "execute_result"
        }
      ],
      "source": [
        "instruct_samples"
      ]
    },
    {
      "cell_type": "code",
      "execution_count": null,
      "metadata": {
        "id": "aRQII0fGBMcS"
      },
      "outputs": [],
      "source": []
    }
  ],
  "metadata": {
    "colab": {
      "collapsed_sections": [
        "XW-LivoDXXC1",
        "3P-xqCRBZf-0",
        "f4VPxsPa50qM",
        "QfQI2fQyzd4m",
        "MJ0_eTw3zDuz",
        "eKUjG6o01Sb9",
        "vo_-sXsCTjkS",
        "-1woShvdUyg3",
        "WJkB2hr0e2AP"
      ],
      "provenance": []
    },
    "kernelspec": {
      "display_name": "Python 3",
      "name": "python3"
    },
    "language_info": {
      "name": "python"
    }
  },
  "nbformat": 4,
  "nbformat_minor": 0
}