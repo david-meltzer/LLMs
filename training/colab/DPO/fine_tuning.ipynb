{
  "nbformat": 4,
  "nbformat_minor": 0,
  "metadata": {
    "colab": {
      "provenance": [],
      "collapsed_sections": [
        "Y_mY2ukfYJzb",
        "SxLEixWQrnBE"
      ],
      "machine_shape": "hm",
      "authorship_tag": "ABX9TyM3eizY+o/FCQsV0d9yyO5H",
      "include_colab_link": true
    },
    "kernelspec": {
      "name": "python3",
      "display_name": "Python 3"
    },
    "language_info": {
      "name": "python"
    },
    "widgets": {
      "application/vnd.jupyter.widget-state+json": {
        "252f408bb06c4b8fb7f79c55c00d6d8a": {
          "model_module": "@jupyter-widgets/controls",
          "model_name": "VBoxModel",
          "model_module_version": "1.5.0",
          "state": {
            "_dom_classes": [],
            "_model_module": "@jupyter-widgets/controls",
            "_model_module_version": "1.5.0",
            "_model_name": "VBoxModel",
            "_view_count": null,
            "_view_module": "@jupyter-widgets/controls",
            "_view_module_version": "1.5.0",
            "_view_name": "VBoxView",
            "box_style": "",
            "children": [
              "IPY_MODEL_b0e9698b30b3499ab4bcaef72b17a2a5",
              "IPY_MODEL_16d250635c8d474684b03236986f77ff",
              "IPY_MODEL_ee1268dbd429470eb64c8e1b71edeb2d",
              "IPY_MODEL_30068b5e4152417e8b5ed4c0147fb4a4",
              "IPY_MODEL_2a18086e891348dd9405dcfea4eac9a6"
            ],
            "layout": "IPY_MODEL_73799a30281e4a4e88206efc142b264f"
          }
        },
        "b0e9698b30b3499ab4bcaef72b17a2a5": {
          "model_module": "@jupyter-widgets/controls",
          "model_name": "HTMLModel",
          "model_module_version": "1.5.0",
          "state": {
            "_dom_classes": [],
            "_model_module": "@jupyter-widgets/controls",
            "_model_module_version": "1.5.0",
            "_model_name": "HTMLModel",
            "_view_count": null,
            "_view_module": "@jupyter-widgets/controls",
            "_view_module_version": "1.5.0",
            "_view_name": "HTMLView",
            "description": "",
            "description_tooltip": null,
            "layout": "IPY_MODEL_434a8abad1b34469b7f45c87250ad46e",
            "placeholder": "​",
            "style": "IPY_MODEL_0fde01af54b044728e741b529e6c7a85",
            "value": "<center> <img\nsrc=https://huggingface.co/front/assets/huggingface_logo-noborder.svg\nalt='Hugging Face'> <br> Copy a token from <a\nhref=\"https://huggingface.co/settings/tokens\" target=\"_blank\">your Hugging Face\ntokens page</a> and paste it below. <br> Immediately click login after copying\nyour token or it might be stored in plain text in this notebook file. </center>"
          }
        },
        "16d250635c8d474684b03236986f77ff": {
          "model_module": "@jupyter-widgets/controls",
          "model_name": "PasswordModel",
          "model_module_version": "1.5.0",
          "state": {
            "_dom_classes": [],
            "_model_module": "@jupyter-widgets/controls",
            "_model_module_version": "1.5.0",
            "_model_name": "PasswordModel",
            "_view_count": null,
            "_view_module": "@jupyter-widgets/controls",
            "_view_module_version": "1.5.0",
            "_view_name": "PasswordView",
            "continuous_update": true,
            "description": "Token:",
            "description_tooltip": null,
            "disabled": false,
            "layout": "IPY_MODEL_81672f7a126744bda5ca08ce423e5a80",
            "placeholder": "​",
            "style": "IPY_MODEL_53344463d1b94becb33f2c4002b6b428",
            "value": ""
          }
        },
        "ee1268dbd429470eb64c8e1b71edeb2d": {
          "model_module": "@jupyter-widgets/controls",
          "model_name": "CheckboxModel",
          "model_module_version": "1.5.0",
          "state": {
            "_dom_classes": [],
            "_model_module": "@jupyter-widgets/controls",
            "_model_module_version": "1.5.0",
            "_model_name": "CheckboxModel",
            "_view_count": null,
            "_view_module": "@jupyter-widgets/controls",
            "_view_module_version": "1.5.0",
            "_view_name": "CheckboxView",
            "description": "Add token as git credential?",
            "description_tooltip": null,
            "disabled": false,
            "indent": true,
            "layout": "IPY_MODEL_a4420e1067f84409b6fa628fa32300ab",
            "style": "IPY_MODEL_35e00d734e234ab4ab74ef20b1bea105",
            "value": true
          }
        },
        "30068b5e4152417e8b5ed4c0147fb4a4": {
          "model_module": "@jupyter-widgets/controls",
          "model_name": "ButtonModel",
          "model_module_version": "1.5.0",
          "state": {
            "_dom_classes": [],
            "_model_module": "@jupyter-widgets/controls",
            "_model_module_version": "1.5.0",
            "_model_name": "ButtonModel",
            "_view_count": null,
            "_view_module": "@jupyter-widgets/controls",
            "_view_module_version": "1.5.0",
            "_view_name": "ButtonView",
            "button_style": "",
            "description": "Login",
            "disabled": false,
            "icon": "",
            "layout": "IPY_MODEL_9caf91b4093348838133b87ee5ce0ff4",
            "style": "IPY_MODEL_9de8719494b7429cb69be5ae55fe0fbd",
            "tooltip": ""
          }
        },
        "2a18086e891348dd9405dcfea4eac9a6": {
          "model_module": "@jupyter-widgets/controls",
          "model_name": "HTMLModel",
          "model_module_version": "1.5.0",
          "state": {
            "_dom_classes": [],
            "_model_module": "@jupyter-widgets/controls",
            "_model_module_version": "1.5.0",
            "_model_name": "HTMLModel",
            "_view_count": null,
            "_view_module": "@jupyter-widgets/controls",
            "_view_module_version": "1.5.0",
            "_view_name": "HTMLView",
            "description": "",
            "description_tooltip": null,
            "layout": "IPY_MODEL_4c57c07320ef42b5b7629bb3c328efcf",
            "placeholder": "​",
            "style": "IPY_MODEL_5f09c0e2d2cb4e5ba749a9d3b139983e",
            "value": "\n<b>Pro Tip:</b> If you don't already have one, you can create a dedicated\n'notebooks' token with 'write' access, that you can then easily reuse for all\nnotebooks. </center>"
          }
        },
        "73799a30281e4a4e88206efc142b264f": {
          "model_module": "@jupyter-widgets/base",
          "model_name": "LayoutModel",
          "model_module_version": "1.2.0",
          "state": {
            "_model_module": "@jupyter-widgets/base",
            "_model_module_version": "1.2.0",
            "_model_name": "LayoutModel",
            "_view_count": null,
            "_view_module": "@jupyter-widgets/base",
            "_view_module_version": "1.2.0",
            "_view_name": "LayoutView",
            "align_content": null,
            "align_items": "center",
            "align_self": null,
            "border": null,
            "bottom": null,
            "display": "flex",
            "flex": null,
            "flex_flow": "column",
            "grid_area": null,
            "grid_auto_columns": null,
            "grid_auto_flow": null,
            "grid_auto_rows": null,
            "grid_column": null,
            "grid_gap": null,
            "grid_row": null,
            "grid_template_areas": null,
            "grid_template_columns": null,
            "grid_template_rows": null,
            "height": null,
            "justify_content": null,
            "justify_items": null,
            "left": null,
            "margin": null,
            "max_height": null,
            "max_width": null,
            "min_height": null,
            "min_width": null,
            "object_fit": null,
            "object_position": null,
            "order": null,
            "overflow": null,
            "overflow_x": null,
            "overflow_y": null,
            "padding": null,
            "right": null,
            "top": null,
            "visibility": null,
            "width": "50%"
          }
        },
        "434a8abad1b34469b7f45c87250ad46e": {
          "model_module": "@jupyter-widgets/base",
          "model_name": "LayoutModel",
          "model_module_version": "1.2.0",
          "state": {
            "_model_module": "@jupyter-widgets/base",
            "_model_module_version": "1.2.0",
            "_model_name": "LayoutModel",
            "_view_count": null,
            "_view_module": "@jupyter-widgets/base",
            "_view_module_version": "1.2.0",
            "_view_name": "LayoutView",
            "align_content": null,
            "align_items": null,
            "align_self": null,
            "border": null,
            "bottom": null,
            "display": null,
            "flex": null,
            "flex_flow": null,
            "grid_area": null,
            "grid_auto_columns": null,
            "grid_auto_flow": null,
            "grid_auto_rows": null,
            "grid_column": null,
            "grid_gap": null,
            "grid_row": null,
            "grid_template_areas": null,
            "grid_template_columns": null,
            "grid_template_rows": null,
            "height": null,
            "justify_content": null,
            "justify_items": null,
            "left": null,
            "margin": null,
            "max_height": null,
            "max_width": null,
            "min_height": null,
            "min_width": null,
            "object_fit": null,
            "object_position": null,
            "order": null,
            "overflow": null,
            "overflow_x": null,
            "overflow_y": null,
            "padding": null,
            "right": null,
            "top": null,
            "visibility": null,
            "width": null
          }
        },
        "0fde01af54b044728e741b529e6c7a85": {
          "model_module": "@jupyter-widgets/controls",
          "model_name": "DescriptionStyleModel",
          "model_module_version": "1.5.0",
          "state": {
            "_model_module": "@jupyter-widgets/controls",
            "_model_module_version": "1.5.0",
            "_model_name": "DescriptionStyleModel",
            "_view_count": null,
            "_view_module": "@jupyter-widgets/base",
            "_view_module_version": "1.2.0",
            "_view_name": "StyleView",
            "description_width": ""
          }
        },
        "81672f7a126744bda5ca08ce423e5a80": {
          "model_module": "@jupyter-widgets/base",
          "model_name": "LayoutModel",
          "model_module_version": "1.2.0",
          "state": {
            "_model_module": "@jupyter-widgets/base",
            "_model_module_version": "1.2.0",
            "_model_name": "LayoutModel",
            "_view_count": null,
            "_view_module": "@jupyter-widgets/base",
            "_view_module_version": "1.2.0",
            "_view_name": "LayoutView",
            "align_content": null,
            "align_items": null,
            "align_self": null,
            "border": null,
            "bottom": null,
            "display": null,
            "flex": null,
            "flex_flow": null,
            "grid_area": null,
            "grid_auto_columns": null,
            "grid_auto_flow": null,
            "grid_auto_rows": null,
            "grid_column": null,
            "grid_gap": null,
            "grid_row": null,
            "grid_template_areas": null,
            "grid_template_columns": null,
            "grid_template_rows": null,
            "height": null,
            "justify_content": null,
            "justify_items": null,
            "left": null,
            "margin": null,
            "max_height": null,
            "max_width": null,
            "min_height": null,
            "min_width": null,
            "object_fit": null,
            "object_position": null,
            "order": null,
            "overflow": null,
            "overflow_x": null,
            "overflow_y": null,
            "padding": null,
            "right": null,
            "top": null,
            "visibility": null,
            "width": null
          }
        },
        "53344463d1b94becb33f2c4002b6b428": {
          "model_module": "@jupyter-widgets/controls",
          "model_name": "DescriptionStyleModel",
          "model_module_version": "1.5.0",
          "state": {
            "_model_module": "@jupyter-widgets/controls",
            "_model_module_version": "1.5.0",
            "_model_name": "DescriptionStyleModel",
            "_view_count": null,
            "_view_module": "@jupyter-widgets/base",
            "_view_module_version": "1.2.0",
            "_view_name": "StyleView",
            "description_width": ""
          }
        },
        "a4420e1067f84409b6fa628fa32300ab": {
          "model_module": "@jupyter-widgets/base",
          "model_name": "LayoutModel",
          "model_module_version": "1.2.0",
          "state": {
            "_model_module": "@jupyter-widgets/base",
            "_model_module_version": "1.2.0",
            "_model_name": "LayoutModel",
            "_view_count": null,
            "_view_module": "@jupyter-widgets/base",
            "_view_module_version": "1.2.0",
            "_view_name": "LayoutView",
            "align_content": null,
            "align_items": null,
            "align_self": null,
            "border": null,
            "bottom": null,
            "display": null,
            "flex": null,
            "flex_flow": null,
            "grid_area": null,
            "grid_auto_columns": null,
            "grid_auto_flow": null,
            "grid_auto_rows": null,
            "grid_column": null,
            "grid_gap": null,
            "grid_row": null,
            "grid_template_areas": null,
            "grid_template_columns": null,
            "grid_template_rows": null,
            "height": null,
            "justify_content": null,
            "justify_items": null,
            "left": null,
            "margin": null,
            "max_height": null,
            "max_width": null,
            "min_height": null,
            "min_width": null,
            "object_fit": null,
            "object_position": null,
            "order": null,
            "overflow": null,
            "overflow_x": null,
            "overflow_y": null,
            "padding": null,
            "right": null,
            "top": null,
            "visibility": null,
            "width": null
          }
        },
        "35e00d734e234ab4ab74ef20b1bea105": {
          "model_module": "@jupyter-widgets/controls",
          "model_name": "DescriptionStyleModel",
          "model_module_version": "1.5.0",
          "state": {
            "_model_module": "@jupyter-widgets/controls",
            "_model_module_version": "1.5.0",
            "_model_name": "DescriptionStyleModel",
            "_view_count": null,
            "_view_module": "@jupyter-widgets/base",
            "_view_module_version": "1.2.0",
            "_view_name": "StyleView",
            "description_width": ""
          }
        },
        "9caf91b4093348838133b87ee5ce0ff4": {
          "model_module": "@jupyter-widgets/base",
          "model_name": "LayoutModel",
          "model_module_version": "1.2.0",
          "state": {
            "_model_module": "@jupyter-widgets/base",
            "_model_module_version": "1.2.0",
            "_model_name": "LayoutModel",
            "_view_count": null,
            "_view_module": "@jupyter-widgets/base",
            "_view_module_version": "1.2.0",
            "_view_name": "LayoutView",
            "align_content": null,
            "align_items": null,
            "align_self": null,
            "border": null,
            "bottom": null,
            "display": null,
            "flex": null,
            "flex_flow": null,
            "grid_area": null,
            "grid_auto_columns": null,
            "grid_auto_flow": null,
            "grid_auto_rows": null,
            "grid_column": null,
            "grid_gap": null,
            "grid_row": null,
            "grid_template_areas": null,
            "grid_template_columns": null,
            "grid_template_rows": null,
            "height": null,
            "justify_content": null,
            "justify_items": null,
            "left": null,
            "margin": null,
            "max_height": null,
            "max_width": null,
            "min_height": null,
            "min_width": null,
            "object_fit": null,
            "object_position": null,
            "order": null,
            "overflow": null,
            "overflow_x": null,
            "overflow_y": null,
            "padding": null,
            "right": null,
            "top": null,
            "visibility": null,
            "width": null
          }
        },
        "9de8719494b7429cb69be5ae55fe0fbd": {
          "model_module": "@jupyter-widgets/controls",
          "model_name": "ButtonStyleModel",
          "model_module_version": "1.5.0",
          "state": {
            "_model_module": "@jupyter-widgets/controls",
            "_model_module_version": "1.5.0",
            "_model_name": "ButtonStyleModel",
            "_view_count": null,
            "_view_module": "@jupyter-widgets/base",
            "_view_module_version": "1.2.0",
            "_view_name": "StyleView",
            "button_color": null,
            "font_weight": ""
          }
        },
        "4c57c07320ef42b5b7629bb3c328efcf": {
          "model_module": "@jupyter-widgets/base",
          "model_name": "LayoutModel",
          "model_module_version": "1.2.0",
          "state": {
            "_model_module": "@jupyter-widgets/base",
            "_model_module_version": "1.2.0",
            "_model_name": "LayoutModel",
            "_view_count": null,
            "_view_module": "@jupyter-widgets/base",
            "_view_module_version": "1.2.0",
            "_view_name": "LayoutView",
            "align_content": null,
            "align_items": null,
            "align_self": null,
            "border": null,
            "bottom": null,
            "display": null,
            "flex": null,
            "flex_flow": null,
            "grid_area": null,
            "grid_auto_columns": null,
            "grid_auto_flow": null,
            "grid_auto_rows": null,
            "grid_column": null,
            "grid_gap": null,
            "grid_row": null,
            "grid_template_areas": null,
            "grid_template_columns": null,
            "grid_template_rows": null,
            "height": null,
            "justify_content": null,
            "justify_items": null,
            "left": null,
            "margin": null,
            "max_height": null,
            "max_width": null,
            "min_height": null,
            "min_width": null,
            "object_fit": null,
            "object_position": null,
            "order": null,
            "overflow": null,
            "overflow_x": null,
            "overflow_y": null,
            "padding": null,
            "right": null,
            "top": null,
            "visibility": null,
            "width": null
          }
        },
        "5f09c0e2d2cb4e5ba749a9d3b139983e": {
          "model_module": "@jupyter-widgets/controls",
          "model_name": "DescriptionStyleModel",
          "model_module_version": "1.5.0",
          "state": {
            "_model_module": "@jupyter-widgets/controls",
            "_model_module_version": "1.5.0",
            "_model_name": "DescriptionStyleModel",
            "_view_count": null,
            "_view_module": "@jupyter-widgets/base",
            "_view_module_version": "1.2.0",
            "_view_name": "StyleView",
            "description_width": ""
          }
        }
      }
    }
  },
  "cells": [
    {
      "cell_type": "markdown",
      "metadata": {
        "id": "view-in-github",
        "colab_type": "text"
      },
      "source": [
        "<a href=\"https://colab.research.google.com/github/david-meltzer/LLMs/blob/main/training/colab/DPO/fine_tuning.ipynb\" target=\"_parent\"><img src=\"https://colab.research.google.com/assets/colab-badge.svg\" alt=\"Open In Colab\"/></a>"
      ]
    },
    {
      "cell_type": "markdown",
      "source": [
        "# Dependencies"
      ],
      "metadata": {
        "id": "Y_mY2ukfYJzb"
      }
    },
    {
      "cell_type": "code",
      "source": [
        "from google.colab import drive\n",
        "drive.mount('/content/drive')\n",
        "\n",
        "%cd drive/MyDrive/LLMs/Fine-tuning/DPO"
      ],
      "metadata": {
        "colab": {
          "base_uri": "https://localhost:8080/"
        },
        "id": "2idjfG7ZI6RH",
        "outputId": "234f1ec7-a6eb-47ed-b4cc-cd6bcd346d88"
      },
      "execution_count": 1,
      "outputs": [
        {
          "output_type": "stream",
          "name": "stdout",
          "text": [
            "Drive already mounted at /content/drive; to attempt to forcibly remount, call drive.mount(\"/content/drive\", force_remount=True).\n",
            "/content/drive/MyDrive/LLMs/Fine-tuning/DPO\n"
          ]
        }
      ]
    },
    {
      "cell_type": "code",
      "source": [
        "!pip install peft==0.4.0 -qqq\n",
        "!pip install bitsandbytes==0.41.1 -qqq\n",
        "!pip install safetensors>=0.3.1 -qqq\n",
        "#!pip install -U trl\n",
        "!pip install wandb -qqq\n",
        "!pip install tokenizers>=0.13.3 -qqq\n",
        "!pip install -U transformers -qqq\n",
        "!pip install accelerate==0.21.0 -qqq\n",
        "!pip install git+https://github.com/huggingface/trl -qqq"
      ],
      "metadata": {
        "id": "uz57zzb1JAvE",
        "colab": {
          "base_uri": "https://localhost:8080/"
        },
        "outputId": "a0d89867-35f9-41fb-89f1-9cf5c453d304"
      },
      "execution_count": 2,
      "outputs": [
        {
          "output_type": "stream",
          "name": "stdout",
          "text": [
            "  Preparing metadata (setup.py) ... \u001b[?25l\u001b[?25hdone\n"
          ]
        }
      ]
    },
    {
      "cell_type": "code",
      "source": [
        "import os\n",
        "#from dataclasses import dataclass, field\n",
        "#from typing import Optional\n",
        "\n",
        "import warnings\n",
        "from collections import defaultdict\n",
        "from typing import Any, Callable, Dict, List, Literal, Optional, Tuple, Union\n",
        "\n",
        "import torch\n",
        "import torch.nn as nn\n",
        "import torch.nn.functional as F\n",
        "import datasets\n",
        "from datasets import Dataset, load_dataset\n",
        "import transformers\n",
        "from transformers import (AutoTokenizer,\n",
        "                          AutoModelForCausalLM,\n",
        "                          DataCollator,\n",
        "                          PreTrainedModel,\n",
        "                          PreTrainedTokenizerBase,\n",
        "                          Trainer,\n",
        "                          TrainingArguments,\n",
        "                          DataCollatorForLanguageModeling,\n",
        "                          BitsAndBytesConfig)\n",
        "\n",
        "from transformers.trainer_callback import TrainerCallback\n",
        "\n",
        "import gc\n",
        "\n",
        "import os\n",
        "from google.colab import runtime\n",
        "import pandas as pd\n",
        "\n",
        "import accelerate\n",
        "import bitsandbytes as bnb\n",
        "import wandb\n",
        "from peft import (LoraConfig,\n",
        "                  get_peft_model,\n",
        "                  prepare_model_for_kbit_training,\n",
        "                  PeftModel,\n",
        "                  PeftConfig)\n",
        "from trl import SFTTrainer, DataCollatorForCompletionOnlyLM\n",
        "from datetime import datetime\n",
        "from huggingface_hub import login\n",
        "\n",
        "from peft.tuners.lora import LoraLayer\n",
        "\n",
        "from tqdm import tqdm\n",
        "\n",
        "import trl\n",
        "from trl import DPOTrainer\n",
        "from trl.models import create_reference_model\n",
        "from trl.import_utils import is_peft_available\n",
        "from trl.trainer.dpo_trainer import DPODataCollatorWithPadding, disable_dropout_in_model, pad_to_length\n",
        "\n",
        "from huggingface_hub import login"
      ],
      "metadata": {
        "id": "taUmo6IzJwAA",
        "colab": {
          "base_uri": "https://localhost:8080/"
        },
        "outputId": "c036dcbb-796f-4a47-98ed-9dfb2054ffd5"
      },
      "execution_count": 3,
      "outputs": [
        {
          "output_type": "stream",
          "name": "stderr",
          "text": [
            "/usr/local/lib/python3.10/dist-packages/bitsandbytes/cextension.py:34: UserWarning: The installed version of bitsandbytes was compiled without GPU support. 8-bit optimizers, 8-bit multiplication, and GPU quantization are unavailable.\n",
            "  warn(\"The installed version of bitsandbytes was compiled without GPU support. \"\n"
          ]
        },
        {
          "output_type": "stream",
          "name": "stdout",
          "text": [
            "/usr/local/lib/python3.10/dist-packages/bitsandbytes/libbitsandbytes_cpu.so: undefined symbol: cadam32bit_grad_fp32\n"
          ]
        }
      ]
    },
    {
      "cell_type": "code",
      "source": [
        "login()"
      ],
      "metadata": {
        "colab": {
          "base_uri": "https://localhost:8080/",
          "height": 0,
          "referenced_widgets": [
            "252f408bb06c4b8fb7f79c55c00d6d8a",
            "b0e9698b30b3499ab4bcaef72b17a2a5",
            "16d250635c8d474684b03236986f77ff",
            "ee1268dbd429470eb64c8e1b71edeb2d",
            "30068b5e4152417e8b5ed4c0147fb4a4",
            "2a18086e891348dd9405dcfea4eac9a6",
            "73799a30281e4a4e88206efc142b264f",
            "434a8abad1b34469b7f45c87250ad46e",
            "0fde01af54b044728e741b529e6c7a85",
            "81672f7a126744bda5ca08ce423e5a80",
            "53344463d1b94becb33f2c4002b6b428",
            "a4420e1067f84409b6fa628fa32300ab",
            "35e00d734e234ab4ab74ef20b1bea105",
            "9caf91b4093348838133b87ee5ce0ff4",
            "9de8719494b7429cb69be5ae55fe0fbd",
            "4c57c07320ef42b5b7629bb3c328efcf",
            "5f09c0e2d2cb4e5ba749a9d3b139983e"
          ]
        },
        "id": "n2ydzarhZ26M",
        "outputId": "035dba34-bd9d-49e5-d5f4-5307beed8949"
      },
      "execution_count": 4,
      "outputs": [
        {
          "output_type": "display_data",
          "data": {
            "text/plain": [
              "VBox(children=(HTML(value='<center> <img\\nsrc=https://huggingface.co/front/assets/huggingface_logo-noborder.sv…"
            ],
            "application/vnd.jupyter.widget-view+json": {
              "version_major": 2,
              "version_minor": 0,
              "model_id": "252f408bb06c4b8fb7f79c55c00d6d8a"
            }
          },
          "metadata": {}
        }
      ]
    },
    {
      "cell_type": "markdown",
      "source": [
        "# Definitions"
      ],
      "metadata": {
        "id": "L5E6-KAoKTGt"
      }
    },
    {
      "cell_type": "code",
      "source": [
        "def chars_token_ratio(dataset, tokenizer, nb_examples=400):\n",
        "    \"\"\"\n",
        "    Estimate the average number of characters per token in the dataset.\n",
        "    \"\"\"\n",
        "    total_characters, total_tokens = 0, 0\n",
        "    for _, example in tqdm(zip(range(nb_examples), iter(dataset)), total=nb_examples):\n",
        "        text = prepare_sample_text(example)\n",
        "        total_characters += len(text)\n",
        "        if tokenizer.is_fast:\n",
        "            total_tokens += len(tokenizer(text).tokens())\n",
        "        else:\n",
        "            total_tokens += len(tokenizer.tokenize(text))\n",
        "\n",
        "    return total_characters / total_tokens\n",
        "\n",
        "def prepare_sample_text(example):\n",
        "    \"\"\"Prepare the text from a sample of the dataset.\"\"\"\n",
        "    text = f\"### Human: {example['question']}\\n ### Assistant: {example['response_j']}\"\n",
        "    return text\n",
        "\n",
        "def formatting_prompts_func(example):\n",
        "    output_texts = []\n",
        "    for i in range(len(example['question'])):\n",
        "        text = f\"### Human: {example['question'][i]}\\n ### Assistant: {example['answer'][i]}\"\n",
        "        output_texts.append(text)\n",
        "    return output_texts\n",
        "\n",
        "\n",
        "def find_all_linear_names(model):\n",
        "    lora_module_names = set()\n",
        "    for name, module in model.named_modules():\n",
        "        if isinstance(module, bnb.nn.Linear4bit):\n",
        "            names = name.split(\".\")\n",
        "            lora_module_names.add(names[0] if len(names) == 1 else names[-1])\n",
        "\n",
        "    if \"lm_head\" in lora_module_names:  # needed for 16-bit\n",
        "        lora_module_names.remove(\"lm_head\")\n",
        "    return list(lora_module_names)\n",
        "\n",
        "\n",
        "def create_peft_model(model,\n",
        "                      r=64,\n",
        "                      lora_alpha=16,\n",
        "                      lora_dropout=0.1,\n",
        "                      bias='none',\n",
        "                      task_type='CAUSAL_LM',\n",
        "                      gradient_checkpointing=True,\n",
        "                      bf16=True):\n",
        "\n",
        "    # prepare int-4 model for training\n",
        "    model = prepare_model_for_kbit_training(\n",
        "        model, use_gradient_checkpointing=gradient_checkpointing\n",
        "    )\n",
        "    if gradient_checkpointing:\n",
        "        model.gradient_checkpointing_enable()\n",
        "\n",
        "    # get lora target modules\n",
        "    modules = find_all_linear_names(model)\n",
        "    print(f\"Found {len(modules)} modules to quantize: {modules}\")\n",
        "\n",
        "    peft_config = LoraConfig(\n",
        "        r=r,\n",
        "        lora_alpha=lora_alpha,\n",
        "        target_modules=modules,\n",
        "        lora_dropout=lora_dropout,\n",
        "        bias=bias,\n",
        "        task_type=task_type,\n",
        "    )\n",
        "\n",
        "    model = get_peft_model(model, peft_config)\n",
        "\n",
        "    # pre-process the model by upcasting the layer norms in float 32 for\n",
        "    for name, module in model.named_modules():\n",
        "        if isinstance(module, LoraLayer):\n",
        "            if bf16:\n",
        "                module = module.to(torch.bfloat16)\n",
        "        if \"norm\" in name:\n",
        "            module = module.to(torch.float32)\n",
        "        if \"lm_head\" in name or \"embed_tokens\" in name:\n",
        "            if hasattr(module, \"weight\"):\n",
        "                if bf16 and module.weight.dtype == torch.float32:\n",
        "                    module = module.to(torch.bfloat16)\n",
        "\n",
        "    model.print_trainable_parameters()\n",
        "    return model\n",
        "\n",
        "class PeftSavingCallback(TrainerCallback):\n",
        "    def on_save(self, args, state, control, **kwargs):\n",
        "        checkpoint_path = os.path.join(args.output_dir, f\"checkpoint-{state.global_step}\")\n",
        "        kwargs[\"model\"].save_pretrained(checkpoint_path)\n",
        "\n",
        "        if \"pytorch_model.bin\" in os.listdir(checkpoint_path):\n",
        "            os.remove(os.path.join(checkpoint_path, \"pytorch_model.bin\"))"
      ],
      "metadata": {
        "id": "dsgrdnhAKUIw"
      },
      "execution_count": 5,
      "outputs": []
    },
    {
      "cell_type": "markdown",
      "source": [
        "# Dataset"
      ],
      "metadata": {
        "id": "SxLEixWQrnBE"
      }
    },
    {
      "cell_type": "code",
      "source": [
        "def chosen_rejected(example):\n",
        "    scores = example['answers.score']\n",
        "    answers = example['answers.text']\n",
        "\n",
        "    if scores[0]>scores[1]:\n",
        "        return {'chosen':answers[0],'rejected':answers[1]}\n",
        "    else:\n",
        "        return {'chosen':answers[1],'rejected':answers[0]}\n",
        "\n",
        "def format_prompt(example):\n",
        "    \"\"\"Prepare the text from a sample of the dataset.\"\"\"\n",
        "    text = f\"### Human: {example['title_body']}\\n ### Assistant:\"\n",
        "    return text"
      ],
      "metadata": {
        "id": "Grv6E566Sh5L"
      },
      "execution_count": 6,
      "outputs": []
    },
    {
      "cell_type": "code",
      "source": [
        "ds_RM = datasets.load_from_disk('../../ELI5_dataset/data/RM_non_toxic')\n",
        "features = list(ds_RM['train'].features)\n",
        "ds_RM = ds_RM.remove_columns([col for col in features if\n",
        "                             col not in ['answers.score',\n",
        "                                         'answers.text',\n",
        "                                         'title_body']])\n",
        "\n",
        "ds_RM_top_2 = ds_RM.map(lambda x:\n",
        " {'answers.score': x['answers.score'][:2]})\n",
        "\n",
        "ds_RM_top_2 = ds_RM_top_2.map(lambda x:\n",
        " {'answers.text': x['answers.text'][:2]})\n",
        "\n",
        "ds_RM_top_2 = ds_RM_top_2.rename_columns({'title_body':'question'})\n",
        "\n",
        "ds_RM_top_2 = ds_RM_top_2.map(lambda x:chosen_rejected(x))\n",
        "ds_RM_top_2 = ds_RM_top_2.remove_columns(['answers.score',\n",
        "                                          'answers.text'])"
      ],
      "metadata": {
        "id": "y0rBYXBEPCuS"
      },
      "execution_count": 7,
      "outputs": []
    },
    {
      "cell_type": "markdown",
      "source": [
        "# Training\n"
      ],
      "metadata": {
        "id": "PF_5-ihmYYEj"
      }
    },
    {
      "cell_type": "code",
      "source": [
        "model_name = 'meta-llama/Llama-2-7b-hf'\n",
        "peft_model_id = 'dhmeltzer/Llama-2-7b-hf-wiki-no-group-by-length_r_64_alpha_16'\n",
        "\n",
        "from peft import AutoPeftModelForCausalLM\n",
        "peft_model = AutoPeftModelForCausalLM.from_pretrained(peft_model_id)\n",
        "#config = PeftConfig.from_pretrained(peft_model_id)\n",
        "#\n",
        "#model = AutoModelForCausalLM.from_pretrained(config.base_model_name_or_path)\n",
        "#model = PeftModel.from_pretrained(model, peft_model_id)\n",
        "#tokenizer = AutoTokenizer.from_pretrained(config.base_model_name_or_path)"
      ],
      "metadata": {
        "id": "JnEtjrV7Y3o7"
      },
      "execution_count": null,
      "outputs": []
    },
    {
      "cell_type": "code",
      "source": [
        "model = peft_model.merge_and_unload()"
      ],
      "metadata": {
        "id": "ax4NmLO8gu1O"
      },
      "execution_count": 10,
      "outputs": []
    },
    {
      "cell_type": "code",
      "source": [
        "model = AutoPeftModelForCausalLM.from_pretrained(\n",
        "        peft_model_id,\n",
        "        low_cpu_mem_usage=True,\n",
        "        torch_dtype=torch.float16,\n",
        "        load_in_4bit=True,\n",
        "    )\n",
        "\n",
        "model = model.merge_and_unload()\n",
        "\n",
        "model.config.use_cache = False\n",
        "\n",
        "model_ref = AutoPeftModelForCausalLM.from_pretrained(\n",
        "        peft_model_id,\n",
        "        low_cpu_mem_usage=True,\n",
        "        torch_dtype=torch.float16,\n",
        "        load_in_4bit=True,\n",
        "    )\n",
        "\n",
        "model_ref = model_ref.merge_and_unload()\n",
        "\n",
        "tokenizer = AutoTokenizer.from_pretrained(\"meta-llama/Llama-2-7b-hf\")\n",
        "tokenizer.pad_token = tokenizer.eos_token"
      ],
      "metadata": {
        "id": "Zzzixk2hhO0S"
      },
      "execution_count": null,
      "outputs": []
    },
    {
      "cell_type": "code",
      "source": [
        "model"
      ],
      "metadata": {
        "id": "sKzfsfuhkiMV"
      },
      "execution_count": null,
      "outputs": []
    },
    {
      "cell_type": "code",
      "source": [
        "\n",
        "output_dir = './model/wiki_SFT_no_gl_DPO'\n",
        "\n",
        "training_args = TrainingArguments(\n",
        "        per_device_train_batch_size=8,\n",
        "        per_device_eval_batch_size=8,\n",
        "        max_steps=-1,\n",
        "        num_epochs = 3\n",
        "        logging_steps=100,\n",
        "        save_steps=.1,\n",
        "        gradient_accumulation_steps=16,\n",
        "        gradient_checkpointing=True,\n",
        "        learning_rate=2*10**-5,\n",
        "        evaluation_strategy=\"steps\",\n",
        "        eval_steps=.1,\n",
        "        output_dir=output_dir,\n",
        "        logging_dir=output_dir+'/logs'\n",
        "        report_to='wandb',\n",
        "        #lr_scheduler_type=script_args.lr_scheduler_type,\n",
        "        warmup_steps=0.05,\n",
        "        optim='paged_adamw_32bit',\n",
        "        bf16=True,\n",
        "        remove_unused_columns=False,\n",
        "        run_name=\"dpo_llama2_wiki_SFT_no_gl\",\n",
        "        load_best_model_at_end=True,\n",
        "        save_total_limit = 3,\n",
        "        remove_unused_columns=False,\n",
        "        disable_tqdm=False,)"
      ],
      "metadata": {
        "id": "w58SBHh8kiVm"
      },
      "execution_count": null,
      "outputs": []
    }
  ]
}